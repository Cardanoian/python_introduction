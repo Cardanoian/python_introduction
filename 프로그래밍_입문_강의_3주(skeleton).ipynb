{
  "nbformat": 4,
  "nbformat_minor": 0,
  "metadata": {
    "colab": {
      "provenance": [],
      "toc_visible": true
    },
    "kernelspec": {
      "name": "python3",
      "display_name": "Python 3"
    },
    "language_info": {
      "name": "python"
    }
  },
  "cells": [
    {
      "cell_type": "markdown",
      "source": [
        "# 파이썬의 Sequence 자료형"
      ],
      "metadata": {
        "id": "arga8mLIyv-a"
      }
    },
    {
      "cell_type": "markdown",
      "source": [
        "## 튜플(Tuple)\n",
        "- 리스트와 비슷하게 여러 자료를 저장할 수 있는 자료형.\n",
        "- 소괄호(())로 이루어진 자료형\n",
        "- 처음에 한 번 내용이 정해지면 수정, 삭제가 불가능."
      ],
      "metadata": {
        "id": "_HNuPsiptA7C"
      }
    },
    {
      "cell_type": "code",
      "source": [
        "# arr이라는 변수에 1, \"name\"이라는 원소를 갖는 tuple을 만들기\n",
        "\n",
        "\n",
        "\n",
        "# arr, arr[0], arr[1] 출력\n",
        "\n"
      ],
      "metadata": {
        "colab": {
          "base_uri": "https://localhost:8080/"
        },
        "id": "8J2AEothtLG7",
        "outputId": "756b242b-d672-420f-fbe1-6bf284f2617f"
      },
      "execution_count": null,
      "outputs": [
        {
          "output_type": "stream",
          "name": "stdout",
          "text": [
            "(1, 'name')\n",
            "1\n",
            "name\n"
          ]
        }
      ]
    },
    {
      "cell_type": "markdown",
      "source": [
        "### list -> tuple 로 바꾸기"
      ],
      "metadata": {
        "id": "xnoTiTjNUP5z"
      }
    },
    {
      "cell_type": "code",
      "source": [
        "arr_list = [1, \"name\"]\n",
        "\n",
        "# arr이라는 변수에 arr_list를 tuple로 바꿔 할당하기\n",
        "\n",
        "\n",
        "# arr, arr[0], arr[1] 출력\n",
        "\n"
      ],
      "metadata": {
        "colab": {
          "base_uri": "https://localhost:8080/"
        },
        "id": "hD0v5kTxtoW1",
        "outputId": "e1da5d63-3eb9-4d03-f2b8-57f7ef98ee31"
      },
      "execution_count": null,
      "outputs": [
        {
          "output_type": "stream",
          "name": "stdout",
          "text": [
            "(1, 'name')\n",
            "1\n",
            "name\n"
          ]
        }
      ]
    },
    {
      "cell_type": "code",
      "source": [
        "# arr의 0번째 원소를 2로 변경해보기\n",
        "\n",
        "\n",
        "\n",
        "# TypeError: 'tuple' object does not support item assignment\n",
        "# tuple 은 값을 변경할 수 없다"
      ],
      "metadata": {
        "colab": {
          "base_uri": "https://localhost:8080/",
          "height": 184
        },
        "id": "znP9u-pltTeJ",
        "outputId": "bced62f2-ff68-4f79-8df5-a5c9f77e32d8"
      },
      "execution_count": null,
      "outputs": [
        {
          "output_type": "error",
          "ename": "TypeError",
          "evalue": "ignored",
          "traceback": [
            "\u001b[0;31m---------------------------------------------------------------------------\u001b[0m",
            "\u001b[0;31mTypeError\u001b[0m                                 Traceback (most recent call last)",
            "\u001b[0;32m<ipython-input-6-62b5aeea79c3>\u001b[0m in \u001b[0;36m<cell line: 1>\u001b[0;34m()\u001b[0m\n\u001b[0;32m----> 1\u001b[0;31m \u001b[0marr\u001b[0m\u001b[0;34m[\u001b[0m\u001b[0;36m0\u001b[0m\u001b[0;34m]\u001b[0m \u001b[0;34m=\u001b[0m \u001b[0;36m2\u001b[0m\u001b[0;34m\u001b[0m\u001b[0;34m\u001b[0m\u001b[0m\n\u001b[0m",
            "\u001b[0;31mTypeError\u001b[0m: 'tuple' object does not support item assignment"
          ]
        }
      ]
    },
    {
      "cell_type": "markdown",
      "source": [
        "## Packing, Unpacking"
      ],
      "metadata": {
        "id": "RoG-U35Ct-1K"
      }
    },
    {
      "cell_type": "markdown",
      "source": [
        "### Packing"
      ],
      "metadata": {
        "id": "9RNovExwuEdR"
      }
    },
    {
      "cell_type": "code",
      "source": [
        "# 여러 변수의 값을 할당할 때는 순서와 갯수가 맞게 한 줄에 여러개를 입력할 수 있다.\n",
        "# 한줄로 a, b, c 에 각각 1, 2, 3 할당하기\n",
        "\n",
        "\n",
        "# arr이라는 변수에 a, b, c의 값을 갖는 tuple을 할당하기\n",
        "\n",
        "\n",
        "# arr 출력하기\n",
        "\n"
      ],
      "metadata": {
        "colab": {
          "base_uri": "https://localhost:8080/"
        },
        "id": "0BhC0xJcuLGR",
        "outputId": "e01d4081-b908-47b2-a140-b37e9d7d1916"
      },
      "execution_count": null,
      "outputs": [
        {
          "output_type": "stream",
          "name": "stdout",
          "text": [
            "(1, 2, 3)\n"
          ]
        }
      ]
    },
    {
      "cell_type": "markdown",
      "source": [
        "### Unpacking"
      ],
      "metadata": {
        "id": "ihpqklFFuFkx"
      }
    },
    {
      "cell_type": "code",
      "source": [
        "# arr의 원소(1, 2, 3)를 순서대로 d, e, f 변수에 할당하기\n",
        "\n",
        "\n",
        "\n",
        "# d, e, f의 값 출력하기\n",
        "\n"
      ],
      "metadata": {
        "colab": {
          "base_uri": "https://localhost:8080/"
        },
        "id": "Ky23W842uK0B",
        "outputId": "9cb80c84-9661-43e2-ce1a-12693a66360c"
      },
      "execution_count": null,
      "outputs": [
        {
          "output_type": "stream",
          "name": "stdout",
          "text": [
            "d, e, f: 1, 2, 3\n"
          ]
        }
      ]
    },
    {
      "cell_type": "markdown",
      "source": [
        "### 고급 Unpacking"
      ],
      "metadata": {
        "id": "A-Vy8UTzvcS7"
      }
    },
    {
      "cell_type": "code",
      "source": [
        "# Unpacking할 때 몇개의 원소가 들어올 지 알 수 없을 경우 *(asterisk)를 활용하면 뒤에 남은 모든 원소를 받을 수 있다.\n",
        "# first 변수에 arr의 0번째 원소를 할당하고, 남은 원소들은 etc 원소에 할당하기\n",
        "\n",
        "\n",
        "# first와 etc의 값 출력하기\n",
        "\n"
      ],
      "metadata": {
        "colab": {
          "base_uri": "https://localhost:8080/"
        },
        "id": "q7R1VZH_vf0C",
        "outputId": "9c499d5e-8ed3-40e2-efdd-4d75e78b91fe"
      },
      "execution_count": null,
      "outputs": [
        {
          "output_type": "stream",
          "name": "stdout",
          "text": [
            "first: 1\n",
            "etc: [2, 3]\n"
          ]
        }
      ]
    },
    {
      "cell_type": "code",
      "source": [
        "# *(asterisk)가 붙은 함수는 받을 원소가 없으면 빈 list가 된다.\n",
        "# arr의 0번째 원소를 first 변수에, 1번째 원소를 second 변수에, 2번째 원소를 third 변수에, 남은 원소를 etc 변수에 할당하기\n",
        "\n",
        "\n",
        "# first, second, third, etc 변수의 값 출력해보기\n",
        "\n"
      ],
      "metadata": {
        "colab": {
          "base_uri": "https://localhost:8080/"
        },
        "id": "eYtAfDIxxFZo",
        "outputId": "621fd55d-6dd8-4fb9-d1e0-b6229046f022"
      },
      "execution_count": null,
      "outputs": [
        {
          "output_type": "stream",
          "name": "stdout",
          "text": [
            "first: 1\n",
            "second: 2\n",
            "third: 3\n",
            "etc: []\n"
          ]
        }
      ]
    },
    {
      "cell_type": "markdown",
      "source": [
        "## 세트(Set)\n",
        "- 수학의 집합\n",
        "- 원소가 중복될 수 없다.\n",
        "- 원소의 순서가 정해져 있지 않다.\n",
        "- {}로 감싼다고 set가 되지 않음!! (dictionary가 됨)\n",
        "- set를 만들 때는 set() 함수를 이용\n",
        "- list, dictionary, tuple 만큼 자주 사용되지 않는다.\n"
      ],
      "metadata": {
        "id": "m6jJ3RzOuhXB"
      }
    },
    {
      "cell_type": "code",
      "source": [
        "arr = [1, 2, 3, 1, 2, 3, 4, 5]\n",
        "\n",
        "# arr_set 이라는 변수에 arr을 set으로 바꾼 자료를 할당하기\n",
        "\n",
        "\n",
        "# arr_set 출력하여 원소 확인하기(중복이 제거되었는지)\n",
        "\n"
      ],
      "metadata": {
        "colab": {
          "base_uri": "https://localhost:8080/"
        },
        "id": "-L11YiN9uu_a",
        "outputId": "35f3c9e3-89c7-460e-d1e4-5993f20a4cb2"
      },
      "execution_count": null,
      "outputs": [
        {
          "output_type": "stream",
          "name": "stdout",
          "text": [
            "{1, 2, 3, 4, 5}\n"
          ]
        }
      ]
    },
    {
      "cell_type": "markdown",
      "source": [
        "## 딕셔너리(Dictionary)\n",
        "- 중괄호({})로 이루어진 자료형\n",
        "- key: value 형태의 쌍으로 이루어져 있다.\n",
        "- 예시. {\"name\": \"홍길동\", \"age\": 20}\n",
        "- 예시에서 \"name\", \"age\"는 key, \"홍길동\", 20은 value\n",
        "- 딕셔너리[key] 를 입력하면 key에 맞는 value 값을 호출할 수 있다."
      ],
      "metadata": {
        "id": "1a7M-a9mrJOz"
      }
    },
    {
      "cell_type": "code",
      "source": [
        "# 이름과 나이 입력받고, dictionary에 저장하기\n",
        "# name 변수에 문자열 자료형 이름을 입력받아 할당하기\n",
        "name = input(\"이름: \")\n",
        "\n",
        "# age 변수에 정수 자료형 나이를 입력받아 할당하기\n",
        "age = int(input(\"나이: \"))\n",
        "\n",
        "# person 변수에 해당 사람의 정보를 담는 딕셔너리를 할당\n",
        "# key 값으로는 \"name\", \"age\" 배정\n",
        "\n",
        "\n",
        "\n",
        "# person 딕셔너리 출력\n",
        "\n",
        "\n",
        "# 이름을 출력\n",
        "\n",
        "\n",
        "# 나이를 출력\n",
        "\n"
      ],
      "metadata": {
        "colab": {
          "base_uri": "https://localhost:8080/"
        },
        "id": "8NASrPthsIMh",
        "outputId": "ab04e429-9e77-47b2-9e70-26b1a3cd1bbf"
      },
      "execution_count": null,
      "outputs": [
        {
          "output_type": "stream",
          "name": "stdout",
          "text": [
            "이름: 홍길동\n",
            "나이: 20\n",
            "{'name': '홍길동', 'age': 20}\n",
            "이름: 홍길동\n",
            "나이: 20\n"
          ]
        }
      ]
    },
    {
      "cell_type": "markdown",
      "source": [
        "### dictionary methods\n",
        "- 딕셔너리.items()\n",
        "- 딕셔너리.keys()\n",
        "- 딕셔너리.values()\n",
        "- 딕셔너리.clear()"
      ],
      "metadata": {
        "id": "LNX6pLZnsIhT"
      }
    },
    {
      "cell_type": "code",
      "source": [
        "person =  {\"name\": \"홍길동\", \"age\": 20}\n",
        "\n",
        "# person의 key와 value를 쌍으로 출력하기\n",
        "\n",
        "\n",
        "# person의 key 값들 출력하기\n",
        "\n",
        "\n",
        "# person의 value 값들 출력하기\n",
        "\n",
        "\n",
        "# person 초기화하기\n",
        "\n",
        "\n",
        "# person의 key와 value를 쌍으로 출력하기\n"
      ],
      "metadata": {
        "colab": {
          "base_uri": "https://localhost:8080/"
        },
        "id": "hQDo4BJqsH7p",
        "outputId": "ac5d713a-9256-4acd-f9c4-9059f2d6d288"
      },
      "execution_count": null,
      "outputs": [
        {
          "output_type": "stream",
          "name": "stdout",
          "text": [
            "dict_items([('name', '홍길동'), ('age', 20)])\n",
            "dict_keys(['name', 'age'])\n",
            "dict_values(['홍길동', 20])\n",
            "dict_items([])\n"
          ]
        }
      ]
    },
    {
      "cell_type": "markdown",
      "source": [
        "# 반복문\n",
        "- while 문\n",
        "- for 문"
      ],
      "metadata": {
        "id": "fPdKokGyysVx"
      }
    },
    {
      "cell_type": "markdown",
      "source": [
        "## while\n",
        "- if문과 비슷하게 while 뒤에 조건을 적는다.\n",
        "- 조건이 True인 동안 들여쓰기 된 코드들이 반복된다.\n",
        "- 주로 특정 코드를 무한 반복할 때 쓰인다.\n",
        "  \n",
        "while 조건:  \n",
        "&emsp;실행할 코드들"
      ],
      "metadata": {
        "id": "j415mlcTmqTC"
      }
    },
    {
      "cell_type": "code",
      "source": [
        "# 1부터 n까지 수 출력하기\n",
        "# n이라는 변수에 정수 자료형으로 입력받기\n",
        "n = int(input())\n",
        "\n",
        "# 출력할 값을 표현할 변수 i에 초기값 1을 할당\n",
        "\n",
        "\n",
        "# 1부터 n까지 출력하기(while 활용)\n",
        "# i의 값 출력하기\n",
        "# i에 1 더하기\n",
        "\n",
        "\n"
      ],
      "metadata": {
        "colab": {
          "base_uri": "https://localhost:8080/"
        },
        "id": "JefMrqUHzw3a",
        "outputId": "cb286a07-e514-4818-98b7-cbb39f5c8a6b"
      },
      "execution_count": null,
      "outputs": [
        {
          "output_type": "stream",
          "name": "stdout",
          "text": [
            "10\n",
            "1\n",
            "2\n",
            "3\n",
            "4\n",
            "5\n",
            "6\n",
            "7\n",
            "8\n",
            "9\n",
            "10\n"
          ]
        }
      ]
    },
    {
      "cell_type": "code",
      "source": [
        "# 1부터 n까지 합 구하기\n",
        "# n이라는 변수에 정수 자료형으로 입력받기\n",
        "n = int(input())\n",
        "\n",
        "# 합을 저장할 변수 result에 0을 할당\n",
        "\n",
        "\n",
        "# 합계에 더해 줄 변수 i에 초기값 1을 할당\n",
        "\n",
        "\n",
        "# 1부터 n까지 출력하기(while 활용)\n",
        "# result에 i의 값 더하기\n",
        "# i의 크기 1 크게 만들기\n",
        "\n",
        "\n",
        "\n",
        "\n",
        "# 1~n까지 모든 수의 합을 계산한 result 변수 출력\n",
        "print(result)\n"
      ],
      "metadata": {
        "colab": {
          "base_uri": "https://localhost:8080/"
        },
        "id": "hZ7B3X5X01_y",
        "outputId": "f37cb9d4-e388-44f1-c39a-187f14e3939b"
      },
      "execution_count": null,
      "outputs": [
        {
          "output_type": "stream",
          "name": "stdout",
          "text": [
            "10\n",
            "55\n"
          ]
        }
      ]
    },
    {
      "cell_type": "code",
      "source": [
        "# 구구단 출력하기\n",
        "# 2 X 2 = 4\n",
        "# 앞 숫자는 변수 dan, 뒷 숫자는 i로 지정\n",
        "dan = 2\n",
        "i = 1\n",
        "\n",
        "# while문 활용하기\n",
        "# loop 마다 한 번씩 프린트 하고,\n",
        "# i의 값 1씩 증가시키기\n",
        "\n",
        "\n",
        "\n"
      ],
      "metadata": {
        "colab": {
          "base_uri": "https://localhost:8080/"
        },
        "id": "1h-ixruvnNZE",
        "outputId": "dc6e83b1-78f8-4eba-9285-a88fbf211ee5"
      },
      "execution_count": null,
      "outputs": [
        {
          "output_type": "stream",
          "name": "stdout",
          "text": [
            "2 X 1 = 2\n",
            "2 X 2 = 4\n",
            "2 X 3 = 6\n",
            "2 X 4 = 8\n",
            "2 X 5 = 10\n",
            "2 X 6 = 12\n",
            "2 X 7 = 14\n",
            "2 X 8 = 16\n",
            "2 X 9 = 18\n"
          ]
        }
      ]
    },
    {
      "cell_type": "code",
      "source": [
        "# 구구단 가로로 출력하기\n",
        "# print()함수에 ,end=\",  \"라고 하면 줄바꿈 대신 \", \"가 생긴다.\n",
        "# 2 X 2 = 4\n",
        "# 앞 숫자는 변수 dan, 뒷 숫자는 i로 지정\n",
        "dan = 2\n",
        "i = 1\n",
        "\n",
        "#while문 활용하기\n",
        "# loop 마다 한 번씩 프린트 하고,\n",
        "# i의 값 1씩 증가시키기\n",
        "# print() 함수에 매개변수 end=\", \" 입력하기\n",
        "\n",
        "\n",
        "\n"
      ],
      "metadata": {
        "colab": {
          "base_uri": "https://localhost:8080/"
        },
        "id": "Nlwairi0ndvW",
        "outputId": "87a46df9-f76b-4aa8-e2b5-416578211e4f"
      },
      "execution_count": null,
      "outputs": [
        {
          "output_type": "stream",
          "name": "stdout",
          "text": [
            "2 X 1 = 2, 2 X 2 = 4, 2 X 3 = 6, 2 X 4 = 8, 2 X 5 = 10, 2 X 6 = 12, 2 X 7 = 14, 2 X 8 = 16, 2 X 9 = 18, "
          ]
        }
      ]
    },
    {
      "cell_type": "code",
      "source": [
        "# 구구단 가로로 출력하기\n",
        "# 2단의 마지막인 2 X 9 = 18 뒤의 \",\"만 없애고 줄바꿈 하기\n",
        "# 2 X 2 = 4\n",
        "# 앞 숫자는 변수 dan, 뒷 숫자는 i로 지정\n",
        "dan = 2\n",
        "i = 1\n",
        "\n",
        "#while문 활용하기\n",
        "# loop 마다 한 번씩 프린트 하고,\n",
        "# i의 값 1씩 증가시키기\n",
        "# print() 함수에 매개변수 end=\", \" 입력하기\n",
        "\n",
        "\n",
        "\n",
        "\n"
      ],
      "metadata": {
        "colab": {
          "base_uri": "https://localhost:8080/"
        },
        "id": "W0KX22PInnpw",
        "outputId": "de709e29-45a3-441d-d264-c45889fab716"
      },
      "execution_count": null,
      "outputs": [
        {
          "output_type": "stream",
          "name": "stdout",
          "text": [
            "2 X 1 = 2, 2 X 2 = 4, 2 X 3 = 6, 2 X 4 = 8, 2 X 5 = 10, 2 X 6 = 12, 2 X 7 = 14, 2 X 8 = 16, 2 X 9 = 18\n"
          ]
        }
      ]
    },
    {
      "cell_type": "markdown",
      "source": [
        "### continue와 break\n",
        "- continue: 아래에 있는 코드를 실행하지 않고 다음 반복을 시행.\n",
        "- break: 반복문을 종료."
      ],
      "metadata": {
        "id": "n2P5kUwrqZ_i"
      }
    },
    {
      "cell_type": "code",
      "source": [
        "# 무한루프 만들기(while의 존재의 목적)\n",
        "# new_num이라는 변수에 숫자를 입력받아 짝수라면 num이라는 변수에 더하고 출력한다.\n",
        "# continue와 break를 사용하여 프로그램을 제작.\n",
        "# num의 값 0으로 초기화하며 변수 선언하기\n",
        "num = 0\n",
        "\n",
        "# 무한루프 시작\n",
        "\n",
        "\n",
        "    # 숫자를 입력받아 new_num 변수에 할당\n",
        "\n",
        "\n",
        "    # new_num이 0이라면 종료(break)\n",
        "\n",
        "\n",
        "\n",
        "    # new_num이 홀수라면 아래 코드 실행하지 않음(continue)\n",
        "\n",
        "\n",
        "\n",
        "    # new_num 값을 num에 더하고, num출력하기\n",
        "\n",
        "\n"
      ],
      "metadata": {
        "colab": {
          "base_uri": "https://localhost:8080/"
        },
        "id": "TNhEBQzklLTX",
        "outputId": "98710d67-9db6-4e5c-c1be-f64e24faf5bc"
      },
      "execution_count": null,
      "outputs": [
        {
          "name": "stdout",
          "output_type": "stream",
          "text": [
            "자연수 입력: 4\n",
            "num: 4\n",
            "자연수 입력: 3\n",
            "자연수 입력: 5\n",
            "자연수 입력: 1\n",
            "자연수 입력: 16\n",
            "num: 20\n",
            "자연수 입력: 108\n",
            "num: 128\n",
            "자연수 입력: 13907120\n",
            "num: 13907248\n",
            "자연수 입력: 0\n"
          ]
        }
      ]
    },
    {
      "cell_type": "markdown",
      "source": [
        "## for\n",
        "- for 뒤에 반복할 구간을 입력한다.\n",
        "- 구간의 처음부터 끝까지 반복한다.\n",
        "- 구간으로는 range()나, list, tuple 등 Sequence 자료형을 활용한다.\n",
        "- 횟수가 정해진 반복을 할 때는 대부분 for를 활용한다.\n",
        "  \n",
        "for 변수 in 구간:  \n",
        "&emsp;실행할 코드들"
      ],
      "metadata": {
        "id": "_kSAmLwCn-YD"
      }
    },
    {
      "cell_type": "code",
      "source": [
        "# 1부터 n까지 수 출력하기\n",
        "# n이라는 변수에 정수 자료형으로 입력받기\n",
        "n = int(input())\n",
        "\n",
        "# 1부터 n까지 출력하기(for, range 활용)\n",
        "# 임시 변수는 i로 사용\n",
        "\n",
        "\n"
      ],
      "metadata": {
        "colab": {
          "base_uri": "https://localhost:8080/"
        },
        "id": "UBNID2KtzdC6",
        "outputId": "08cec3ab-9eb8-4830-a30b-30ecf8819943"
      },
      "execution_count": null,
      "outputs": [
        {
          "output_type": "stream",
          "name": "stdout",
          "text": [
            "10\n",
            "1\n",
            "2\n",
            "3\n",
            "4\n",
            "5\n",
            "6\n",
            "7\n",
            "8\n",
            "9\n",
            "10\n"
          ]
        }
      ]
    },
    {
      "cell_type": "code",
      "source": [
        "# 1부터 n까지 합 구하기\n",
        "# n이라는 변수에 정수 자료형으로 입력받기\n",
        "n = int(input())\n",
        "\n",
        "# 합을 저장할 변수 result에 0을 할당\n",
        "\n",
        "\n",
        "# 1부터 n까지 출력하기(for, range 활용)\n",
        "# 임시 변수는 i로 사용\n",
        "\n",
        "\n",
        "\n",
        "# 1~n까지 모든 수의 합을 계산한 result 변수 출력\n",
        "\n"
      ],
      "metadata": {
        "colab": {
          "base_uri": "https://localhost:8080/"
        },
        "id": "U3JHuzRo1T66",
        "outputId": "3b11c1a4-10ac-4470-fef4-17a0ccdc21d4"
      },
      "execution_count": null,
      "outputs": [
        {
          "output_type": "stream",
          "name": "stdout",
          "text": [
            "19\n",
            "190\n"
          ]
        }
      ]
    },
    {
      "cell_type": "code",
      "source": [
        "# 구구단 출력하기\n",
        "\n",
        "# 2단\n",
        "dan = 2\n",
        "\n",
        "# for문 이용하기\n",
        "# 임시 변수 i의 범위는 1부터 9까지 range 함수 활용하기\n",
        "\n",
        "\n"
      ],
      "metadata": {
        "colab": {
          "base_uri": "https://localhost:8080/"
        },
        "id": "48s3kqetn7bE",
        "outputId": "85fa9cbf-8d0e-491b-e629-93ec365a04d6"
      },
      "execution_count": null,
      "outputs": [
        {
          "output_type": "stream",
          "name": "stdout",
          "text": [
            "2 X 1 = 2\n",
            "2 X 2 = 4\n",
            "2 X 3 = 6\n",
            "2 X 4 = 8\n",
            "2 X 5 = 10\n",
            "2 X 6 = 12\n",
            "2 X 7 = 14\n",
            "2 X 8 = 16\n",
            "2 X 9 = 18\n"
          ]
        }
      ]
    },
    {
      "cell_type": "code",
      "source": [
        "# 구구단 가로로 출력하기\n",
        "\n",
        "# 2단\n",
        "dan = 2\n",
        "\n",
        "# for문 이용하기\n",
        "# 임시 변수 i의 범위는 1부터 9까지 range 함수 활용하기\n",
        "# print() 함수에 매개변수 end=\", \" 입력하기\n",
        "\n",
        "\n"
      ],
      "metadata": {
        "colab": {
          "base_uri": "https://localhost:8080/"
        },
        "id": "Ws5yt-zvo3_L",
        "outputId": "9ffa9640-8df7-4685-f9a7-8432d64a556a"
      },
      "execution_count": null,
      "outputs": [
        {
          "output_type": "stream",
          "name": "stdout",
          "text": [
            "2 X 1 = 2, 2 X 2 = 4, 2 X 3 = 6, 2 X 4 = 8, 2 X 5 = 10, 2 X 6 = 12, 2 X 7 = 14, 2 X 8 = 16, 2 X 9 = 18, "
          ]
        }
      ]
    },
    {
      "cell_type": "code",
      "source": [
        "# 구구단 가로로 출력하기\n",
        "# 마지막인 2 X 9 = 18 뒤에 \",\" 없애고 줄바꿈 하기\n",
        "\n",
        "# 2단\n",
        "dan = 2\n",
        "\n",
        "# for문 이용하기\n",
        "# 임시 변수 i의 범위는 1부터 9까지 range 함수 활용하기\n",
        "# print() 함수에 매개변수 end=\", \" 입력하기\n",
        "# 2 X 9 = 18 에는 \", \" 입력되지 않도록 if 문 이용하기\n",
        "\n",
        "\n",
        "\n",
        "\n"
      ],
      "metadata": {
        "colab": {
          "base_uri": "https://localhost:8080/"
        },
        "id": "uAbqXoA4pBke",
        "outputId": "d31c735f-802e-4bfe-a9ee-af8a23d7189a"
      },
      "execution_count": null,
      "outputs": [
        {
          "output_type": "stream",
          "name": "stdout",
          "text": [
            "2 X 1 = 2, 2 X 2 = 4, 2 X 3 = 6, 2 X 4 = 8, 2 X 5 = 10, 2 X 6 = 12, 2 X 7 = 14, 2 X 8 = 16, 2 X 9 = 18\n"
          ]
        }
      ]
    },
    {
      "cell_type": "code",
      "source": [
        "# 구구단 홀수만 출력하기\n",
        "# continue 사용\n",
        "\n",
        "# 3단\n",
        "dan = 3\n",
        "\n",
        "# for문 이용하기\n",
        "# 임시 변수 i의 범위는 1부터 9까지 range 함수 활용하기\n",
        "# dan * i 가 짝수일 때는 출력하지 않기(continue 이용)\n",
        "\n",
        "\n",
        "\n",
        "\n",
        "\n"
      ],
      "metadata": {
        "colab": {
          "base_uri": "https://localhost:8080/"
        },
        "id": "1Pj_j-tIurmS",
        "outputId": "b2631b2d-975b-4b6f-c94e-e1ac47faaa85"
      },
      "execution_count": 1,
      "outputs": [
        {
          "output_type": "stream",
          "name": "stdout",
          "text": [
            "3 X 1 = 3\n",
            "3 X 3 = 9\n",
            "3 X 5 = 15\n",
            "3 X 7 = 21\n",
            "3 X 9 = 27\n"
          ]
        }
      ]
    },
    {
      "cell_type": "markdown",
      "source": [
        "### 2중 for 문 (난이도 ★★★★☆)"
      ],
      "metadata": {
        "id": "6onSy8ENpl-r"
      }
    },
    {
      "cell_type": "code",
      "source": [
        "# 구구단 1단 ~ 9단 모두 출력하기\n",
        "\n",
        "\n",
        "\n",
        "\n",
        "\n",
        "\n"
      ],
      "metadata": {
        "colab": {
          "base_uri": "https://localhost:8080/"
        },
        "id": "SJ6W_dc_pNfC",
        "outputId": "f2f947e2-9670-4f51-df2e-e5aac16446d2"
      },
      "execution_count": null,
      "outputs": [
        {
          "output_type": "stream",
          "name": "stdout",
          "text": [
            "1 X 1 =  1, 1 X 2 =  2, 1 X 3 =  3, 1 X 4 =  4, 1 X 5 =  5, 1 X 6 =  6, 1 X 7 =  7, 1 X 8 =  8, 1 X 9 =  9\n",
            "2 X 1 =  2, 2 X 2 =  4, 2 X 3 =  6, 2 X 4 =  8, 2 X 5 = 10, 2 X 6 = 12, 2 X 7 = 14, 2 X 8 = 16, 2 X 9 = 18\n",
            "3 X 1 =  3, 3 X 2 =  6, 3 X 3 =  9, 3 X 4 = 12, 3 X 5 = 15, 3 X 6 = 18, 3 X 7 = 21, 3 X 8 = 24, 3 X 9 = 27\n",
            "4 X 1 =  4, 4 X 2 =  8, 4 X 3 = 12, 4 X 4 = 16, 4 X 5 = 20, 4 X 6 = 24, 4 X 7 = 28, 4 X 8 = 32, 4 X 9 = 36\n",
            "5 X 1 =  5, 5 X 2 = 10, 5 X 3 = 15, 5 X 4 = 20, 5 X 5 = 25, 5 X 6 = 30, 5 X 7 = 35, 5 X 8 = 40, 5 X 9 = 45\n",
            "6 X 1 =  6, 6 X 2 = 12, 6 X 3 = 18, 6 X 4 = 24, 6 X 5 = 30, 6 X 6 = 36, 6 X 7 = 42, 6 X 8 = 48, 6 X 9 = 54\n",
            "7 X 1 =  7, 7 X 2 = 14, 7 X 3 = 21, 7 X 4 = 28, 7 X 5 = 35, 7 X 6 = 42, 7 X 7 = 49, 7 X 8 = 56, 7 X 9 = 63\n",
            "8 X 1 =  8, 8 X 2 = 16, 8 X 3 = 24, 8 X 4 = 32, 8 X 5 = 40, 8 X 6 = 48, 8 X 7 = 56, 8 X 8 = 64, 8 X 9 = 72\n",
            "9 X 1 =  9, 9 X 2 = 18, 9 X 3 = 27, 9 X 4 = 36, 9 X 5 = 45, 9 X 6 = 54, 9 X 7 = 63, 9 X 8 = 72, 9 X 9 = 81\n"
          ]
        }
      ]
    },
    {
      "cell_type": "code",
      "source": [
        "# 구구단 1단 ~ 9단 중 홀수만 모두 출력하기\n",
        "\n",
        "\n",
        "\n",
        "\n",
        "\n",
        "\n",
        "\n",
        "\n"
      ],
      "metadata": {
        "colab": {
          "base_uri": "https://localhost:8080/"
        },
        "id": "gh5aRWJEu8ho",
        "outputId": "94a6eac3-4232-4da0-9085-354e395e2f73"
      },
      "execution_count": null,
      "outputs": [
        {
          "output_type": "stream",
          "name": "stdout",
          "text": [
            "1 X 1 =  1, 1 X 3 =  3, 1 X 5 =  5, 1 X 7 =  7, 1 X 9 =  9\n",
            "3 X 1 =  3, 3 X 3 =  9, 3 X 5 = 15, 3 X 7 = 21, 3 X 9 = 27\n",
            "5 X 1 =  5, 5 X 3 = 15, 5 X 5 = 25, 5 X 7 = 35, 5 X 9 = 45\n",
            "7 X 1 =  7, 7 X 3 = 21, 7 X 5 = 35, 7 X 7 = 49, 7 X 9 = 63\n",
            "9 X 1 =  9, 9 X 3 = 27, 9 X 5 = 45, 9 X 7 = 63, 9 X 9 = 81\n"
          ]
        }
      ]
    },
    {
      "cell_type": "code",
      "source": [
        "# 구구단 1단 ~ 9단 중 짝수만 모두 출력하기\n",
        "\n",
        "\n",
        "\n",
        "\n",
        "\n",
        "\n",
        "\n",
        "\n",
        "\n"
      ],
      "metadata": {
        "colab": {
          "base_uri": "https://localhost:8080/"
        },
        "id": "5nAJOiSbu5Kt",
        "outputId": "97af98b0-9d95-49dc-ec2a-0d943d747685"
      },
      "execution_count": null,
      "outputs": [
        {
          "output_type": "stream",
          "name": "stdout",
          "text": [
            "1 X 2 =  2, 1 X 4 =  4, 1 X 6 =  6, 1 X 8 =  8, \n",
            "2 X 1 =  2, 2 X 2 =  4, 2 X 3 =  6, 2 X 4 =  8, 2 X 5 = 10, 2 X 6 = 12, 2 X 7 = 14, 2 X 8 = 16, 2 X 9 = 18\n",
            "3 X 2 =  6, 3 X 4 = 12, 3 X 6 = 18, 3 X 8 = 24, \n",
            "4 X 1 =  4, 4 X 2 =  8, 4 X 3 = 12, 4 X 4 = 16, 4 X 5 = 20, 4 X 6 = 24, 4 X 7 = 28, 4 X 8 = 32, 4 X 9 = 36\n",
            "5 X 2 = 10, 5 X 4 = 20, 5 X 6 = 30, 5 X 8 = 40, \n",
            "6 X 1 =  6, 6 X 2 = 12, 6 X 3 = 18, 6 X 4 = 24, 6 X 5 = 30, 6 X 6 = 36, 6 X 7 = 42, 6 X 8 = 48, 6 X 9 = 54\n",
            "7 X 2 = 14, 7 X 4 = 28, 7 X 6 = 42, 7 X 8 = 56, \n",
            "8 X 1 =  8, 8 X 2 = 16, 8 X 3 = 24, 8 X 4 = 32, 8 X 5 = 40, 8 X 6 = 48, 8 X 7 = 56, 8 X 8 = 64, 8 X 9 = 72\n",
            "9 X 2 = 18, 9 X 4 = 36, 9 X 6 = 54, 9 X 8 = 72, \n"
          ]
        }
      ]
    },
    {
      "cell_type": "markdown",
      "source": [
        "## list를 활용한 반복문"
      ],
      "metadata": {
        "id": "DQ4kquDvaiUS"
      }
    },
    {
      "cell_type": "code",
      "source": [
        "# list에 있는 모든 숫자의 제곱을 구하고, 새로운 리스트에 저장하기\n",
        "# 예시 list입니다. 수정하지 마세요!\n",
        "numbers = [i for i in range(1, 21)]\n",
        "\n",
        "# 결과를 담을 리스트 result 선언하기\n",
        "\n",
        "\n",
        "# for문 활용해서 numbers 의 원소를 num이라는 임시 변수로 부르고,\n",
        "# 제곱한 값을 result에 삽입하기\n",
        "\n",
        "\n",
        "\n",
        "# result 출력하기\n",
        "print(result)"
      ],
      "metadata": {
        "colab": {
          "base_uri": "https://localhost:8080/"
        },
        "id": "uzMTOMjzalZi",
        "outputId": "c8c2f872-cade-4393-86ae-5fceeb739f98"
      },
      "execution_count": null,
      "outputs": [
        {
          "output_type": "stream",
          "name": "stdout",
          "text": [
            "[1, 4, 9, 16, 25, 36, 49, 64, 81, 100, 121, 144, 169, 196, 225, 256, 289, 324, 361, 400]\n"
          ]
        }
      ]
    },
    {
      "cell_type": "code",
      "source": [
        "# 1부터 50까지의 숫자 중에서 짝수만 모은 리스트 result를 만들고 출력하기\n",
        "\n",
        "result = []\n",
        "\n",
        "# for문 활용해서 임시 변수 i를 1부터 50까지 돌린다.(range() 함수 활용)\n",
        "# if 문을 활룔하여 짝수면 result에 삽입하기\n",
        "\n",
        "\n",
        "\n",
        "\n",
        "\n",
        "# result 출력하기\n",
        "print(result)"
      ],
      "metadata": {
        "colab": {
          "base_uri": "https://localhost:8080/"
        },
        "id": "TLv7mScObqYo",
        "outputId": "9944e84b-c48b-4eb0-8c9b-0039c5c6420c"
      },
      "execution_count": null,
      "outputs": [
        {
          "output_type": "stream",
          "name": "stdout",
          "text": [
            "[2, 4, 6, 8, 10, 12, 14, 16, 18, 20, 22, 24, 26, 28, 30, 32, 34, 36, 38, 40, 42, 44, 46, 48, 50]\n"
          ]
        }
      ]
    },
    {
      "cell_type": "code",
      "source": [
        "# str_list의 원소인 문자열들의 길이를 각각 출력하기\n",
        "str_list = [\"approach\", \"declaring\", \"initialized\", \"variable\", \"structure\"]\n",
        "\n",
        "# for문 활용하여 str_list의 원소를 word라는 임시변수로 돌린다.\n",
        "# word의 길이를 출력한다.\n",
        "\n",
        "\n"
      ],
      "metadata": {
        "colab": {
          "base_uri": "https://localhost:8080/"
        },
        "id": "Npn9ovg7cGb3",
        "outputId": "94d70a7b-bf4e-43a7-9f42-6771bc344e46"
      },
      "execution_count": null,
      "outputs": [
        {
          "output_type": "stream",
          "name": "stdout",
          "text": [
            "approach의 길이는 8\n",
            "declaring의 길이는 9\n",
            "initialized의 길이는 11\n",
            "variable의 길이는 8\n",
            "structure의 길이는 9\n"
          ]
        }
      ]
    },
    {
      "cell_type": "markdown",
      "source": [
        "### dictionary를 활용한 반복문"
      ],
      "metadata": {
        "id": "gqr3yCoedGaB"
      }
    },
    {
      "cell_type": "markdown",
      "source": [
        "#### 다음 과일 정보가 입력된 fruits 변수를 활용해 아래 문제를 해결하세요."
      ],
      "metadata": {
        "id": "XHrOT67ueJaB"
      }
    },
    {
      "cell_type": "code",
      "source": [
        "# 이 데이터는 실행만 하고 수정 금지\n",
        "fruits = {\"사과\": 3000, \"바나나\": 2000, \"체리\": 2500, \"배\": 4000, \"감\": 1500,\n",
        "          \"오렌지\": 1000, \"석류\": 3500, \"포도\": 3300}"
      ],
      "metadata": {
        "id": "lH7TVEFAdJ64"
      },
      "execution_count": null,
      "outputs": []
    },
    {
      "cell_type": "markdown",
      "source": [
        "#### 1. fruits에 담긴 과일들의 이름을 출력해보세요."
      ],
      "metadata": {
        "id": "LEFqn1yEeRvQ"
      }
    },
    {
      "cell_type": "code",
      "source": [
        "# for문, 딕셔너리 method 이용하기\n",
        "\n",
        "\n"
      ],
      "metadata": {
        "colab": {
          "base_uri": "https://localhost:8080/"
        },
        "id": "udoJP_WfeMXZ",
        "outputId": "2b48fd47-9c57-46c7-b60a-1be058db2e9c"
      },
      "execution_count": null,
      "outputs": [
        {
          "output_type": "stream",
          "name": "stdout",
          "text": [
            "사과\n",
            "바나나\n",
            "체리\n",
            "배\n",
            "감\n",
            "오렌지\n",
            "석류\n",
            "포도\n"
          ]
        }
      ]
    },
    {
      "cell_type": "markdown",
      "source": [
        "#### 2. fruits에 담긴 과일들의 이름과 가격을 출력해보세요."
      ],
      "metadata": {
        "id": "RR4mJ5UXeUhY"
      }
    },
    {
      "cell_type": "code",
      "source": [
        "# for문, Unpacking, 딕셔너리 method 이용하기\n",
        "# ex) 사과: 3000원\n",
        "\n",
        "\n"
      ],
      "metadata": {
        "colab": {
          "base_uri": "https://localhost:8080/"
        },
        "id": "WCwMZH_JeNJi",
        "outputId": "74a6bf2b-a0cd-42da-80dd-9a6e30e2ebd4"
      },
      "execution_count": null,
      "outputs": [
        {
          "output_type": "stream",
          "name": "stdout",
          "text": [
            "사과: 3000원\n",
            "바나나: 2000원\n",
            "체리: 2500원\n",
            "배: 4000원\n",
            "감: 1500원\n",
            "오렌지: 1000원\n",
            "석류: 3500원\n",
            "포도: 3300원\n"
          ]
        }
      ]
    },
    {
      "cell_type": "markdown",
      "source": [
        "#### 3. 가장 비싼 과일과, 가장 싼 과일의 이름과 가격을 각각 출력하세요.\n",
        "- 비싼 과일: 배 4000원\n",
        "- 싼 과일: 오렌지 1000원"
      ],
      "metadata": {
        "id": "13wr3f7KeXZq"
      }
    },
    {
      "cell_type": "code",
      "source": [
        "# 가장 비싼 과일의 데이터를 저장할 expensive 라는 dictionary형식의 변수 지정\n",
        "# key로 \"name\"과 \"price\"를 만들고 적당한 값으로 초기화\n",
        "\n",
        "\n",
        "# 가장 싼 과일의 데이터를 저장할 cheap라는 dictionary형식의 변수 지정\n",
        "# key로 \"name\"과 \"price\"를 만들고 적당한 값으로 초기화\n",
        "\n",
        "\n",
        "# for 문을 활용하여 fruits의 name과 price를 위에 만든 dictionary와 비교한다.\n",
        "# if 문 활용하기\n",
        "\n",
        "\n",
        "\n",
        "\n",
        "\n",
        "\n",
        "\n",
        "\n",
        "# 가장 비싼 과일과 싼 과일의 정보를 출력한다.\n",
        "\n"
      ],
      "metadata": {
        "colab": {
          "base_uri": "https://localhost:8080/"
        },
        "id": "hLWOm0psejno",
        "outputId": "beaaf6ae-4b32-4611-c7cc-32d28a8aac79"
      },
      "execution_count": null,
      "outputs": [
        {
          "output_type": "stream",
          "name": "stdout",
          "text": [
            "비싼 과일: 배 4000\n",
            "싼 과일: 오렌지 1000\n"
          ]
        }
      ]
    },
    {
      "cell_type": "markdown",
      "source": [
        "#### 단어 빈도수 계산하기"
      ],
      "metadata": {
        "id": "2-J4sCvQgToy"
      }
    },
    {
      "cell_type": "code",
      "source": [
        "# 다음 문장에서 각 단어가 몇 번씩 등장하는지 dictionary를 만들어 저장하고, 출력하기\n",
        "# 단어의 등장 횟수를 저장할 dictionary 변수 frequency 선언\n",
        "sentence = \"apple banana apple strawberry banana lemon apple lemon\"\n",
        "frequency = {}\n",
        "\n",
        "# 문자열 데이터는 문자열.split() 메서드를 이용하면\n",
        "# 띄어쓰기 단위로 잘라 리스트로 만들어 준다\n",
        "# 문자열을 잘라 str_list 변수로 저장한다.\n",
        "\n",
        "\n",
        "# for 문 활용, str_list의 원소를 임시변수 word로 돌린다.\n",
        "# frequency에 이미 해당 단어가 있다면 빈도를 1 더해주고,\n",
        "# 없다면 만들어준다.\n",
        "\n",
        "\n",
        "\n",
        "\n",
        "\n",
        "\n",
        "# frequency 의 값을 key와 value의 쌍으로 출력한다.\n",
        "\n",
        "\n"
      ],
      "metadata": {
        "colab": {
          "base_uri": "https://localhost:8080/"
        },
        "id": "gfVDIR8LgWB5",
        "outputId": "fc9ac6c5-6ccf-4587-812c-d30646d8cc1e"
      },
      "execution_count": null,
      "outputs": [
        {
          "output_type": "stream",
          "name": "stdout",
          "text": [
            "apple: 3회\n",
            "banana: 2회\n",
            "strawberry: 1회\n",
            "lemon: 2회\n"
          ]
        }
      ]
    },
    {
      "cell_type": "markdown",
      "source": [
        "## 별 찍기 (반복문 숙달 훈련)"
      ],
      "metadata": {
        "id": "R8SKp-0L720v"
      }
    },
    {
      "cell_type": "code",
      "source": [
        "# 별 찍기 1\n",
        "# 첫째 줄에는 별 1개, 둘째 줄에는 별 2개, N번째 줄에는 별 N개를 찍는 문제\n",
        "\n",
        "# 입력: 5\n",
        "# *\n",
        "# **\n",
        "# ***\n",
        "# ****\n",
        "# *****\n",
        "\n",
        "\n",
        "\n",
        "\n",
        "\n"
      ],
      "metadata": {
        "colab": {
          "base_uri": "https://localhost:8080/"
        },
        "id": "CF-LnX7Ao7Xq",
        "outputId": "7e9f49f6-c130-4046-a732-96ad106bcbe9"
      },
      "execution_count": null,
      "outputs": [
        {
          "output_type": "stream",
          "name": "stdout",
          "text": [
            "5\n",
            "*\n",
            "**\n",
            "***\n",
            "****\n",
            "*****\n"
          ]
        }
      ]
    },
    {
      "cell_type": "code",
      "source": [
        "# 별 찍기 2\n",
        "# 첫째 줄에는 별 1개, 둘째 줄에는 별 2개, N번째 줄에는 별 N개를 찍는 문제\n",
        "# 하지만, 오른쪽을 기준으로 정렬한 별(예제 참고)을 출력\n",
        "\n",
        "# 입력: 5\n",
        "#     *\n",
        "#    **\n",
        "#   ***\n",
        "#  ****\n",
        "# *****\n",
        "\n",
        "\n",
        "\n",
        "\n",
        "\n"
      ],
      "metadata": {
        "colab": {
          "base_uri": "https://localhost:8080/"
        },
        "id": "6MMpbfTEp73n",
        "outputId": "3c946c78-ead3-4e12-862d-7bdc4210df15"
      },
      "execution_count": null,
      "outputs": [
        {
          "output_type": "stream",
          "name": "stdout",
          "text": [
            "5\n",
            "    *\n",
            "   **\n",
            "  ***\n",
            " ****\n",
            "*****\n"
          ]
        }
      ]
    },
    {
      "cell_type": "code",
      "source": [
        "# 별 찍기 3\n",
        "# 첫째 줄에는 별 N개, 둘째 줄에는 별 N-1개, ..., N번째 줄에는 별 1개를 찍는 문제\n",
        "\n",
        "# 입력: 5\n",
        "# *****\n",
        "# ****\n",
        "# ***\n",
        "# **\n",
        "# *\n",
        "\n",
        "\n",
        "\n",
        "\n",
        "\n"
      ],
      "metadata": {
        "colab": {
          "base_uri": "https://localhost:8080/"
        },
        "id": "9toOrov6qUZ6",
        "outputId": "485e2e1d-aa4a-45f9-eed0-45b6bcc02050"
      },
      "execution_count": null,
      "outputs": [
        {
          "output_type": "stream",
          "name": "stdout",
          "text": [
            "5\n",
            "*****\n",
            "****\n",
            "***\n",
            "**\n",
            "*\n"
          ]
        }
      ]
    },
    {
      "cell_type": "code",
      "source": [
        "# 별 찍기 4\n",
        "# 첫째 줄에는 별 N개, 둘째 줄에는 별 N-1개, ..., N번째 줄에는 별 1개를 찍는 문제\n",
        "# 하지만, 오른쪽을 기준으로 정렬한 별(예제 참고)을 출력\n",
        "\n",
        "# 입력: 5\n",
        "# *****\n",
        "#  ****\n",
        "#   ***\n",
        "#    **\n",
        "#     *\n",
        "\n",
        "\n",
        "\n",
        "\n",
        "\n"
      ],
      "metadata": {
        "colab": {
          "base_uri": "https://localhost:8080/"
        },
        "id": "93BVyJbQqiFO",
        "outputId": "af0255e0-48be-4a2b-8705-137e42fd7ff7"
      },
      "execution_count": null,
      "outputs": [
        {
          "output_type": "stream",
          "name": "stdout",
          "text": [
            "5\n",
            "*****\n",
            " ****\n",
            "  ***\n",
            "   **\n",
            "    *\n"
          ]
        }
      ]
    },
    {
      "cell_type": "code",
      "source": [
        "# 별 찍기 5\n",
        "# 첫째 줄에는 별 1개, 둘째 줄에는 별 3개, ..., N번째 줄에는 별 2×N-1개를 찍는 문제\n",
        "# 별은 가운데를 기준으로 대칭\n",
        "\n",
        "# 입력: 5\n",
        "#     *\n",
        "#    ***\n",
        "#   *****\n",
        "#  *******\n",
        "# *********\n",
        "\n",
        "\n",
        "\n",
        "\n",
        "\n"
      ],
      "metadata": {
        "colab": {
          "base_uri": "https://localhost:8080/"
        },
        "id": "XgTcG25fq3F8",
        "outputId": "390198ec-33fa-40ab-e680-03dab728cd6c"
      },
      "execution_count": null,
      "outputs": [
        {
          "output_type": "stream",
          "name": "stdout",
          "text": [
            "5\n",
            "    *\n",
            "   ***\n",
            "  *****\n",
            " *******\n",
            "*********\n"
          ]
        }
      ]
    },
    {
      "cell_type": "code",
      "source": [
        "# 별 찍기 6\n",
        "# 첫째 줄에는 별 2×N-1개, 둘째 줄에는 별 2×N-3개, ..., N번째 줄에는 별 1개를 찍는 문제\n",
        "# 별은 가운데를 기준으로 대칭\n",
        "\n",
        "# 입력: 5\n",
        "# *********\n",
        "#  *******\n",
        "#   *****\n",
        "#    ***\n",
        "#     *\n",
        "\n",
        "\n",
        "\n",
        "\n",
        "\n"
      ],
      "metadata": {
        "colab": {
          "base_uri": "https://localhost:8080/"
        },
        "id": "JuQwPOS5rWYZ",
        "outputId": "a5ec6203-beca-4d74-b667-133597495235"
      },
      "execution_count": null,
      "outputs": [
        {
          "output_type": "stream",
          "name": "stdout",
          "text": [
            "5\n",
            "*********\n",
            " *******\n",
            "  *****\n",
            "   ***\n",
            "    *\n"
          ]
        }
      ]
    },
    {
      "cell_type": "code",
      "source": [
        "# 별 찍기 7\n",
        "# 예제를 보고 규칙을 유추한 뒤에 별을 찍어 보세요.\n",
        "\n",
        "# 입력: 5\n",
        "#     *\n",
        "#    ***\n",
        "#   *****\n",
        "#  *******\n",
        "# *********\n",
        "#  *******\n",
        "#   *****\n",
        "#    ***\n",
        "#     *\n",
        "\n",
        "\n",
        "\n",
        "\n",
        "\n",
        "\n",
        "\n"
      ],
      "metadata": {
        "colab": {
          "base_uri": "https://localhost:8080/"
        },
        "id": "hC_0pH3brsPI",
        "outputId": "36861d07-f847-4543-8e25-c7b132ef8871"
      },
      "execution_count": null,
      "outputs": [
        {
          "output_type": "stream",
          "name": "stdout",
          "text": [
            "5\n",
            "    *\n",
            "   ***\n",
            "  *****\n",
            " *******\n",
            "*********\n",
            " *******\n",
            "  *****\n",
            "   ***\n",
            "    *\n"
          ]
        }
      ]
    },
    {
      "cell_type": "code",
      "source": [
        "# 별 찍기 8\n",
        "# 예제를 보고 규칙을 유추한 뒤에 별을 찍어 보세요.\n",
        "\n",
        "# 입력: 5\n",
        "# *        *\n",
        "# **      **\n",
        "# ***    ***\n",
        "# ****  ****\n",
        "# **********\n",
        "# ****  ****\n",
        "# ***    ***\n",
        "# **      **\n",
        "# *        *\n",
        "\n",
        "\n",
        "\n",
        "\n",
        "\n",
        "\n",
        "\n"
      ],
      "metadata": {
        "colab": {
          "base_uri": "https://localhost:8080/"
        },
        "id": "-XwgpJbfsReB",
        "outputId": "7ab7bbaf-3339-4fa4-9424-911e51882f94"
      },
      "execution_count": null,
      "outputs": [
        {
          "output_type": "stream",
          "name": "stdout",
          "text": [
            "5\n",
            "*        *\n",
            "**      **\n",
            "***    ***\n",
            "****  ****\n",
            "**********\n",
            "****  ****\n",
            "***    ***\n",
            "**      **\n",
            "*        *\n"
          ]
        }
      ]
    },
    {
      "cell_type": "code",
      "source": [
        "# 별 찍기 9\n",
        "# 예제를 보고 규칙을 유추한 뒤에 별을 찍어 보세요.\n",
        "\n",
        "# 입력: 5\n",
        "# *********\n",
        "#  *******\n",
        "#   *****\n",
        "#    ***\n",
        "#     *\n",
        "#    ***\n",
        "#   *****\n",
        "#  *******\n",
        "# *********\n",
        "\n",
        "\n",
        "\n",
        "\n",
        "\n",
        "\n",
        "\n",
        "\n"
      ],
      "metadata": {
        "colab": {
          "base_uri": "https://localhost:8080/"
        },
        "id": "dA_em148s42J",
        "outputId": "65b1b9e2-fce7-408c-a8d7-50fda4462d7d"
      },
      "execution_count": null,
      "outputs": [
        {
          "output_type": "stream",
          "name": "stdout",
          "text": [
            "5\n",
            "*********\n",
            " *******\n",
            "  *****\n",
            "   ***\n",
            "    *\n",
            "   ***\n",
            "  *****\n",
            " *******\n",
            "*********\n"
          ]
        }
      ]
    }
  ]
}