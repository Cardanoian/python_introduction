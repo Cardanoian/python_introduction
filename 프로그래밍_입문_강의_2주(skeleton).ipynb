{
  "nbformat": 4,
  "nbformat_minor": 0,
  "metadata": {
    "colab": {
      "provenance": [],
      "toc_visible": true
    },
    "kernelspec": {
      "name": "python3",
      "display_name": "Python 3"
    },
    "language_info": {
      "name": "python"
    }
  },
  "cells": [
    {
      "cell_type": "markdown",
      "source": [
        "# 리스트(List)"
      ],
      "metadata": {
        "id": "UQhvP39TbSGD"
      }
    },
    {
      "cell_type": "markdown",
      "source": [
        "## 리스트 생성"
      ],
      "metadata": {
        "id": "DxaFXbbUbU-M"
      }
    },
    {
      "cell_type": "code",
      "execution_count": null,
      "metadata": {
        "colab": {
          "base_uri": "https://localhost:8080/"
        },
        "id": "Rgkan3OVbD-A",
        "outputId": "d0c422d4-a40a-4dc8-9b2b-a85504d442d2"
      },
      "outputs": [
        {
          "output_type": "stream",
          "name": "stdout",
          "text": [
            "[1, 2, 3, 4, 5]\n"
          ]
        }
      ],
      "source": [
        "# 1부터 5까지의 수를 원소로 하는 리스트를 만들어 numbers라는 변수에 할당\n",
        "\n"
      ]
    },
    {
      "cell_type": "code",
      "source": [
        "# 1부터 5까지의 수를 원소로 하는 리스트를 만들어 numbers라는 변수에 할당(range 사용)\n",
        "# range(시작, 끝, 스텝) 끝은 포함하지 않는다.\n",
        "\n",
        "\n",
        "# 3부터 9까지의 홀수를 원소로 하는 리스트를 만들어 numbers라는 변수에 할당(range 사용)\n",
        "\n"
      ],
      "metadata": {
        "colab": {
          "base_uri": "https://localhost:8080/"
        },
        "id": "tOVWQ3HjbeLv",
        "outputId": "5c5162ab-e35b-499b-9925-6ed90ef52fa1"
      },
      "execution_count": null,
      "outputs": [
        {
          "output_type": "stream",
          "name": "stdout",
          "text": [
            "[1, 2, 3, 4, 5]\n",
            "[3, 5, 7, 9]\n"
          ]
        }
      ]
    },
    {
      "cell_type": "markdown",
      "source": [
        "## 인덱싱(indexing)과 슬라이싱(slicing)\n",
        "\n",
        "[시작인덱스:마지막인덱스+1]\n"
      ],
      "metadata": {
        "id": "KF4_5auZbiJE"
      }
    },
    {
      "cell_type": "code",
      "source": [
        "cities = ['서울', '부산', '인천', '대구', '대전', '광주', '울산', '수원']\n",
        "# 인덱싱 - 1번째, 3번째, 5번째 도시 출력하기\n",
        "\n",
        "\n",
        "# 슬라이싱 - 첫번째~6번째, 4번째~6번째, 전체, 역순서 전체\n",
        "\n"
      ],
      "metadata": {
        "colab": {
          "base_uri": "https://localhost:8080/"
        },
        "id": "2_k1xJKMbjkt",
        "outputId": "90937c70-5047-4c46-c802-8bce3479dc45"
      },
      "execution_count": null,
      "outputs": [
        {
          "output_type": "stream",
          "name": "stdout",
          "text": [
            "1번째 도시(인덱스0)은 서울입니다.\n",
            "3번째 도시(인덱스2)은 인천입니다.\n",
            "5번째 도시(인덱스4)은 대전입니다.\n",
            "['서울', '부산', '인천', '대구', '대전', '광주']\n",
            "['대구', '대전', '광주']\n",
            "['서울', '부산', '인천', '대구', '대전', '광주', '울산', '수원']\n",
            "['서울', '부산', '인천', '대구', '대전', '광주', '울산', '수원']\n"
          ]
        }
      ]
    },
    {
      "cell_type": "markdown",
      "source": [
        "# 리스트 메서드\n",
        "* append()\n",
        "* sort()\n",
        "* index()\n",
        "* pop()"
      ],
      "metadata": {
        "id": "d8Wl04KHeYmO"
      }
    },
    {
      "cell_type": "code",
      "source": [
        "cities = ['서울', '부산', '인천', '대구', '대전', '광주', '울산', '수원']"
      ],
      "metadata": {
        "id": "3kN-dlZtc-25"
      },
      "execution_count": null,
      "outputs": []
    },
    {
      "cell_type": "code",
      "source": [
        "# cities에 '제주'를 마지막에 추가하기\n"
      ],
      "metadata": {
        "colab": {
          "base_uri": "https://localhost:8080/"
        },
        "id": "x6Llha3yelad",
        "outputId": "9d105803-0cc5-4cb8-ee44-fc72e85be0ff"
      },
      "execution_count": null,
      "outputs": [
        {
          "output_type": "stream",
          "name": "stdout",
          "text": [
            "['서울', '부산', '인천', '대구', '대전', '광주', '울산', '수원', '제주']\n"
          ]
        }
      ]
    },
    {
      "cell_type": "code",
      "source": [
        "# cities를 오름차순으로 정렬하기\n"
      ],
      "metadata": {
        "colab": {
          "base_uri": "https://localhost:8080/"
        },
        "id": "MSJf_OR6ezwL",
        "outputId": "87b4e216-fda1-4f9f-bf5c-3ddd6587f66e"
      },
      "execution_count": null,
      "outputs": [
        {
          "output_type": "stream",
          "name": "stdout",
          "text": [
            "['광주', '대구', '대전', '부산', '서울', '수원', '울산', '인천', '제주']\n"
          ]
        }
      ]
    },
    {
      "cell_type": "code",
      "source": [
        "# cities를 내림차순으로 정렬하기\n"
      ],
      "metadata": {
        "colab": {
          "base_uri": "https://localhost:8080/"
        },
        "id": "-vyn8F4ve2bW",
        "outputId": "576abdcd-ebf4-4c50-db78-eaeba54d68b4"
      },
      "execution_count": null,
      "outputs": [
        {
          "output_type": "stream",
          "name": "stdout",
          "text": [
            "['제주', '인천', '울산', '수원', '서울', '부산', '대전', '대구', '광주']\n"
          ]
        }
      ]
    },
    {
      "cell_type": "code",
      "source": [
        "# cities에서 '서울'의 위치(인덱스) 받기  => 4\n"
      ],
      "metadata": {
        "colab": {
          "base_uri": "https://localhost:8080/"
        },
        "id": "N5sg2Yxre6d9",
        "outputId": "e3287b64-3acf-4226-9968-7d6e753c5b78"
      },
      "execution_count": null,
      "outputs": [
        {
          "output_type": "stream",
          "name": "stdout",
          "text": [
            "4\n"
          ]
        }
      ]
    },
    {
      "cell_type": "code",
      "source": [
        "# cities의 마지막 원소 버리기\n"
      ],
      "metadata": {
        "colab": {
          "base_uri": "https://localhost:8080/"
        },
        "id": "w3LY5HT3fCa7",
        "outputId": "bb993447-1137-41a5-9dfc-fc605dffdf6e"
      },
      "execution_count": null,
      "outputs": [
        {
          "output_type": "stream",
          "name": "stdout",
          "text": [
            "광주\n",
            "['제주', '인천', '울산', '수원', '서울', '부산', '대전', '대구']\n"
          ]
        }
      ]
    },
    {
      "cell_type": "markdown",
      "source": [
        "## min(), max(), sum(), len() 함수\n",
        "* min() 최소값\n",
        "* max() 최대값\n",
        "* sum() 합계\n",
        "* len() 길이(원소의 수)"
      ],
      "metadata": {
        "id": "tOvMMCo1gi1x"
      }
    },
    {
      "cell_type": "code",
      "source": [
        "nums = [1, 3, 7, 19, 20]\n",
        "\n",
        "# 최소값 구하기\n",
        "\n",
        "\n",
        "# 최대값 구하기\n",
        "\n",
        "\n",
        "# 합계 구하기\n",
        "\n",
        "\n",
        "# 길이 구하기\n",
        "\n",
        "\n",
        "# 평균 구하기\n"
      ],
      "metadata": {
        "colab": {
          "base_uri": "https://localhost:8080/"
        },
        "id": "c4ZFwCaZgmHN",
        "outputId": "d2714374-a9da-46f3-e7b1-2a34b4b99413"
      },
      "execution_count": null,
      "outputs": [
        {
          "output_type": "stream",
          "name": "stdout",
          "text": [
            "최소값: 1\n",
            "최대값: 20\n",
            "합계: 50\n",
            "길이: 5\n",
            "평균: 10.0\n"
          ]
        }
      ]
    },
    {
      "cell_type": "markdown",
      "source": [
        "## in  / not in 멤버 연산자"
      ],
      "metadata": {
        "id": "KMPy2mU2fbWf"
      }
    },
    {
      "cell_type": "code",
      "source": [
        "# \"광주\"가 cities에 포함되었는지 출력\n",
        "\n",
        "\n",
        "# \"광주\"가 cities에 포함되지 않았는지 출력\n",
        "\n"
      ],
      "metadata": {
        "colab": {
          "base_uri": "https://localhost:8080/"
        },
        "id": "acHbUJ6MfLiF",
        "outputId": "16c26b1c-5a84-450a-c46d-d38ecf4a1c92"
      },
      "execution_count": null,
      "outputs": [
        {
          "output_type": "stream",
          "name": "stdout",
          "text": [
            "False\n",
            "True\n"
          ]
        }
      ]
    },
    {
      "cell_type": "markdown",
      "source": [
        "# 조건문"
      ],
      "metadata": {
        "id": "m1ndqtnLfv9E"
      }
    },
    {
      "cell_type": "markdown",
      "source": [
        "### if - else"
      ],
      "metadata": {
        "id": "pA7OcEBuiaZ6"
      }
    },
    {
      "cell_type": "code",
      "source": [
        "# 정수를 입력받아 score 변수에 할당\n",
        "\n",
        "\n",
        "# 점수가 60 이상이면 \"합격입니다.\" 출력하고\n",
        "\n",
        "\n",
        "# 아니라면 \"불합격입니다.\" 출력하기\n",
        "\n"
      ],
      "metadata": {
        "colab": {
          "base_uri": "https://localhost:8080/"
        },
        "id": "VnpXvFu0fkUk",
        "outputId": "db0e4053-6829-4e8a-cb1c-33258aacd3d1"
      },
      "execution_count": null,
      "outputs": [
        {
          "output_type": "stream",
          "name": "stdout",
          "text": [
            "점수: 80\n",
            "합격입니다.\n"
          ]
        }
      ]
    },
    {
      "cell_type": "markdown",
      "source": [
        "### 여러 줄"
      ],
      "metadata": {
        "id": "KGos8vgaicH2"
      }
    },
    {
      "cell_type": "code",
      "source": [
        "# 정수를 입력받아 score 변수에 할당\n",
        "\n",
        "\n",
        "# 점수가 90 이상이면\n",
        "# \"합격입니다.\"와\n",
        "# \"장학금을 받습니다.\" 출력하기\n",
        "\n"
      ],
      "metadata": {
        "id": "5KXzqpB5gCam"
      },
      "execution_count": null,
      "outputs": []
    },
    {
      "cell_type": "markdown",
      "source": [
        "### if - elif - else"
      ],
      "metadata": {
        "id": "vyiZ_NJNigFW"
      }
    },
    {
      "cell_type": "code",
      "source": [
        "# 정수를 입력받아 num 변수에 할당\n",
        "\n",
        "\n",
        "# num이 0보다 크면 \"양수입니다.\" 출력\n",
        "\n",
        "\n",
        "# num이 0이라면 \"0입니다.\" 출력\n",
        "\n",
        "\n",
        "# 그 외에는 \"음수입니다.\" 출력\n",
        "\n"
      ],
      "metadata": {
        "colab": {
          "base_uri": "https://localhost:8080/"
        },
        "id": "-GSM1iA9gI0t",
        "outputId": "ce3b9847-8e89-487b-cfd4-8fdffff40abb"
      },
      "execution_count": null,
      "outputs": [
        {
          "output_type": "stream",
          "name": "stdout",
          "text": [
            "수: -13\n",
            "음수입니다.\n"
          ]
        }
      ]
    },
    {
      "cell_type": "markdown",
      "source": [
        "### 학점과 장학금"
      ],
      "metadata": {
        "id": "xTcGYRUZityC"
      }
    },
    {
      "cell_type": "code",
      "source": [
        "# 정수형 데이터 점수를 입력받아 score 변수에 할당\n",
        "\n",
        "\n",
        "# 정수형 데이터 석차를 입력받아 ranking 변수에 할당\n",
        "\n",
        "\n",
        "# 점수 구간에 맞게 학점을 알파벳으로 출력하기\n",
        "# 90 이상 \"A\"\n",
        "\n",
        "\n",
        "# 80이상 \"B\"\n",
        "\n",
        "\n",
        "# 70이상 \"C\"\n",
        "\n",
        "\n",
        "# 60이상 \"D\"\n",
        "\n",
        "\n",
        "# 그 외에는 \"F\"\n",
        "\n",
        "\n",
        "# 석차가 10등 이하라면 \"장학금을 받습니다.\" 출력하고,\n",
        "# 그 외에는 \"장학금을 못받습니다.\" 출력하기.\n",
        "\n"
      ],
      "metadata": {
        "colab": {
          "base_uri": "https://localhost:8080/"
        },
        "id": "9aCyholAiVRl",
        "outputId": "29dbeacf-507b-4ac9-8a4f-98e70e3c5ac1"
      },
      "execution_count": null,
      "outputs": [
        {
          "output_type": "stream",
          "name": "stdout",
          "text": [
            "몇 점: 90\n",
            "몇 등: 8\n",
            "A\n",
            "장학금을 받습니다.\n"
          ]
        }
      ]
    },
    {
      "cell_type": "markdown",
      "source": [
        "### 온라인 할인 쿠폰 시스템 만들기"
      ],
      "metadata": {
        "id": "_MrNkiKejN8U"
      }
    },
    {
      "cell_type": "code",
      "source": [
        "# 정수형 데이터 가격을 입력받아 price 변수에 저장\n",
        "\n",
        "\n",
        "# 정수형 데이터 쿠폰 수량을 입력받아 coupon3000 변수에 저장\n",
        "\n",
        "\n",
        "# 정수형 데이터 쿠폰 수량을 입력받아 coupon20 변수에 저장\n",
        "\n",
        "\n",
        "# 20% 할인 쿠폰이 있다면 가격을 20% 할인하기\n",
        "\n",
        "\n",
        "# 3000원 쿠폰 수량에 맞게 가격 낮추기\n",
        "\n",
        "\n",
        "# 금액이 0원보다 낮다면 0으로 고치기\n",
        "\n",
        "\n",
        "# 지불할 가격 출력하기\n",
        "\n"
      ],
      "metadata": {
        "colab": {
          "base_uri": "https://localhost:8080/"
        },
        "id": "dHWRd0FJjHFt",
        "outputId": "815056b1-ac78-49e4-f66b-2e3da4e709db"
      },
      "execution_count": null,
      "outputs": [
        {
          "output_type": "stream",
          "name": "stdout",
          "text": [
            "가격: 13000\n",
            "3000원 할인 쿠폰: 5\n",
            "20% 할인 쿠폰: 10\n",
            "가격은 0원입니다.\n"
          ]
        }
      ]
    },
    {
      "cell_type": "markdown",
      "source": [
        "### 합격 여부 판단하기"
      ],
      "metadata": {
        "id": "sml_BaF4knhu"
      }
    },
    {
      "cell_type": "code",
      "source": [
        "# 빈 리스트 scores 선언\n",
        "\n",
        "\n",
        "# scores list에 4번에 걸쳐 과목들의 점수를 입력받기\n",
        "\n",
        "\n",
        "\n",
        "# 평균이 80 미만이라면 불합격,\n",
        "\n",
        "\n",
        "# 50점 이하인 과목이 있으면 불합격,\n",
        "\n",
        "\n",
        "# 그렇지 않으면 합격 출력\n",
        "\n"
      ],
      "metadata": {
        "colab": {
          "base_uri": "https://localhost:8080/"
        },
        "id": "jNTp97oOkBPQ",
        "outputId": "9a687a3e-bbeb-468d-c6dc-d0ed709e8955"
      },
      "execution_count": null,
      "outputs": [
        {
          "output_type": "stream",
          "name": "stdout",
          "text": [
            "국어 점수: 50\n",
            "영어 점수: 100\n",
            "수학 점수: 100\n",
            "과학 점수: 100\n",
            "불합격\n"
          ]
        }
      ]
    },
    {
      "cell_type": "markdown",
      "source": [
        "### 교통카드 시스템 만들기"
      ],
      "metadata": {
        "id": "H3zX80skkqM5"
      }
    },
    {
      "cell_type": "code",
      "source": [
        "# 정수 타입으로 나이를 입력받아 age 변수에 저장\n",
        "\n",
        "\n",
        "# 정수 타입으로 잔액을 입력받아 money 변수에 저장\n",
        "\n",
        "\n",
        "# 계산 편의를 위해 버스요금을 fee라는 변수로 선언\n",
        "fee = 0\n",
        "\n",
        "# 나이에 따라 요금이 fee의 값이 어떻게 바뀔 지 조건문 만들기\n",
        "# 7세 미만이면 0원\n",
        "\n",
        "\n",
        "# 7세 이상 13세 미만이면 600원\n",
        "\n",
        "\n",
        "# 13세 이상 19세 미만이면 900원\n",
        "\n",
        "\n",
        "# 그 외에는 1200원\n",
        "\n",
        "\n",
        "# 잔액이 부족하면 탈 수 없다고 하고,\n",
        "\n",
        "\n",
        "# 잔액이 충분하다면 버스를 타고 난 잔액을 출력\n",
        "\n"
      ],
      "metadata": {
        "colab": {
          "base_uri": "https://localhost:8080/"
        },
        "id": "_gYNrM5hktaR",
        "outputId": "b0c0b11b-432c-4d1c-fac7-d29ea43c6c4a"
      },
      "execution_count": null,
      "outputs": [
        {
          "output_type": "stream",
          "name": "stdout",
          "text": [
            "나이: 48\n",
            "버스카드 잔액: 1000\n",
            "탈 수 없습니다.\n"
          ]
        }
      ]
    },
    {
      "cell_type": "markdown",
      "source": [
        "# 반복문(while)\n",
        "while 조건:"
      ],
      "metadata": {
        "id": "j415mlcTmqTC"
      }
    },
    {
      "cell_type": "code",
      "source": [
        "# 구구단 출력하기\n",
        "# 2 X 2 = 4\n",
        "# 앞 숫자는 변수 dan, 뒷 숫자는 i로 지정\n",
        "\n",
        "# 2단\n",
        "\n"
      ],
      "metadata": {
        "colab": {
          "base_uri": "https://localhost:8080/"
        },
        "id": "1h-ixruvnNZE",
        "outputId": "e7eef4b9-270b-4aae-d26c-c7b0dd0290ec"
      },
      "execution_count": null,
      "outputs": [
        {
          "output_type": "stream",
          "name": "stdout",
          "text": [
            "2 X 1 = 2\n",
            "2 X 2 = 4\n",
            "2 X 3 = 6\n",
            "2 X 4 = 8\n",
            "2 X 5 = 10\n",
            "2 X 6 = 12\n",
            "2 X 7 = 14\n",
            "2 X 8 = 16\n",
            "2 X 9 = 18\n"
          ]
        }
      ]
    },
    {
      "cell_type": "code",
      "source": [
        "# 구구단 가로로 출력하기\n",
        "# print()함수에 ,end=\",  \"라고 하면 줄바꿈 대신 \", \"가 생긴다.\n",
        "\n",
        "# 2단\n",
        "\n"
      ],
      "metadata": {
        "colab": {
          "base_uri": "https://localhost:8080/"
        },
        "id": "Nlwairi0ndvW",
        "outputId": "63526599-e4fa-46f0-baed-0a724cbdcd51"
      },
      "execution_count": null,
      "outputs": [
        {
          "output_type": "stream",
          "name": "stdout",
          "text": [
            "2 X 1 = 2, 2 X 2 = 4, 2 X 3 = 6, 2 X 4 = 8, 2 X 5 = 10, 2 X 6 = 12, 2 X 7 = 14, 2 X 8 = 16, 2 X 9 = 18, "
          ]
        }
      ]
    },
    {
      "cell_type": "code",
      "source": [
        "# 구구단 가로로 출력하기\n",
        "# 2 X 9 = 18 뒤에 \",\" 없애고 줄바꿈 하기\n",
        "\n",
        "# 2단\n",
        "\n"
      ],
      "metadata": {
        "colab": {
          "base_uri": "https://localhost:8080/"
        },
        "id": "W0KX22PInnpw",
        "outputId": "c8d96bf3-0313-45eb-a707-bcf684ac5648"
      },
      "execution_count": null,
      "outputs": [
        {
          "output_type": "stream",
          "name": "stdout",
          "text": [
            "2 X 1 = 2, 2 X 2 = 4, 2 X 3 = 6, 2 X 4 = 8, 2 X 5 = 10, 2 X 6 = 12, 2 X 7 = 14, 2 X 8 = 16, 2 X 9 = 18\n",
            "2단 종료\n"
          ]
        }
      ]
    },
    {
      "cell_type": "code",
      "source": [
        "# 무한루프 만들기(while의 존재의 목적)\n",
        "\n",
        "# num의 값 0으로 초기화하며 변수 선언하기\n",
        "\n",
        "\n",
        "# 무한루프 시작\n",
        "\n",
        "\n",
        "    # 숫자를 입력받아 new_num 변수에 할당\n",
        "\n",
        "\n",
        "    # 0을 입력받으면 종료(break)\n",
        "\n",
        "\n",
        "    # new_num 값을 num에 더하고, num출력하기\n",
        "\n",
        ""
      ],
      "metadata": {
        "colab": {
          "base_uri": "https://localhost:8080/"
        },
        "id": "TNhEBQzklLTX",
        "outputId": "837297af-30b8-489d-b840-468c9c897592"
      },
      "execution_count": null,
      "outputs": [
        {
          "name": "stdout",
          "output_type": "stream",
          "text": [
            "3\n",
            "3\n",
            "5\n",
            "8\n",
            "2\n",
            "10\n",
            "100\n",
            "110\n",
            "0\n"
          ]
        }
      ]
    },
    {
      "cell_type": "markdown",
      "source": [
        "# 반복문(for)"
      ],
      "metadata": {
        "id": "_kSAmLwCn-YD"
      }
    },
    {
      "cell_type": "code",
      "source": [
        "# 구구단 출력하기\n",
        "\n",
        "# 2단\n",
        "dan = 2\n",
        "\n"
      ],
      "metadata": {
        "colab": {
          "base_uri": "https://localhost:8080/"
        },
        "id": "48s3kqetn7bE",
        "outputId": "0851973e-42aa-4cb9-c989-0879982c43ae"
      },
      "execution_count": null,
      "outputs": [
        {
          "output_type": "stream",
          "name": "stdout",
          "text": [
            "2 X 1 = 2\n",
            "2 X 2 = 4\n",
            "2 X 3 = 6\n",
            "2 X 4 = 8\n",
            "2 X 5 = 10\n",
            "2 X 6 = 12\n",
            "2 X 7 = 14\n",
            "2 X 8 = 16\n",
            "2 X 9 = 18\n"
          ]
        }
      ]
    },
    {
      "cell_type": "code",
      "source": [
        "# 구구단 가로로 출력하기\n",
        "\n",
        "# 2단\n",
        "dan = 2\n",
        "\n"
      ],
      "metadata": {
        "colab": {
          "base_uri": "https://localhost:8080/"
        },
        "id": "Ws5yt-zvo3_L",
        "outputId": "3c7e03e5-50d6-4bd3-9647-889363d898c2"
      },
      "execution_count": null,
      "outputs": [
        {
          "output_type": "stream",
          "name": "stdout",
          "text": [
            "2 X 1 = 2, 2 X 2 = 4, 2 X 3 = 6, 2 X 4 = 8, 2 X 5 = 10, 2 X 6 = 12, 2 X 7 = 14, 2 X 8 = 16, 2 X 9 = 18, "
          ]
        }
      ]
    },
    {
      "cell_type": "code",
      "source": [
        "# 구구단 가로로 출력하기\n",
        "# 2 X 9 = 18 뒤에 \",\" 없애고 줄바꿈 하기\n",
        "\n",
        "# 2단\n",
        "dan = 2\n"
      ],
      "metadata": {
        "colab": {
          "base_uri": "https://localhost:8080/"
        },
        "id": "uAbqXoA4pBke",
        "outputId": "f07980b2-9a8a-43e6-b1fa-30546f9d8387"
      },
      "execution_count": null,
      "outputs": [
        {
          "output_type": "stream",
          "name": "stdout",
          "text": [
            "2 X 1 = 2, 2 X 2 = 4, 2 X 3 = 6, 2 X 4 = 8, 2 X 5 = 10, 2 X 6 = 12, 2 X 7 = 14, 2 X 8 = 16, 2 X 9 = 18\n",
            "2단 종료\n"
          ]
        }
      ]
    },
    {
      "cell_type": "code",
      "source": [
        "# 구구단 홀수만 출력하기\n",
        "# continue 사용\n",
        "\n",
        "# 3단\n",
        "dan = 3\n",
        "\n"
      ],
      "metadata": {
        "colab": {
          "base_uri": "https://localhost:8080/"
        },
        "id": "1Pj_j-tIurmS",
        "outputId": "743e3224-9f28-4a91-e9aa-7cd0ecb1347c"
      },
      "execution_count": null,
      "outputs": [
        {
          "output_type": "stream",
          "name": "stdout",
          "text": [
            "3 X 1 = 3\n",
            "3 X 3 = 9\n",
            "3 X 5 = 15\n",
            "3 X 7 = 21\n",
            "3 X 9 = 27\n"
          ]
        }
      ]
    },
    {
      "cell_type": "code",
      "source": [
        "# 구구단 1단 ~ 9단 모두 출력하기\n",
        "\n"
      ],
      "metadata": {
        "colab": {
          "base_uri": "https://localhost:8080/"
        },
        "id": "SJ6W_dc_pNfC",
        "outputId": "ce4261cf-c0f7-4df4-c6b5-3c9b82fe940c"
      },
      "execution_count": 1,
      "outputs": [
        {
          "output_type": "stream",
          "name": "stdout",
          "text": [
            "1 X 1 =  1, 1 X 2 =  2, 1 X 3 =  3, 1 X 4 =  4, 1 X 5 =  5, 1 X 6 =  6, 1 X 7 =  7, 1 X 8 =  8, 1 X 9 =  9\n",
            "2 X 1 =  2, 2 X 2 =  4, 2 X 3 =  6, 2 X 4 =  8, 2 X 5 = 10, 2 X 6 = 12, 2 X 7 = 14, 2 X 8 = 16, 2 X 9 = 18\n",
            "3 X 1 =  3, 3 X 2 =  6, 3 X 3 =  9, 3 X 4 = 12, 3 X 5 = 15, 3 X 6 = 18, 3 X 7 = 21, 3 X 8 = 24, 3 X 9 = 27\n",
            "4 X 1 =  4, 4 X 2 =  8, 4 X 3 = 12, 4 X 4 = 16, 4 X 5 = 20, 4 X 6 = 24, 4 X 7 = 28, 4 X 8 = 32, 4 X 9 = 36\n",
            "5 X 1 =  5, 5 X 2 = 10, 5 X 3 = 15, 5 X 4 = 20, 5 X 5 = 25, 5 X 6 = 30, 5 X 7 = 35, 5 X 8 = 40, 5 X 9 = 45\n",
            "6 X 1 =  6, 6 X 2 = 12, 6 X 3 = 18, 6 X 4 = 24, 6 X 5 = 30, 6 X 6 = 36, 6 X 7 = 42, 6 X 8 = 48, 6 X 9 = 54\n",
            "7 X 1 =  7, 7 X 2 = 14, 7 X 3 = 21, 7 X 4 = 28, 7 X 5 = 35, 7 X 6 = 42, 7 X 7 = 49, 7 X 8 = 56, 7 X 9 = 63\n",
            "8 X 1 =  8, 8 X 2 = 16, 8 X 3 = 24, 8 X 4 = 32, 8 X 5 = 40, 8 X 6 = 48, 8 X 7 = 56, 8 X 8 = 64, 8 X 9 = 72\n",
            "9 X 1 =  9, 9 X 2 = 18, 9 X 3 = 27, 9 X 4 = 36, 9 X 5 = 45, 9 X 6 = 54, 9 X 7 = 63, 9 X 8 = 72, 9 X 9 = 81\n"
          ]
        }
      ]
    },
    {
      "cell_type": "code",
      "source": [
        "# 구구단 1단 ~ 9단 중 홀수만 모두 출력하기\n",
        "\n",
        "\n"
      ],
      "metadata": {
        "colab": {
          "base_uri": "https://localhost:8080/"
        },
        "id": "gh5aRWJEu8ho",
        "outputId": "445af0ce-4c7c-44fd-b328-8f66f50b0447"
      },
      "execution_count": null,
      "outputs": [
        {
          "output_type": "stream",
          "name": "stdout",
          "text": [
            "1 X 1 =  1, 1 X 3 =  3, 1 X 5 =  5, 1 X 7 =  7, 1 X 9 =  9\n",
            "3 X 1 =  3, 3 X 3 =  9, 3 X 5 = 15, 3 X 7 = 21, 3 X 9 = 27\n",
            "5 X 1 =  5, 5 X 3 = 15, 5 X 5 = 25, 5 X 7 = 35, 5 X 9 = 45\n",
            "7 X 1 =  7, 7 X 3 = 21, 7 X 5 = 35, 7 X 7 = 49, 7 X 9 = 63\n",
            "9 X 1 =  9, 9 X 3 = 27, 9 X 5 = 45, 9 X 7 = 63, 9 X 9 = 81\n"
          ]
        }
      ]
    },
    {
      "cell_type": "code",
      "source": [
        "# 구구단 1단 ~ 9단 중 짝수만 모두 출력하기\n"
      ],
      "metadata": {
        "colab": {
          "base_uri": "https://localhost:8080/"
        },
        "id": "5nAJOiSbu5Kt",
        "outputId": "498eeed6-b89b-4272-aad7-7d3d7c3e9f18"
      },
      "execution_count": null,
      "outputs": [
        {
          "output_type": "stream",
          "name": "stdout",
          "text": [
            "1 X 2 =  2, 1 X 4 =  4, 1 X 6 =  6, 1 X 8 =  8, \n",
            "2 X 1 =  2, 2 X 2 =  4, 2 X 3 =  6, 2 X 4 =  8, 2 X 5 = 10, 2 X 6 = 12, 2 X 7 = 14, 2 X 8 = 16, 2 X 9 = 18\n",
            "3 X 2 =  6, 3 X 4 = 12, 3 X 6 = 18, 3 X 8 = 24, \n",
            "4 X 1 =  4, 4 X 2 =  8, 4 X 3 = 12, 4 X 4 = 16, 4 X 5 = 20, 4 X 6 = 24, 4 X 7 = 28, 4 X 8 = 32, 4 X 9 = 36\n",
            "5 X 2 = 10, 5 X 4 = 20, 5 X 6 = 30, 5 X 8 = 40, \n",
            "6 X 1 =  6, 6 X 2 = 12, 6 X 3 = 18, 6 X 4 = 24, 6 X 5 = 30, 6 X 6 = 36, 6 X 7 = 42, 6 X 8 = 48, 6 X 9 = 54\n",
            "7 X 2 = 14, 7 X 4 = 28, 7 X 6 = 42, 7 X 8 = 56, \n",
            "8 X 1 =  8, 8 X 2 = 16, 8 X 3 = 24, 8 X 4 = 32, 8 X 5 = 40, 8 X 6 = 48, 8 X 7 = 56, 8 X 8 = 64, 8 X 9 = 72\n",
            "9 X 2 = 18, 9 X 4 = 36, 9 X 6 = 54, 9 X 8 = 72, \n"
          ]
        }
      ]
    },
    {
      "cell_type": "code",
      "source": [
        "# 별 찍기 1\n",
        "# 첫째 줄에는 별 1개, 둘째 줄에는 별 2개, N번째 줄에는 별 N개를 찍는 문제\n",
        "\n",
        "# 입력: 5\n",
        "# *\n",
        "# **\n",
        "# ***\n",
        "# ****\n",
        "# *****\n",
        "\n"
      ],
      "metadata": {
        "colab": {
          "base_uri": "https://localhost:8080/"
        },
        "id": "CF-LnX7Ao7Xq",
        "outputId": "d73e5f89-ab48-4442-df5a-24b8d7953ea4"
      },
      "execution_count": null,
      "outputs": [
        {
          "output_type": "stream",
          "name": "stdout",
          "text": [
            "5\n",
            "*\n",
            "**\n",
            "***\n",
            "****\n",
            "*****\n"
          ]
        }
      ]
    },
    {
      "cell_type": "code",
      "source": [
        "# 별 찍기 2\n",
        "# 첫째 줄에는 별 1개, 둘째 줄에는 별 2개, N번째 줄에는 별 N개를 찍는 문제\n",
        "# 하지만, 오른쪽을 기준으로 정렬한 별(예제 참고)을 출력\n",
        "\n",
        "# 입력: 5\n",
        "#     *\n",
        "#    **\n",
        "#   ***\n",
        "#  ****\n",
        "# *****\n",
        "\n"
      ],
      "metadata": {
        "colab": {
          "base_uri": "https://localhost:8080/"
        },
        "id": "6MMpbfTEp73n",
        "outputId": "61b11dc9-a33d-4596-b352-ebac4dbc49c0"
      },
      "execution_count": null,
      "outputs": [
        {
          "output_type": "stream",
          "name": "stdout",
          "text": [
            "5\n",
            "    *\n",
            "   **\n",
            "  ***\n",
            " ****\n",
            "*****\n"
          ]
        }
      ]
    },
    {
      "cell_type": "code",
      "source": [
        "# 별 찍기 3\n",
        "# 첫째 줄에는 별 N개, 둘째 줄에는 별 N-1개, ..., N번째 줄에는 별 1개를 찍는 문제\n",
        "\n",
        "# 입력: 5\n",
        "# *****\n",
        "# ****\n",
        "# ***\n",
        "# **\n",
        "# *\n",
        "\n"
      ],
      "metadata": {
        "colab": {
          "base_uri": "https://localhost:8080/"
        },
        "id": "9toOrov6qUZ6",
        "outputId": "408164d3-0c79-4dfa-e444-67972112f20e"
      },
      "execution_count": null,
      "outputs": [
        {
          "output_type": "stream",
          "name": "stdout",
          "text": [
            "5\n",
            "*****\n",
            "****\n",
            "***\n",
            "**\n",
            "*\n"
          ]
        }
      ]
    },
    {
      "cell_type": "code",
      "source": [
        "# 별 찍기 4\n",
        "# 첫째 줄에는 별 N개, 둘째 줄에는 별 N-1개, ..., N번째 줄에는 별 1개를 찍는 문제\n",
        "# 하지만, 오른쪽을 기준으로 정렬한 별(예제 참고)을 출력\n",
        "\n",
        "# 입력: 5\n",
        "# *****\n",
        "#  ****\n",
        "#   ***\n",
        "#    **\n",
        "#     *\n",
        "\n"
      ],
      "metadata": {
        "colab": {
          "base_uri": "https://localhost:8080/"
        },
        "id": "93BVyJbQqiFO",
        "outputId": "b5cf939a-3294-4323-bebf-25ca91e120b7"
      },
      "execution_count": null,
      "outputs": [
        {
          "output_type": "stream",
          "name": "stdout",
          "text": [
            "5\n",
            "*****\n",
            " ****\n",
            "  ***\n",
            "   **\n",
            "    *\n"
          ]
        }
      ]
    },
    {
      "cell_type": "code",
      "source": [
        "# 별 찍기 5\n",
        "# 첫째 줄에는 별 1개, 둘째 줄에는 별 3개, ..., N번째 줄에는 별 2×N-1개를 찍는 문제\n",
        "# 별은 가운데를 기준으로 대칭\n",
        "\n",
        "# 입력: 5\n",
        "#     *\n",
        "#    ***\n",
        "#   *****\n",
        "#  *******\n",
        "# *********\n",
        "\n"
      ],
      "metadata": {
        "colab": {
          "base_uri": "https://localhost:8080/"
        },
        "id": "XgTcG25fq3F8",
        "outputId": "a79089b3-222c-4c8b-cd4d-1cf7bc0f2214"
      },
      "execution_count": null,
      "outputs": [
        {
          "output_type": "stream",
          "name": "stdout",
          "text": [
            "5\n",
            "    *\n",
            "   ***\n",
            "  *****\n",
            " *******\n",
            "*********\n"
          ]
        }
      ]
    },
    {
      "cell_type": "code",
      "source": [
        "# 별 찍기 6\n",
        "# 첫째 줄에는 별 2×N-1개, 둘째 줄에는 별 2×N-3개, ..., N번째 줄에는 별 1개를 찍는 문제\n",
        "# 별은 가운데를 기준으로 대칭\n",
        "\n",
        "# 입력: 5\n",
        "# *********\n",
        "#  *******\n",
        "#   *****\n",
        "#    ***\n",
        "#     *\n",
        "\n"
      ],
      "metadata": {
        "colab": {
          "base_uri": "https://localhost:8080/"
        },
        "id": "JuQwPOS5rWYZ",
        "outputId": "b8033b69-5eb4-4f7e-93df-e946446b8d3e"
      },
      "execution_count": null,
      "outputs": [
        {
          "output_type": "stream",
          "name": "stdout",
          "text": [
            "5\n",
            "*********\n",
            " *******\n",
            "  *****\n",
            "   ***\n",
            "    *\n"
          ]
        }
      ]
    },
    {
      "cell_type": "code",
      "source": [
        "# 별 찍기 7\n",
        "# 예제를 보고 규칙을 유추한 뒤에 별을 찍어 보세요.\n",
        "\n",
        "# 입력: 5\n",
        "#     *\n",
        "#    ***\n",
        "#   *****\n",
        "#  *******\n",
        "# *********\n",
        "#  *******\n",
        "#   *****\n",
        "#    ***\n",
        "#     *\n",
        "\n"
      ],
      "metadata": {
        "colab": {
          "base_uri": "https://localhost:8080/"
        },
        "id": "hC_0pH3brsPI",
        "outputId": "a52430cb-b523-493a-d9d0-e6900eee5ed6"
      },
      "execution_count": null,
      "outputs": [
        {
          "output_type": "stream",
          "name": "stdout",
          "text": [
            "5\n",
            "    *\n",
            "   ***\n",
            "  *****\n",
            " *******\n",
            "*********\n",
            " *******\n",
            "  *****\n",
            "   ***\n",
            "    *\n"
          ]
        }
      ]
    },
    {
      "cell_type": "code",
      "source": [
        "# 별 찍기 8\n",
        "# 예제를 보고 규칙을 유추한 뒤에 별을 찍어 보세요.\n",
        "\n",
        "# 입력: 5\n",
        "# *        *\n",
        "# **      **\n",
        "# ***    ***\n",
        "# ****  ****\n",
        "# **********\n",
        "# ****  ****\n",
        "# ***    ***\n",
        "# **      **\n",
        "# *        *\n",
        "\n"
      ],
      "metadata": {
        "colab": {
          "base_uri": "https://localhost:8080/"
        },
        "id": "-XwgpJbfsReB",
        "outputId": "7848a09d-d19c-4a22-cfc6-16968eff43ba"
      },
      "execution_count": null,
      "outputs": [
        {
          "output_type": "stream",
          "name": "stdout",
          "text": [
            "5\n",
            "*        *\n",
            "**      **\n",
            "***    ***\n",
            "****  ****\n",
            "**********\n",
            "****  ****\n",
            "***    ***\n",
            "**      **\n",
            "*        *\n"
          ]
        }
      ]
    },
    {
      "cell_type": "code",
      "source": [
        "# 별 찍기 9\n",
        "# 예제를 보고 규칙을 유추한 뒤에 별을 찍어 보세요.\n",
        "\n",
        "# 입력: 5\n",
        "# *********\n",
        "#  *******\n",
        "#   *****\n",
        "#    ***\n",
        "#     *\n",
        "#    ***\n",
        "#   *****\n",
        "#  *******\n",
        "# *********\n",
        "\n"
      ],
      "metadata": {
        "colab": {
          "base_uri": "https://localhost:8080/"
        },
        "id": "dA_em148s42J",
        "outputId": "76243d01-79d8-421f-e5ae-80b99f52caf8"
      },
      "execution_count": null,
      "outputs": [
        {
          "output_type": "stream",
          "name": "stdout",
          "text": [
            "5\n",
            "*********\n",
            " *******\n",
            "  *****\n",
            "   ***\n",
            "    *\n",
            "   ***\n",
            "  *****\n",
            " *******\n",
            "*********\n"
          ]
        }
      ]
    }
  ]
}