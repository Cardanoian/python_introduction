{
  "nbformat": 4,
  "nbformat_minor": 0,
  "metadata": {
    "colab": {
      "provenance": []
    },
    "kernelspec": {
      "name": "python3",
      "display_name": "Python 3"
    },
    "language_info": {
      "name": "python"
    }
  },
  "cells": [
    {
      "cell_type": "code",
      "execution_count": null,
      "metadata": {
        "id": "nDYnUij1_Jmo"
      },
      "outputs": [],
      "source": [
        "# add_contact 함수 선언\n",
        "\n",
        "\n",
        "    # name, num, address 변수에 각각 이름, 연락처, 주소를 입력받고 할당\n",
        "\n",
        "\n",
        "    # contact_book에 dictionary 형태로 자료 추가(append)\n",
        "    # dictionary key는 \"name\", \"num\", \"address\"\n",
        "\n"
      ]
    },
    {
      "cell_type": "code",
      "source": [
        "# search_contact 함수 선언\n",
        "\n",
        "\n",
        "    # 이름을 입력받아 name 변수에 할당\n",
        "\n",
        "\n",
        "    # contact_book의 내용을 contact라는 임시변수로 탐색\n",
        "\n",
        "\n",
        "        # contact의 \"name\"과 name 변수의 값이 같으면 contact의 내용물 출력\n",
        "        # f\"이름: {contact['name']}, 연락처: {contact['num']}, 주소: {contact['address']}\"\n",
        "\n"
      ],
      "metadata": {
        "id": "_1875xgT_NHF"
      },
      "execution_count": null,
      "outputs": []
    },
    {
      "cell_type": "code",
      "source": [
        "# view_all_contact 함수 선언\n",
        "\n",
        "\n",
        "    # contact_book의 내용을 contact라는 임시변수로 탐색\n",
        "\n",
        "\n",
        "        # contact의 내용물 출력\n",
        "        # f\"이름: {contact['name']}, 연락처: {contact['num']}, 주소: {contact['address']}\"\n",
        "\n"
      ],
      "metadata": {
        "id": "CCvoffDsIqiW"
      },
      "execution_count": null,
      "outputs": []
    },
    {
      "cell_type": "code",
      "source": [
        "# remove_contact 함수 선언\n",
        "\n",
        "\n",
        "    # 삭제할 이름을 입력받아 name 변수에 할당\n",
        "\n",
        "\n",
        "    # contact_book의 내용을 contact라는 임시변수로 탐색\n",
        "\n",
        "\n",
        "        # contact의 \"name\"과 name이 다르다면 무시(continue)\n",
        "\n",
        "\n",
        "\n",
        "        # 같다면 contact 정보를 출력\n",
        "        # f\"이름: {contact['name']}, 연락처: {contact['num']}, 주소: {contact['address']}\"\n",
        "\n",
        "\n",
        "        # 삭제할 지 묻고 대답이 \"y\"라면 contact_book에서 contact를 삭제하고(List.remove() 메서드 이용),\n",
        "        # \"삭제되었습니다.\" 출력하고 반복 종료(break)\n",
        "\n",
        "\n",
        "\n"
      ],
      "metadata": {
        "id": "71ZNVoiy_NKU"
      },
      "execution_count": null,
      "outputs": []
    },
    {
      "cell_type": "code",
      "source": [
        "# clear_contact 함수 선언\n",
        "\n",
        "\n",
        "    # 모든 연락처를 삭제할지 묻고, 대답이 \"y\"라면\n",
        "    # contact_book 의 내용 모두 삭제 및 초기화\n",
        "\n",
        "\n"
      ],
      "metadata": {
        "id": "hXhCNJyr_NNf"
      },
      "execution_count": null,
      "outputs": []
    },
    {
      "cell_type": "code",
      "source": [
        "# 연락처를 저장할 list를 만들어 book 함수에 할당\n",
        "contact_book = [{\"name\": \"홍길동\", \"num\": \"010-1234-1234\", \"address\": \"부산광역시 해운대구 우동\"},\n",
        "                {\"name\": \"임꺽정\", \"num\": \"010-7845-9685\", \"address\": \"경기도 수원시 영통구\"},\n",
        "                {\"name\": \"이자겸\", \"num\": \"010-6485-5831\", \"address\": \"서울 특별시 종로구\"}]\n",
        "\n",
        "# 무한 반복\n",
        "\n",
        "\n",
        "    # 메뉴를 소개하고 어떤 메뉴를 선택했는지를 입력받아 menu 변수에 할당(문자열)\n",
        "    print(\"\\n=================\\n\")\n",
        "    print(\"1 연락처 추가\")\n",
        "    print(\"2 연락처 검색\")\n",
        "    print(\"3 연락처 모두 보기\")\n",
        "    print(\"4 연락처 삭제\")\n",
        "    print(\"5 연락처 초기화\")\n",
        "    print(\"Q 종료\")\n",
        "    menu = input(\"명령 선택: \")\n",
        "\n",
        "    # menu가 \"1\"이면 add_contact 함수 호출\n",
        "\n",
        "\n",
        "\n",
        "    # menu가 \"2\"면 search_contact 함수 호출\n",
        "\n",
        "\n",
        "\n",
        "    # menu가 \"3\"이면 view_all_contact 함수 호출\n",
        "\n",
        "\n",
        "\n",
        "    # menu가 \"4\"이면 remove_contact 함수 호출\n",
        "\n",
        "\n",
        "\n",
        "    # menu가 \"5\"면 clear_contact 함수 호출\n",
        "\n",
        "\n",
        "\n",
        "    # menu를 대문자로 바꾼 값이 \"Q\"이면 \"종료합니다\"를 출력하고, 반복 종료(break)\n",
        "\n",
        "\n"
      ],
      "metadata": {
        "colab": {
          "base_uri": "https://localhost:8080/"
        },
        "id": "ZR2925SO_NQp",
        "outputId": "a333e08f-d045-420f-b9e1-41887c36f5a4"
      },
      "execution_count": null,
      "outputs": [
        {
          "name": "stdout",
          "output_type": "stream",
          "text": [
            "\n",
            "=================\n",
            "\n",
            "1 연락처 추가\n",
            "2 연락처 검색\n",
            "3 연락처 삭제\n",
            "4 연락처 초기화\n",
            "0 종료\n",
            "명령 선택: 2\n",
            "검색할 이름: 홍길동\n",
            "이름: 홍길동, 연락처: 010-1234-1234, 주소: 부산광역시 해운대구 우동\n",
            "\n",
            "=================\n",
            "\n",
            "1 연락처 추가\n",
            "2 연락처 검색\n",
            "3 연락처 삭제\n",
            "4 연락처 초기화\n",
            "0 종료\n",
            "명령 선택: 3\n",
            "삭제할 이름: 홍길동\n",
            "이름: 홍길동, 연락처: 010-1234-1234, 주소: 부산광역시 해운대구 우동\n",
            "삭제하시겠습니까? (y / n)y\n",
            "삭제되었습니다.\n",
            "\n",
            "=================\n",
            "\n",
            "1 연락처 추가\n",
            "2 연락처 검색\n",
            "3 연락처 삭제\n",
            "4 연락처 초기화\n",
            "0 종료\n",
            "명령 선택: 2\n",
            "검색할 이름: 홍길동\n",
            "\n",
            "=================\n",
            "\n",
            "1 연락처 추가\n",
            "2 연락처 검색\n",
            "3 연락처 삭제\n",
            "4 연락처 초기화\n",
            "0 종료\n",
            "명령 선택: 0\n"
          ]
        }
      ]
    }
  ]
}