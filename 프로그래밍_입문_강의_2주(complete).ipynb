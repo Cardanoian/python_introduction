{
  "nbformat": 4,
  "nbformat_minor": 0,
  "metadata": {
    "colab": {
      "provenance": []
    },
    "kernelspec": {
      "name": "python3",
      "display_name": "Python 3"
    },
    "language_info": {
      "name": "python"
    }
  },
  "cells": [
    {
      "cell_type": "markdown",
      "source": [
        "# 리스트(List)"
      ],
      "metadata": {
        "id": "UQhvP39TbSGD"
      }
    },
    {
      "cell_type": "markdown",
      "source": [
        "## 리스트 생성"
      ],
      "metadata": {
        "id": "DxaFXbbUbU-M"
      }
    },
    {
      "cell_type": "code",
      "execution_count": null,
      "metadata": {
        "colab": {
          "base_uri": "https://localhost:8080/"
        },
        "id": "Rgkan3OVbD-A",
        "outputId": "f80f23ff-857a-48a8-c3b5-16e5ac3e8694"
      },
      "outputs": [
        {
          "output_type": "execute_result",
          "data": {
            "text/plain": [
              "[1, 2, 3, 4, 5]"
            ]
          },
          "metadata": {},
          "execution_count": 1
        }
      ],
      "source": [
        "# 1부터 5까지의 수를 원소로 하는 리스트를 만들어 numbers라는 변수에 할당\n",
        "numbers = [1,2,3,4,5]\n",
        "list(range(1,6))"
      ]
    },
    {
      "cell_type": "code",
      "source": [
        "# 1부터 5까지의 수를 원소로 하는 리스트를 만들어 numbers라는 변수에 할당(range 사용)\n",
        "# range(시작, 끝, 스텝) 끝은 포함하지 않는다.\n",
        "numbers = list(range(1, 6))\n",
        "print(numbers)\n",
        "\n",
        "# 3부터 9까지의 홀수를 원소로 하는 리스트를 만들어 numbers라는 변수에 할당(range 사용)\n",
        "numbers = list(range(3, 10, 2))\n",
        "print(numbers)"
      ],
      "metadata": {
        "colab": {
          "base_uri": "https://localhost:8080/"
        },
        "id": "tOVWQ3HjbeLv",
        "outputId": "6b670dbb-5938-494f-a749-4f2cf492e158"
      },
      "execution_count": null,
      "outputs": [
        {
          "output_type": "stream",
          "name": "stdout",
          "text": [
            "[1, 2, 3, 4, 5]\n",
            "[3, 5, 7, 9]\n"
          ]
        }
      ]
    },
    {
      "cell_type": "markdown",
      "source": [
        "## 인덱싱(indexing)과 슬라이싱(slicing)\n",
        "\n",
        "[시작인덱스:마지막인덱스+1]\n"
      ],
      "metadata": {
        "id": "KF4_5auZbiJE"
      }
    },
    {
      "cell_type": "code",
      "source": [
        "cities = ['서울', '부산', '인천', '대구', '대전', '광주', '울산', '수원']\n",
        "# 인덱싱 - 1번째, 3번째, 5번째 도시 출력하기\n",
        "# 1번째\n",
        "print(cities[0])    # 서울\n",
        "print(cities[2])   # 인천\n",
        "print(cities[4])   # 대전\n",
        "\n",
        "# 슬라이싱 - 첫번째~6번째, 4번째~6번째, 전체, 역순서 전체\n",
        "print(cities[0:6])\n",
        "print(cities[3:6])\n",
        "print(cities[0:8])\n",
        "print(cities[:])\n",
        "print(cities[-8:-3])\n",
        "print(cities[0:5])"
      ],
      "metadata": {
        "colab": {
          "base_uri": "https://localhost:8080/"
        },
        "id": "2_k1xJKMbjkt",
        "outputId": "1a06c004-b116-4467-9943-874d898f27f7"
      },
      "execution_count": null,
      "outputs": [
        {
          "output_type": "stream",
          "name": "stdout",
          "text": [
            "서울\n",
            "인천\n",
            "대전\n",
            "['서울', '부산', '인천', '대구', '대전', '광주']\n",
            "['대구', '대전', '광주']\n",
            "['서울', '부산', '인천', '대구', '대전', '광주', '울산', '수원']\n",
            "['서울', '부산', '인천', '대구', '대전', '광주', '울산', '수원']\n",
            "['서울', '부산', '인천', '대구', '대전']\n",
            "['서울', '부산', '인천', '대구', '대전']\n"
          ]
        }
      ]
    },
    {
      "cell_type": "markdown",
      "source": [
        "## 리스트 메서드\n",
        "* append()\n",
        "* sort()\n",
        "* index()\n",
        "* pop()"
      ],
      "metadata": {
        "id": "d8Wl04KHeYmO"
      }
    },
    {
      "cell_type": "code",
      "source": [
        "cities = ['서울', '부산', '인천', '대구', '대전', '광주', '울산', '수원']"
      ],
      "metadata": {
        "id": "3kN-dlZtc-25"
      },
      "execution_count": null,
      "outputs": []
    },
    {
      "cell_type": "code",
      "source": [
        "# cities에 '제주'를 마지막에 추가하기\n",
        "cities.append(\"제주\")\n",
        "print(cities)\n",
        "cities.append(\"울산\")\n",
        "print(cities)\n",
        "print(cities.pop())\n",
        "print(cities)"
      ],
      "metadata": {
        "colab": {
          "base_uri": "https://localhost:8080/"
        },
        "id": "x6Llha3yelad",
        "outputId": "560b37b4-f24e-4b7a-8fcd-52dc1ecc9541"
      },
      "execution_count": null,
      "outputs": [
        {
          "output_type": "stream",
          "name": "stdout",
          "text": [
            "['서울', '부산', '인천', '대구', '대전', '광주', '울산', '수원', '제주']\n",
            "['서울', '부산', '인천', '대구', '대전', '광주', '울산', '수원', '제주', '울산']\n",
            "울산\n",
            "['서울', '부산', '인천', '대구', '대전', '광주', '울산', '수원', '제주']\n"
          ]
        }
      ]
    },
    {
      "cell_type": "code",
      "source": [
        "# cities를 오름차순으로 정렬하기\n",
        "cities.sort()\n",
        "print(cities)"
      ],
      "metadata": {
        "colab": {
          "base_uri": "https://localhost:8080/"
        },
        "id": "MSJf_OR6ezwL",
        "outputId": "570b8d9a-aee8-4a82-8a07-0cd6538f8112"
      },
      "execution_count": null,
      "outputs": [
        {
          "output_type": "stream",
          "name": "stdout",
          "text": [
            "['광주', '대구', '대전', '부산', '서울', '수원', '울산', '인천', '제주']\n"
          ]
        }
      ]
    },
    {
      "cell_type": "code",
      "source": [
        "# cities를 내림차순으로 정렬하기\n",
        "cities.sort(reverse=True)\n",
        "print(cities)"
      ],
      "metadata": {
        "colab": {
          "base_uri": "https://localhost:8080/"
        },
        "id": "-vyn8F4ve2bW",
        "outputId": "985f588e-6e39-4b52-cfdd-3201385ece83"
      },
      "execution_count": null,
      "outputs": [
        {
          "output_type": "stream",
          "name": "stdout",
          "text": [
            "['제주', '인천', '울산', '수원', '서울', '부산', '대전', '대구', '광주']\n"
          ]
        }
      ]
    },
    {
      "cell_type": "code",
      "source": [
        "# cities에서 '서울'의 위치(인덱스) 받기  => 4\n",
        "print(cities.index(\"서울\"))\n",
        "print(f\"대구: {cities.index('대구')}\")"
      ],
      "metadata": {
        "colab": {
          "base_uri": "https://localhost:8080/"
        },
        "id": "N5sg2Yxre6d9",
        "outputId": "2c53e0ab-2e2f-4010-aa49-f7472bb60412"
      },
      "execution_count": null,
      "outputs": [
        {
          "output_type": "stream",
          "name": "stdout",
          "text": [
            "4\n",
            "대구: 7\n"
          ]
        }
      ]
    },
    {
      "cell_type": "code",
      "source": [
        "# cities의 마지막 원소 버리기\n",
        "cities.pop()\n",
        "print(cities)"
      ],
      "metadata": {
        "colab": {
          "base_uri": "https://localhost:8080/"
        },
        "id": "w3LY5HT3fCa7",
        "outputId": "e438d88a-5ef2-4ec7-8b90-b2c323af529d"
      },
      "execution_count": null,
      "outputs": [
        {
          "output_type": "stream",
          "name": "stdout",
          "text": [
            "['제주', '인천', '울산', '수원', '서울', '부산', '대전', '대구']\n"
          ]
        }
      ]
    },
    {
      "cell_type": "markdown",
      "source": [
        "## min(), max(), sum(), len() 함수\n",
        "* min() 최소값\n",
        "* max() 최대값\n",
        "* sum() 합계\n",
        "* len() 길이(원소의 수)"
      ],
      "metadata": {
        "id": "tOvMMCo1gi1x"
      }
    },
    {
      "cell_type": "code",
      "source": [
        "nums = [1, 3, 7, 18, 20, 22]\n",
        "\n",
        "# 최소값 구하기\n",
        "print(min(nums))\n",
        "\n",
        "# 최대값 구하기\n",
        "print(max(nums))\n",
        "\n",
        "# 합계 구하기\n",
        "print(sum(nums))\n",
        "\n",
        "# 길이 구하기\n",
        "print(len(nums))\n",
        "\n",
        "# 평균 구하기\n",
        "# 합 / 원소 수\n",
        "avg = sum(nums) / len(nums)\n",
        "print(f\"평균: {avg:.2f}\")"
      ],
      "metadata": {
        "colab": {
          "base_uri": "https://localhost:8080/"
        },
        "id": "c4ZFwCaZgmHN",
        "outputId": "68fd9a5b-22f4-4e94-ed54-d9dc735577c0"
      },
      "execution_count": null,
      "outputs": [
        {
          "output_type": "stream",
          "name": "stdout",
          "text": [
            "1\n",
            "22\n",
            "71\n",
            "6\n",
            "평균: 11.83\n"
          ]
        }
      ]
    },
    {
      "cell_type": "markdown",
      "source": [
        "## in  / not in 멤버 연산자"
      ],
      "metadata": {
        "id": "KMPy2mU2fbWf"
      }
    },
    {
      "cell_type": "code",
      "source": [
        "# \"광주\"가 cities에 포함되었는지 출력\n",
        "print(\"광주\" in cities)\n",
        "\n",
        "# \"광주\"가 cities에 포함되지 않았는지 출력\n",
        "print(\"광주\" not in cities)\n"
      ],
      "metadata": {
        "colab": {
          "base_uri": "https://localhost:8080/"
        },
        "id": "acHbUJ6MfLiF",
        "outputId": "9a5b80fe-aff2-4ef1-8717-2cddd94548f2"
      },
      "execution_count": null,
      "outputs": [
        {
          "output_type": "stream",
          "name": "stdout",
          "text": [
            "False\n",
            "True\n"
          ]
        }
      ]
    },
    {
      "cell_type": "markdown",
      "source": [
        "# 조건문"
      ],
      "metadata": {
        "id": "m1ndqtnLfv9E"
      }
    },
    {
      "cell_type": "markdown",
      "source": [
        "### if - else"
      ],
      "metadata": {
        "id": "pA7OcEBuiaZ6"
      }
    },
    {
      "cell_type": "code",
      "source": [
        "# 정수를 입력받아 score 변수에 할당\n",
        "score = int(input())\n",
        "\n",
        "# 점수가 60 이상이면 \"합격입니다.\" 출력하고\n",
        "if score >= 60:\n",
        "    print(\"합격입니다.\")\n",
        "\n",
        "# 아니라면 \"불합격입니다.\" 출력하기\n",
        "else:\n",
        "    print(\"불합격입니다.\")\n",
        "    print(\"공부하세요.\")"
      ],
      "metadata": {
        "colab": {
          "base_uri": "https://localhost:8080/"
        },
        "id": "VnpXvFu0fkUk",
        "outputId": "a82d2cde-eb00-443f-8216-fa811e53ed11"
      },
      "execution_count": null,
      "outputs": [
        {
          "output_type": "stream",
          "name": "stdout",
          "text": [
            "80\n",
            "합격입니다.\n"
          ]
        }
      ]
    },
    {
      "cell_type": "markdown",
      "source": [
        "### 여러 줄"
      ],
      "metadata": {
        "id": "KGos8vgaicH2"
      }
    },
    {
      "cell_type": "code",
      "source": [
        "# 정수를 입력받아 score 변수에 할당\n",
        "score = int(input())\n",
        "\n",
        "# 점수가 90 이상이면\n",
        "# \"합격입니다.\"와\n",
        "# \"장학금을 받습니다.\" 출력하기\n",
        "if 90 <= score:\n",
        "    print(\"합격입니다.\")\n",
        "    print(\"장학금을 받습니다.\")\n"
      ],
      "metadata": {
        "id": "5KXzqpB5gCam",
        "colab": {
          "base_uri": "https://localhost:8080/"
        },
        "outputId": "cd8b3cca-2e40-4c43-be97-fdf03b07c797"
      },
      "execution_count": null,
      "outputs": [
        {
          "output_type": "stream",
          "name": "stdout",
          "text": [
            "95\n",
            "합격입니다.\n",
            "장학금을 받습니다.\n"
          ]
        }
      ]
    },
    {
      "cell_type": "markdown",
      "source": [
        "### if - elif - else"
      ],
      "metadata": {
        "id": "vyiZ_NJNigFW"
      }
    },
    {
      "cell_type": "code",
      "source": [
        "# 정수를 입력받아 num 변수에 할당\n",
        "num = int(input())\n",
        "\n",
        "# num이 0보다 크면 \"양수입니다.\" 출력\n",
        "if num > 0:\n",
        "    print(\"양수입니다.\")\n",
        "\n",
        "# num이 0이라면 \"0입니다.\" 출력\n",
        "elif num == 0:\n",
        "    print(\"0입니다.\")\n",
        "\n",
        "# 그 외에는 \"음수입니다.\" 출력\n",
        "else:\n",
        "    print(\"음수입니다.\")\n"
      ],
      "metadata": {
        "colab": {
          "base_uri": "https://localhost:8080/"
        },
        "id": "-GSM1iA9gI0t",
        "outputId": "3639266c-7f83-4d77-bd77-cd797ce38163"
      },
      "execution_count": null,
      "outputs": [
        {
          "output_type": "stream",
          "name": "stdout",
          "text": [
            "2.3\n",
            "양수입니다.\n"
          ]
        }
      ]
    },
    {
      "cell_type": "markdown",
      "source": [
        "### 학점과 장학금"
      ],
      "metadata": {
        "id": "xTcGYRUZityC"
      }
    },
    {
      "cell_type": "code",
      "source": [
        "# 정수형 데이터 점수를 입력받아 score 변수에 할당\n",
        "score = int(input())\n",
        "\n",
        "# 정수형 데이터 석차를 입력받아 ranking 변수에 할당\n",
        "ranking = int(input())\n",
        "\n",
        "# 점수 구간에 맞게 학점을 알파벳으로 출력하기\n",
        "# 90 이상 \"A\"\n",
        "if score >= 90:\n",
        "    print(\"A\")\n",
        "\n",
        "# 80이상 \"B\"\n",
        "elif score >= 80:\n",
        "    print(\"B\")\n",
        "\n",
        "# 70이상 \"C\"\n",
        "elif score >= 70:\n",
        "    print(\"C\")\n",
        "\n",
        "# 60이상 \"D\"\n",
        "elif score >= 60:\n",
        "    print(\"D\")\n",
        "\n",
        "# 그 외에는 \"F\"\n",
        "else:\n",
        "    print(\"F\")\n",
        "\n",
        "# 석차가 10등 이하라면 \"장학금을 받습니다.\" 출력하고,\n",
        "# 그 외에는 \"장학금을 못받습니다.\" 출력하기.\n",
        "if ranking <= 10:\n",
        "    print(\"장학금을 받습니다.\")\n",
        "else:\n",
        "    print(\"장학금을 못받습니다.\")\n"
      ],
      "metadata": {
        "colab": {
          "base_uri": "https://localhost:8080/"
        },
        "id": "9aCyholAiVRl",
        "outputId": "809f0582-21e9-4267-81b3-555daff9baca"
      },
      "execution_count": null,
      "outputs": [
        {
          "output_type": "stream",
          "name": "stdout",
          "text": [
            "85\n",
            "1\n",
            "B\n",
            "C\n",
            "D\n"
          ]
        }
      ]
    },
    {
      "cell_type": "markdown",
      "source": [
        "### 온라인 할인 쿠폰 시스템 만들기"
      ],
      "metadata": {
        "id": "_MrNkiKejN8U"
      }
    },
    {
      "cell_type": "code",
      "source": [
        "# 정수형 데이터 가격을 입력받아 price 변수에 저장\n",
        "price = int(input(\"가격: \"))\n",
        "\n",
        "# 정수형 데이터 쿠폰 수량을 입력받아 coupon3000 변수에 저장\n",
        "coupon3000 = int(input(\"3000원 쿠폰: \"))\n",
        "\n",
        "# 정수형 데이터 쿠폰 수량을 입력받아 coupon20 변수에 저장\n",
        "coupon20 = int(input(\"20% 쿠폰: \"))\n",
        "\n",
        "# 20% 할인 쿠폰이 있다면 가격을 20% 할인하기\n",
        "if coupon20 > 0:\n",
        "    price = price * 0.8\n",
        "\n",
        "# 3000원 쿠폰 수량에 맞게 가격 낮추기\n",
        "price = price - (3000 * coupon3000)\n",
        "\n",
        "# 금액이 0원보다 낮다면 0으로 고치기\n",
        "if price < 0:\n",
        "    price = 0\n",
        "\n",
        "# 지불할 가격 출력하기\n",
        "print(f\"가격은 {int(price)}원입니다.\")\n"
      ],
      "metadata": {
        "colab": {
          "base_uri": "https://localhost:8080/"
        },
        "id": "dHWRd0FJjHFt",
        "outputId": "fe52e7b3-9087-48a9-a584-da52f4335edf"
      },
      "execution_count": 3,
      "outputs": [
        {
          "output_type": "stream",
          "name": "stdout",
          "text": [
            "가격: 27547\n",
            "3000원 쿠폰: 2\n",
            "20% 쿠폰: 100\n",
            "가격은 16037원입니다.\n"
          ]
        }
      ]
    },
    {
      "cell_type": "markdown",
      "source": [
        "### 합격 여부 판단하기"
      ],
      "metadata": {
        "id": "sml_BaF4knhu"
      }
    },
    {
      "cell_type": "code",
      "source": [
        "# 빈 리스트 scores 선언\n",
        "scores:list[int] = []\n",
        "\n",
        "# scores list에 4번에 걸쳐 과목들의 점수를 입력받기\n",
        "korean = int(input(\"국어 점수: \"))\n",
        "english = int(input(\"영어 점수: \"))\n",
        "math = int(input(\"수학 점수: \"))\n",
        "science = int(input(\"과학 점수: \"))\n",
        "scores.append(korean)\n",
        "scores.append(english)\n",
        "scores.append(math)\n",
        "scores.append(science)\n",
        "\n",
        "\n",
        "# 평균이 80 미만이라면 불합격,\n",
        "if sum(scores) / len(scores) < 80:\n",
        "    print(\"불합격\")\n",
        "\n",
        "# 50점 이하인 과목이 있으면 불합격,\n",
        "elif min(scores) <= 50:\n",
        "    print(\"불합격\")\n",
        "\n",
        "# 그렇지 않으면 합격 출력\n",
        "else:\n",
        "    print(\"합격\")\n"
      ],
      "metadata": {
        "colab": {
          "base_uri": "https://localhost:8080/"
        },
        "id": "jNTp97oOkBPQ",
        "outputId": "ce5eb01e-79e1-49e4-fa3d-2b5de53ddc16"
      },
      "execution_count": 5,
      "outputs": [
        {
          "output_type": "stream",
          "name": "stdout",
          "text": [
            "국어 점수: 60\n",
            "영어 점수: 100\n",
            "수학 점수: 70\n",
            "과학 점수: 90\n",
            "합격\n"
          ]
        }
      ]
    },
    {
      "cell_type": "markdown",
      "source": [
        "### 교통카드 시스템 만들기"
      ],
      "metadata": {
        "id": "H3zX80skkqM5"
      }
    },
    {
      "cell_type": "code",
      "source": [
        "# 정수 타입으로 나이를 입력받아 age 변수에 저장\n",
        "age = int(input(\"나이: \"))\n",
        "\n",
        "# 정수 타입으로 잔액을 입력받아 money 변수에 저장\n",
        "money = int(input(\"버스카드 잔액: \"))\n",
        "\n",
        "# 계산 편의를 위해 버스요금을 fee라는 변수로 선언\n",
        "fee = 0\n",
        "\n",
        "# 나이에 따라 요금이 fee의 값이 어떻게 바뀔 지 조건문 만들기\n",
        "# 7세 미만이면 0원\n",
        "if age < 7:\n",
        "    fee = 0\n",
        "\n",
        "# 7세 이상 13세 미만이면 600원\n",
        "elif age < 13:\n",
        "    fee = 600\n",
        "\n",
        "# 13세 이상 19세 미만이면 900원\n",
        "elif age < 19:\n",
        "    fee = 900\n",
        "\n",
        "# 그 외에는 1200원\n",
        "else:\n",
        "    fee = 1200\n",
        "\n",
        "# 잔액이 부족하면 탈 수 없다고 하고,\n",
        "if money < fee:\n",
        "    print(\"탈 수 없습니다.\")\n",
        "\n",
        "# 잔액이 충분하다면 버스를 타고 난 잔액을 출력\n",
        "else:\n",
        "    money = money - fee\n",
        "    print(f\"{fee}원을 지불하고, 카드 잔액은 {money}원입니다.\")\n"
      ],
      "metadata": {
        "colab": {
          "base_uri": "https://localhost:8080/"
        },
        "id": "_gYNrM5hktaR",
        "outputId": "968a9bfe-efdb-44ae-9c04-73528cc38cb7"
      },
      "execution_count": 6,
      "outputs": [
        {
          "output_type": "stream",
          "name": "stdout",
          "text": [
            "78\n",
            "1100\n",
            "탈 수 없습니다.\n"
          ]
        }
      ]
    },
    {
      "cell_type": "code",
      "source": [],
      "metadata": {
        "id": "1g9D5eWEo9c3"
      },
      "execution_count": null,
      "outputs": []
    }
  ]
}