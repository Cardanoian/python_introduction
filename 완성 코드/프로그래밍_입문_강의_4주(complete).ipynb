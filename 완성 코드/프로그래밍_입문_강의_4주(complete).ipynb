{
  "nbformat": 4,
  "nbformat_minor": 0,
  "metadata": {
    "colab": {
      "provenance": []
    },
    "kernelspec": {
      "name": "python3",
      "display_name": "Python 3"
    },
    "language_info": {
      "name": "python"
    }
  },
  "cells": [
    {
      "cell_type": "markdown",
      "source": [
        "# 지난 시간 문제 풀이"
      ],
      "metadata": {
        "id": "q4j96kttgeOq"
      }
    },
    {
      "cell_type": "code",
      "source": [
        "# 구구단 1단 ~ 9단 중 홀수만 모두 출력하기\n",
        "\n",
        "for dan in range(1, 10):\n",
        "    for i in range(1, 10):\n",
        "        if (dan * i ) % 2 == 0:\n",
        "            continue\n",
        "        print(f\"{dan} X {i} = {dan * i:2d}\", end=\"  \")\n",
        "    if dan % 2 == 1:\n",
        "        print()"
      ],
      "metadata": {
        "colab": {
          "base_uri": "https://localhost:8080/"
        },
        "id": "gh5aRWJEu8ho",
        "outputId": "9824ad68-ac35-4d18-e83c-1d7a04f3db0c"
      },
      "execution_count": 4,
      "outputs": [
        {
          "output_type": "stream",
          "name": "stdout",
          "text": [
            "1 X 1 =  1  1 X 3 =  3  1 X 5 =  5  1 X 7 =  7  1 X 9 =  9  \n",
            "3 X 1 =  3  3 X 3 =  9  3 X 5 = 15  3 X 7 = 21  3 X 9 = 27  \n",
            "5 X 1 =  5  5 X 3 = 15  5 X 5 = 25  5 X 7 = 35  5 X 9 = 45  \n",
            "7 X 1 =  7  7 X 3 = 21  7 X 5 = 35  7 X 7 = 49  7 X 9 = 63  \n",
            "9 X 1 =  9  9 X 3 = 27  9 X 5 = 45  9 X 7 = 63  9 X 9 = 81  \n"
          ]
        }
      ]
    },
    {
      "cell_type": "code",
      "source": [
        "# 구구단 1단 ~ 9단 중 짝수만 모두 출력하기\n",
        "\n",
        "for dan in range(1, 10):\n",
        "    for i in range(1, 10):\n",
        "        if (dan * i ) % 2 == 1:\n",
        "            continue\n",
        "        print(f\"{dan} X {i} = {dan * i:2d}\", end=\"  \")\n",
        "        # print(\"%d X %d = %2d\"%(dan, i ,dan * i), end=\"  \")\n",
        "        # print(\"{0} X {1} = {2:2d}\".format(dan, i, dan * i), end=\"  \")\n",
        "    print()"
      ],
      "metadata": {
        "colab": {
          "base_uri": "https://localhost:8080/"
        },
        "id": "5nAJOiSbu5Kt",
        "outputId": "5d6e7f15-5aeb-499e-b2ee-1e205987cd7c"
      },
      "execution_count": 11,
      "outputs": [
        {
          "output_type": "stream",
          "name": "stdout",
          "text": [
            "1 X 2 =  2  1 X 4 =  4  1 X 6 =  6  1 X 8 =  8  \n",
            "2 X 1 =  2  2 X 2 =  4  2 X 3 =  6  2 X 4 =  8  2 X 5 = 10  2 X 6 = 12  2 X 7 = 14  2 X 8 = 16  2 X 9 = 18  \n",
            "3 X 2 =  6  3 X 4 = 12  3 X 6 = 18  3 X 8 = 24  \n",
            "4 X 1 =  4  4 X 2 =  8  4 X 3 = 12  4 X 4 = 16  4 X 5 = 20  4 X 6 = 24  4 X 7 = 28  4 X 8 = 32  4 X 9 = 36  \n",
            "5 X 2 = 10  5 X 4 = 20  5 X 6 = 30  5 X 8 = 40  \n",
            "6 X 1 =  6  6 X 2 = 12  6 X 3 = 18  6 X 4 = 24  6 X 5 = 30  6 X 6 = 36  6 X 7 = 42  6 X 8 = 48  6 X 9 = 54  \n",
            "7 X 2 = 14  7 X 4 = 28  7 X 6 = 42  7 X 8 = 56  \n",
            "8 X 1 =  8  8 X 2 = 16  8 X 3 = 24  8 X 4 = 32  8 X 5 = 40  8 X 6 = 48  8 X 7 = 56  8 X 8 = 64  8 X 9 = 72  \n",
            "9 X 2 = 18  9 X 4 = 36  9 X 6 = 54  9 X 8 = 72  \n"
          ]
        }
      ]
    },
    {
      "cell_type": "markdown",
      "source": [
        "## list를 활용한 반복문"
      ],
      "metadata": {
        "id": "DQ4kquDvaiUS"
      }
    },
    {
      "cell_type": "code",
      "source": [
        "# list에 있는 모든 숫자의 제곱을 구하고, 새로운 리스트에 저장하기\n",
        "# 예시 list입니다. 수정하지 마세요!\n",
        "# 1~20 리스트\n",
        "numbers = [i for i in range(1, 21)]\n",
        "print(numbers)\n",
        "\n",
        "# 결과를 담을 리스트 result 선언하기\n",
        "result = []\n",
        "\n",
        "# for문 활용해서 numbers 의 원소를 num이라는 임시 변수로 부르고,\n",
        "# 제곱한 값을 result에 삽입하기\n",
        "for num in numbers:\n",
        "    result.append(num ** 2)\n",
        "\n",
        "# result 출력하기\n",
        "print(result)"
      ],
      "metadata": {
        "colab": {
          "base_uri": "https://localhost:8080/"
        },
        "id": "uzMTOMjzalZi",
        "outputId": "c12c0e07-57d6-4b0f-9224-88ffed6b1c84"
      },
      "execution_count": 14,
      "outputs": [
        {
          "output_type": "stream",
          "name": "stdout",
          "text": [
            "[1, 2, 3, 4, 5, 6, 7, 8, 9, 10, 11, 12, 13, 14, 15, 16, 17, 18, 19, 20]\n",
            "[1, 4, 9, 16, 25, 36, 49, 64, 81, 100, 121, 144, 169, 196, 225, 256, 289, 324, 361, 400]\n"
          ]
        }
      ]
    },
    {
      "cell_type": "code",
      "source": [
        "# 1부터 50까지의 숫자 중에서 짝수만 모은 리스트 result를 만들고 출력하기\n",
        "\n",
        "result = []\n",
        "\n",
        "# for문 활용해서 임시 변수 i를 1부터 50까지 돌린다.(range() 함수 활용)\n",
        "# if 문을 활용하여 짝수면 result에 삽입하기\n",
        "for i in range(1, 51):\n",
        "    if i % 2 == 0:\n",
        "        result.append(i)\n",
        "\n",
        "# result 출력하기\n",
        "print(result)"
      ],
      "metadata": {
        "colab": {
          "base_uri": "https://localhost:8080/"
        },
        "id": "TLv7mScObqYo",
        "outputId": "223bb105-d9ec-45a3-f728-225cc22458be"
      },
      "execution_count": 16,
      "outputs": [
        {
          "output_type": "stream",
          "name": "stdout",
          "text": [
            "[2, 4, 6, 8, 10, 12, 14, 16, 18, 20, 22, 24, 26, 28, 30, 32, 34, 36, 38, 40, 42, 44, 46, 48, 50]\n"
          ]
        }
      ]
    },
    {
      "cell_type": "code",
      "source": [
        "# str_list의 원소인 문자열들의 길이를 각각 출력하기\n",
        "str_list = [\"approach\", \"declaring\", \"initialized\", \"variable\", \"structure\"]\n",
        "\n",
        "# for문 활용하여 str_list의 원소를 word라는 임시변수로 돌린다.\n",
        "# word의 길이를 출력한다.\n",
        "for word in str_list:\n",
        "    print(f\"{word}의 길이는 {len(word)}\")\n"
      ],
      "metadata": {
        "colab": {
          "base_uri": "https://localhost:8080/"
        },
        "id": "Npn9ovg7cGb3",
        "outputId": "27fb260f-7743-4c64-c10b-d3bb4f213a47"
      },
      "execution_count": 17,
      "outputs": [
        {
          "output_type": "stream",
          "name": "stdout",
          "text": [
            "approach의 길이는 8\n",
            "declaring의 길이는 9\n",
            "initialized의 길이는 11\n",
            "variable의 길이는 8\n",
            "structure의 길이는 9\n"
          ]
        }
      ]
    },
    {
      "cell_type": "markdown",
      "source": [
        "### dictionary를 활용한 반복문"
      ],
      "metadata": {
        "id": "gqr3yCoedGaB"
      }
    },
    {
      "cell_type": "markdown",
      "source": [
        "#### 다음 과일 정보가 입력된 fruits 변수를 활용해 아래 문제를 해결하세요."
      ],
      "metadata": {
        "id": "XHrOT67ueJaB"
      }
    },
    {
      "cell_type": "code",
      "source": [
        "# 이 데이터는 실행만 하고 수정 금지\n",
        "fruits = {\"사과\": 3000, \"바나나\": 2000, \"체리\": 2500, \"배\": 4000, \"감\": 1500,\n",
        "          \"오렌지\": 1000, \"석류\": 3500, \"포도\": 3300}"
      ],
      "metadata": {
        "id": "lH7TVEFAdJ64"
      },
      "execution_count": 19,
      "outputs": []
    },
    {
      "cell_type": "markdown",
      "source": [
        "#### 1. fruits에 담긴 과일들의 이름을 출력해보세요."
      ],
      "metadata": {
        "id": "LEFqn1yEeRvQ"
      }
    },
    {
      "cell_type": "code",
      "source": [
        "# for문, 딕셔너리 method 이용하기\n",
        "# {\"key\": \"value\"}\n",
        "print(fruits.keys())\n",
        "\n",
        "for name in fruits.keys():\n",
        "    print(name)\n"
      ],
      "metadata": {
        "colab": {
          "base_uri": "https://localhost:8080/"
        },
        "id": "udoJP_WfeMXZ",
        "outputId": "cf199591-d6f2-40dc-ad42-701f8fb9093b"
      },
      "execution_count": 21,
      "outputs": [
        {
          "output_type": "stream",
          "name": "stdout",
          "text": [
            "dict_keys(['사과', '바나나', '체리', '배', '감', '오렌지', '석류', '포도'])\n",
            "사과\n",
            "바나나\n",
            "체리\n",
            "배\n",
            "감\n",
            "오렌지\n",
            "석류\n",
            "포도\n"
          ]
        }
      ]
    },
    {
      "cell_type": "markdown",
      "source": [
        "#### 2. fruits에 담긴 과일들의 이름과 가격을 출력해보세요."
      ],
      "metadata": {
        "id": "RR4mJ5UXeUhY"
      }
    },
    {
      "cell_type": "code",
      "source": [
        "# for문, Unpacking, 딕셔너리 method 이용하기\n",
        "# ex) 사과: 3000원\n",
        "\n",
        "for name, price in fruits.items():\n",
        "    print(name, price)\n"
      ],
      "metadata": {
        "colab": {
          "base_uri": "https://localhost:8080/"
        },
        "id": "WCwMZH_JeNJi",
        "outputId": "b3556bc6-9a5f-40eb-945d-3ec42dca8a71"
      },
      "execution_count": 24,
      "outputs": [
        {
          "output_type": "stream",
          "name": "stdout",
          "text": [
            "사과 3000\n",
            "바나나 2000\n",
            "체리 2500\n",
            "배 4000\n",
            "감 1500\n",
            "오렌지 1000\n",
            "석류 3500\n",
            "포도 3300\n"
          ]
        }
      ]
    },
    {
      "cell_type": "markdown",
      "source": [
        "#### 3. 가장 비싼 과일과, 가장 싼 과일의 이름과 가격을 각각 출력하세요.\n",
        "- 비싼 과일: 배 4000원\n",
        "- 싼 과일: 오렌지 1000원"
      ],
      "metadata": {
        "id": "13wr3f7KeXZq"
      }
    },
    {
      "cell_type": "code",
      "source": [
        "# 가장 비싼 과일의 데이터를 저장할 expensive 라는 dictionary형식의 변수 지정\n",
        "# key로 \"name\"과 \"price\"를 만들고 적당한 값으로 초기화\n",
        "expensive = {\"name\": \"\", \"price\": 0}\n",
        "\n",
        "# 가장 싼 과일의 데이터를 저장할 cheap라는 dictionary형식의 변수 지정\n",
        "# key로 \"name\"과 \"price\"를 만들고 적당한 값으로 초기화\n",
        "cheap = {\"name\": \"\", \"price\": 999999}\n",
        "\n",
        "# for 문을 활용하여 fruits의 name과 price를 위에 만든 dictionary와 비교한다.\n",
        "# if 문 활용하기\n",
        "\n",
        "for name, price in fruits.items():\n",
        "    if price > expensive[\"price\"]:\n",
        "        expensive[\"name\"] = name\n",
        "        expensive[\"price\"] = price\n",
        "\n",
        "    if price < cheap[\"price\"]:\n",
        "        cheap[\"name\"] = name\n",
        "        cheap[\"price\"] = price\n",
        "\n",
        "# 가장 비싼 과일과 싼 과일의 정보를 출력한다.\n",
        "\n",
        "print(f\"비싼 과일: {expensive['name']} {expensive['price']}원\")\n",
        "print(f\"싼 과일: {cheap['name']} {cheap['price']}원\")"
      ],
      "metadata": {
        "colab": {
          "base_uri": "https://localhost:8080/"
        },
        "id": "hLWOm0psejno",
        "outputId": "8456c684-9e3e-4a46-b3be-2c920ecdd914"
      },
      "execution_count": 26,
      "outputs": [
        {
          "output_type": "stream",
          "name": "stdout",
          "text": [
            "비싼 과일: 배 4000원\n",
            "싼 과일: 오렌지 1000원\n"
          ]
        }
      ]
    },
    {
      "cell_type": "markdown",
      "source": [
        "#### 단어 빈도수 계산하기"
      ],
      "metadata": {
        "id": "2-J4sCvQgToy"
      }
    },
    {
      "cell_type": "code",
      "source": [
        "# 다음 문장에서 각 단어가 몇 번씩 등장하는지 dictionary를 만들어 저장하고, 출력하기\n",
        "# 단어의 등장 횟수를 저장할 dictionary 변수 frequency 선언\n",
        "sentence = \"apple banana apple strawberry banana lemon apple lemon\"\n",
        "frequency = {}\n",
        "\n",
        "# 문자열 데이터는 문자열.split() 메서드를 이용하면\n",
        "# 띄어쓰기 단위로 잘라 리스트로 만들어 준다\n",
        "# 문자열을 잘라 str_list 변수로 저장한다.\n",
        "str_list = sentence.split()\n",
        "\n",
        "# for 문 활용, str_list의 원소를 임시변수 word로 돌린다.\n",
        "# frequency에 이미 해당 단어가 있다면 빈도를 1 더해주고,\n",
        "# 없다면 만들어준다.\n",
        "for word in str_list:   # <- word == \"apple\"\n",
        "    if word in frequency.keys():\n",
        "        frequency[word] += 1\n",
        "        # frequency[word] = frequency[word] + 1\n",
        "    else:\n",
        "        frequency[word] = 1\n",
        "\n",
        "# frequency 의 값을 key와 value의 쌍으로 출력한다.\n",
        "for k, v in frequency.items():\n",
        "    print(k, v)\n",
        "\n"
      ],
      "metadata": {
        "colab": {
          "base_uri": "https://localhost:8080/"
        },
        "id": "gfVDIR8LgWB5",
        "outputId": "37ca3332-afd6-4beb-c0fc-cd9b4c5c5794"
      },
      "execution_count": 30,
      "outputs": [
        {
          "output_type": "stream",
          "name": "stdout",
          "text": [
            "apple 3\n",
            "banana 2\n",
            "strawberry 1\n",
            "lemon 2\n"
          ]
        }
      ]
    },
    {
      "cell_type": "markdown",
      "source": [
        "# 예외 처리\n",
        "> try와 except 사용"
      ],
      "metadata": {
        "id": "5kmwi4kOZlwV"
      }
    },
    {
      "cell_type": "markdown",
      "source": [
        "- TypeError: 잘못된 자료형을 연산이나 함수에 적용할 때\n",
        "\n",
        "- IndexError: 리스트의 범위를 벗어난 잘못된 인덱싱\n",
        "\n",
        "- NameError: 변수의 이름을 찾을 수 없을 때\n",
        "\n",
        "- ValueError: 연산이나 내장 함수에서 인수가 적절치않은 값을 가지고 있을 때\n",
        "\n",
        "- ZeroDivisionError: 0으로 나눌 때"
      ],
      "metadata": {
        "id": "0nf4AIiGodxq"
      }
    },
    {
      "cell_type": "code",
      "source": [
        "# IndexError\n",
        "\n",
        "arr = [0, 1, 2, 3, 4]\n",
        "\n",
        "# arr의 5번째 원소(컴퓨터 기준)를 출력하기\n",
        "\n",
        "try:\n",
        "    print(arr[100])\n",
        "except:\n",
        "    print(\"인덱스가 벗어났어.\")"
      ],
      "metadata": {
        "id": "lRHYpeiNoigs",
        "colab": {
          "base_uri": "https://localhost:8080/"
        },
        "outputId": "8200a69b-8238-424f-99d6-269d35e869a6"
      },
      "execution_count": 37,
      "outputs": [
        {
          "output_type": "stream",
          "name": "stdout",
          "text": [
            "인덱스가 벗어났어.\n"
          ]
        }
      ]
    },
    {
      "cell_type": "code",
      "source": [
        "# ZeroDivisionError\n",
        "\n",
        "x = 10\n",
        "y = 0\n",
        "\n",
        "try:\n",
        "    z = x / y\n",
        "except:\n",
        "    print(\"0으로는 못나눠\")\n",
        "    z = 0\n",
        "print(f\"z: {z}\")"
      ],
      "metadata": {
        "id": "kBhvrKY7ouhS",
        "colab": {
          "base_uri": "https://localhost:8080/"
        },
        "outputId": "1c9aac26-c1ec-44e8-fb29-1b830ff82516"
      },
      "execution_count": 44,
      "outputs": [
        {
          "output_type": "stream",
          "name": "stdout",
          "text": [
            "0으로는 못나눠\n",
            "z: 10000000000.0\n"
          ]
        }
      ]
    },
    {
      "cell_type": "markdown",
      "source": [
        "## 예외 무시하기"
      ],
      "metadata": {
        "id": "JAMujP8FpV45"
      }
    },
    {
      "cell_type": "code",
      "source": [
        "# 사람 이름을 입력받아 변수 name에 할당\n",
        "name = input(\"이름: \")\n",
        "\n",
        "# name 변수의 값을 정수로 변환해 num 변수에 할당\n",
        "try:\n",
        "    num = int(name)\n",
        "except:\n",
        "    num = \"처리 불가\"\n",
        "# 예외 처리\n",
        "print(num)\n"
      ],
      "metadata": {
        "id": "aa-AavSlo945",
        "colab": {
          "base_uri": "https://localhost:8080/"
        },
        "outputId": "8e45b37e-adb9-4ff1-8b95-10584b0648a9"
      },
      "execution_count": 48,
      "outputs": [
        {
          "output_type": "stream",
          "name": "stdout",
          "text": [
            "이름: 12122sd123125\n",
            "처리 불가\n"
          ]
        }
      ]
    },
    {
      "cell_type": "markdown",
      "source": [
        "# 함수"
      ],
      "metadata": {
        "id": "43x1ZU3Lp1Hy"
      }
    },
    {
      "cell_type": "markdown",
      "source": [
        "## 함수 정의\n",
        "def 함수이름(매개변수): 매개변수 = parameter\n",
        "> return 반환값\n",
        "\n",
        "함수이름(전달인자)  전달인자 = argument"
      ],
      "metadata": {
        "id": "UdJtcuigqiBy"
      }
    },
    {
      "cell_type": "code",
      "source": [
        "# 함수 hello 선언\n",
        "def hello():\n",
        "\n",
        "    # 함수가 선언되면 \"hello\"를 출력\n",
        "    print(\"hello\")\n",
        "\n",
        "# 함수 hello 호출\n",
        "hello()\n"
      ],
      "metadata": {
        "id": "G5QeBmttsTaM",
        "colab": {
          "base_uri": "https://localhost:8080/"
        },
        "outputId": "a95cca94-42b7-4db9-d4db-176a9d78989b"
      },
      "execution_count": 49,
      "outputs": [
        {
          "output_type": "stream",
          "name": "stdout",
          "text": [
            "hello\n"
          ]
        }
      ]
    },
    {
      "cell_type": "markdown",
      "source": [
        "## 인자(argument) 전달"
      ],
      "metadata": {
        "id": "5bp_hRxPreRY"
      }
    },
    {
      "cell_type": "code",
      "source": [
        "#  함수 twice 선언 (parameter로 정수형 number)\n",
        "def twice(number):\n",
        "\n",
        "    # number의 2배를 리턴\n",
        "    return number * 2\n",
        "\n",
        "n = int(input(\"정수: \"))\n",
        "\n",
        "print(twice(n))"
      ],
      "metadata": {
        "id": "FZAzwD5ho98O",
        "colab": {
          "base_uri": "https://localhost:8080/"
        },
        "outputId": "a4cdf255-3e3f-4abd-a255-4faa7592877c"
      },
      "execution_count": 52,
      "outputs": [
        {
          "output_type": "stream",
          "name": "stdout",
          "text": [
            "정수: 4\n",
            "8\n"
          ]
        }
      ]
    },
    {
      "cell_type": "markdown",
      "source": [
        "## 무작위값 사용하기"
      ],
      "metadata": {
        "id": "mxYzu3GxsmJr"
      }
    },
    {
      "cell_type": "code",
      "source": [
        "import random   # 무작위 값을 만들 때 쓰는 모듈\n",
        "\n",
        "# 함수 random_function 선언 (parameter로 정수형 low, high)\n",
        "def random_function(low, high):\n",
        "\n",
        "    # 무작위 값을 리턴\n",
        "    return random.randint(low, high)\n",
        "\n",
        "low = int(input(\"최소값: \"))\n",
        "high = int(input(\"최대값: \"))\n",
        "\n",
        "# 함수 random_function 호출하고 출력하기(argument로 low, high 전달)\n",
        "print(random_function(low, high))\n"
      ],
      "metadata": {
        "id": "ivzdHPYzrIaF",
        "colab": {
          "base_uri": "https://localhost:8080/"
        },
        "outputId": "f36e7d91-1076-4ae6-b29d-7e5eea42541f"
      },
      "execution_count": 55,
      "outputs": [
        {
          "output_type": "stream",
          "name": "stdout",
          "text": [
            "최소값: 3\n",
            "최대값: 4\n",
            "3\n"
          ]
        }
      ]
    },
    {
      "cell_type": "markdown",
      "source": [
        "## Scope\n",
        "전역(global)변수와 지역(local)변수 구분하기"
      ],
      "metadata": {
        "id": "RMSfrcusswge"
      }
    },
    {
      "cell_type": "code",
      "source": [
        "a = 100\n",
        "\n",
        "# 함수 print_a 선언\n",
        "def print_a():\n",
        "\n",
        "    # a의 값 출력하기\n",
        "    print(a)\n",
        "\n",
        "# 함수 print_a 호출\n",
        "print_a()\n"
      ],
      "metadata": {
        "id": "LES-m-Wxw6_g",
        "colab": {
          "base_uri": "https://localhost:8080/"
        },
        "outputId": "a61272b3-2990-4b23-8804-065fd6450227"
      },
      "execution_count": 56,
      "outputs": [
        {
          "output_type": "stream",
          "name": "stdout",
          "text": [
            "100\n"
          ]
        }
      ]
    },
    {
      "cell_type": "code",
      "source": [
        "a = 100\n",
        "\n",
        "# 함수 print_a 선언\n",
        "def print_a():\n",
        "\n",
        "    a = 1\n",
        "    # a의 값 출력하기\n",
        "    print(a)\n",
        "\n",
        "# 함수 print_a 호출\n",
        "print_a()\n",
        "\n",
        "# a의 값 출력하기\n",
        "print(a)\n"
      ],
      "metadata": {
        "id": "ZAv-HAeLxDkL"
      },
      "execution_count": null,
      "outputs": []
    },
    {
      "cell_type": "code",
      "source": [
        "a = 100\n",
        "\n",
        "# 함수 print_a 선언\n",
        "def print_a():\n",
        "\n",
        "    # 변수 a를 global 선언(전역변수를 직접 사용하겠다는 뜻)\n",
        "    # 이 방법은 사용을 권장하지 않음\n",
        "    global a\n",
        "    a = 1\n",
        "\n",
        "    # a의 값 출력하기\n",
        "    print(a)\n",
        "\n",
        "# 함수 print_a 호출\n",
        "print_a()\n",
        "\n",
        "# a의 값 출력하기\n",
        "print(a)\n"
      ],
      "metadata": {
        "id": "UAESZmraxMc7",
        "colab": {
          "base_uri": "https://localhost:8080/"
        },
        "outputId": "8c2e4bcf-f982-4452-c923-edf4bc50d622"
      },
      "execution_count": 57,
      "outputs": [
        {
          "output_type": "stream",
          "name": "stdout",
          "text": [
            "1\n",
            "1\n"
          ]
        }
      ]
    },
    {
      "cell_type": "code",
      "source": [
        "# 함수 input_nickname 선언\n",
        "def input_nickname():\n",
        "\n",
        "    # 문자열 자료를 입력받아 nickname 변수에 할당\n",
        "    nickname = input(\"별명: \")\n",
        "\n",
        "# name 출력(에러 발생)\n",
        "print(nickname)"
      ],
      "metadata": {
        "id": "9XCt_faCo9_Z",
        "colab": {
          "base_uri": "https://localhost:8080/"
        },
        "outputId": "e4233c4e-750a-4091-c507-c3a9f8c105d2"
      },
      "execution_count": 59,
      "outputs": [
        {
          "output_type": "stream",
          "name": "stdout",
          "text": [
            "별명: 메뚜기\n",
            "메뚜기\n"
          ]
        }
      ]
    },
    {
      "cell_type": "code",
      "source": [
        "name = \"홍길동\"\n",
        "age = 20\n",
        "phone_number = \"010-1111-2222\"\n",
        "\n",
        "print(f\"함수 호출 전\\nname: {name}, age: {age}, phone_number: {phone_number}\\n========================\\n\")\n",
        "\n",
        "# 함수 input_personal 선언(parameter로 문자열 name, 정수 age, 문자열 phone_number)\n",
        "def input_personal(name, age, phone_number):\n",
        "\n",
        "    print(f\"함수 시작\\nname: {name}, age: {age}, phone_number: {phone_number}\\n========================\\n\")\n",
        "\n",
        "    # 이름을 입력받아 name 변수에 할당\n",
        "    name = input(\"이름: \")\n",
        "\n",
        "    # 나이를 입력받아 age 변수에 할당\n",
        "    age = int(input(\"나이: \"))\n",
        "\n",
        "    # 전화번호를 입력받아 phone_number 변수에 할당\n",
        "    phone_number = input(\"전화번호: \")\n",
        "\n",
        "    print(f\"함수 종료\\nname: {name}, age: {age}, phone_number: {phone_number}\\n========================\\n\")\n",
        "\n",
        "# input_personal 함수 호출 (argument로 name, age, phone_number 전달)\n",
        "input_personal(name, age, phone_number)\n",
        "\n",
        "print(f\"함수 호출 후\\nname: {name}, age: {age}, phone_number: {phone_number}\\n========================\\n\")"
      ],
      "metadata": {
        "id": "ondunlzko-Cv",
        "colab": {
          "base_uri": "https://localhost:8080/"
        },
        "outputId": "72841e71-4c0b-433b-a9e1-864ced864b1e"
      },
      "execution_count": 61,
      "outputs": [
        {
          "output_type": "stream",
          "name": "stdout",
          "text": [
            "함수 호출 전\n",
            "name: 홍길동, age: 20, phone_number: 010-1111-2222\n",
            "========================\n",
            "\n",
            "함수 시작\n",
            "name: 홍길동, age: 20, phone_number: 010-1111-2222\n",
            "========================\n",
            "\n",
            "이름: 장길산\n",
            "나이: 90\n",
            "전화번호: 1234\n",
            "함수 종료\n",
            "name: 장길산, age: 90, phone_number: 1234\n",
            "========================\n",
            "\n",
            "함수 호출 후\n",
            "name: 홍길동, age: 20, phone_number: 010-1111-2222\n",
            "========================\n",
            "\n"
          ]
        }
      ]
    },
    {
      "cell_type": "markdown",
      "source": [
        "## Default Parameter Value\n",
        "> parameter의 값이 입력되지 않을 때 자동으로 적용되는 값"
      ],
      "metadata": {
        "id": "JWTi2aYRv8gf"
      }
    },
    {
      "cell_type": "code",
      "source": [
        "# parameter에 default value 선언 X\n",
        "def personal_info(name, age):\n",
        "    return f\"이름은 {name}, 나이는 {age}살입니다.\"\n",
        "\n",
        "name = input(\"이름: \")\n",
        "age = int(input(\"나이: \"))\n",
        "print(personal_info(name, age))"
      ],
      "metadata": {
        "id": "mVlUS5UPo-Fi",
        "colab": {
          "base_uri": "https://localhost:8080/"
        },
        "outputId": "dfb97ca8-e719-4fe1-ae20-ee42e88835ed"
      },
      "execution_count": 62,
      "outputs": [
        {
          "output_type": "stream",
          "name": "stdout",
          "text": [
            "이름: 홍길동\n",
            "나이: 20\n",
            "이름은 홍길동, 나이는 20살입니다.\n"
          ]
        }
      ]
    },
    {
      "cell_type": "code",
      "source": [
        "# parameter 중 뒤에 있는 age만 default value 선언\n",
        "def personal_info2(name, age=0):\n",
        "    return f\"이름은 {name}, 나이는 {age}살입니다.\"\n",
        "\n",
        "name = input(\"이름: \")\n",
        "age = int(input(\"나이: \"))\n",
        "print(personal_info2(name, age))"
      ],
      "metadata": {
        "id": "IuAaslQRv1ub",
        "colab": {
          "base_uri": "https://localhost:8080/"
        },
        "outputId": "7b8b5a8c-e7f0-4ef1-c1c8-ed0ffb7952ae"
      },
      "execution_count": 65,
      "outputs": [
        {
          "output_type": "stream",
          "name": "stdout",
          "text": [
            "이름: 홍길동\n",
            "나이: 1120\n",
            "이름은 홍길동, 나이는 1120살입니다.\n"
          ]
        }
      ]
    },
    {
      "cell_type": "code",
      "source": [
        "# parameter 중 앞에 있는 name만 default value 선언\n",
        "# Error 발생!!!!!!!!\n",
        "def personal_info3(name=\"홍길동\", age):\n",
        "    return f\"이름은 {name}, 나이는 {age}살입니다.\"\n",
        "\n",
        "name = input(\"이름: \")\n",
        "age = int(input(\"나이: \"))\n",
        "print(personal_info3(name, age))"
      ],
      "metadata": {
        "id": "0UD_01fMv1rS",
        "colab": {
          "base_uri": "https://localhost:8080/",
          "height": 147
        },
        "outputId": "93c982cf-48c7-4118-a690-81d40d238d15"
      },
      "execution_count": 66,
      "outputs": [
        {
          "output_type": "error",
          "ename": "SyntaxError",
          "evalue": "ignored",
          "traceback": [
            "\u001b[0;36m  File \u001b[0;32m\"<ipython-input-66-be88bb14c939>\"\u001b[0;36m, line \u001b[0;32m3\u001b[0m\n\u001b[0;31m    def personal_info3(name=\"홍길동\", age):\u001b[0m\n\u001b[0m                                   ^\u001b[0m\n\u001b[0;31mSyntaxError\u001b[0m\u001b[0;31m:\u001b[0m non-default argument follows default argument\n"
          ]
        }
      ]
    },
    {
      "cell_type": "markdown",
      "source": [
        "## 재귀함수 (Recursive Function)\n",
        "> 자기 자신을 호출하는 함수.    \n",
        "> 잘못 사용하면 컴퓨터나 서버가 다운될 수 있다."
      ],
      "metadata": {
        "id": "NkgxF9iVxgQt"
      }
    },
    {
      "cell_type": "code",
      "source": [
        "# 함수 hello 선언\n",
        "def hello():\n",
        "\n",
        "    # \"hello world\"를 출력\n",
        "    print(\"hello world\")\n",
        "\n",
        "    # 함수 hello 호출\n",
        "    hello()\n",
        "\n",
        "# 함수 hello 호출\n",
        "hello()\n"
      ],
      "metadata": {
        "id": "DissgS_Sv1n6",
        "colab": {
          "base_uri": "https://localhost:8080/",
          "height": 1000
        },
        "outputId": "cc9706fd-edca-4a6f-c4cb-34b977bb3d55"
      },
      "execution_count": 67,
      "outputs": [
        {
          "output_type": "stream",
          "name": "stdout",
          "text": [
            "hello world\n",
            "hello world\n",
            "hello world\n",
            "hello world\n",
            "hello world\n",
            "hello world\n",
            "hello world\n",
            "hello world\n",
            "hello world\n",
            "hello world\n",
            "hello world\n",
            "hello world\n",
            "hello world\n",
            "hello world\n",
            "hello world\n",
            "hello world\n",
            "hello world\n",
            "hello world\n",
            "hello world\n",
            "hello world\n",
            "hello world\n",
            "hello world\n",
            "hello world\n",
            "hello world\n",
            "hello world\n",
            "hello world\n",
            "hello world\n",
            "hello world\n",
            "hello world\n",
            "hello world\n",
            "hello world\n",
            "hello world\n",
            "hello world\n",
            "hello world\n",
            "hello world\n",
            "hello world\n",
            "hello world\n",
            "hello world\n",
            "hello world\n",
            "hello world\n",
            "hello world\n",
            "hello world\n",
            "hello world\n",
            "hello world\n",
            "hello world\n",
            "hello world\n",
            "hello world\n",
            "hello world\n",
            "hello world\n",
            "hello world\n",
            "hello world\n",
            "hello world\n",
            "hello world\n",
            "hello world\n",
            "hello world\n",
            "hello world\n",
            "hello world\n",
            "hello world\n",
            "hello world\n",
            "hello world\n",
            "hello world\n",
            "hello world\n",
            "hello world\n",
            "hello world\n",
            "hello world\n",
            "hello world\n",
            "hello world\n",
            "hello world\n",
            "hello world\n",
            "hello world\n",
            "hello world\n",
            "hello world\n",
            "hello world\n",
            "hello world\n",
            "hello world\n",
            "hello world\n",
            "hello world\n",
            "hello world\n",
            "hello world\n",
            "hello world\n",
            "hello world\n",
            "hello world\n",
            "hello world\n",
            "hello world\n",
            "hello world\n",
            "hello world\n",
            "hello world\n",
            "hello world\n",
            "hello world\n",
            "hello world\n",
            "hello world\n",
            "hello world\n",
            "hello world\n",
            "hello world\n",
            "hello world\n",
            "hello world\n",
            "hello world\n",
            "hello world\n",
            "hello world\n",
            "hello world\n",
            "hello world\n",
            "hello world\n",
            "hello world\n",
            "hello world\n",
            "hello world\n",
            "hello world\n",
            "hello world\n",
            "hello world\n",
            "hello world\n",
            "hello world\n",
            "hello world\n",
            "hello world\n",
            "hello world\n",
            "hello world\n",
            "hello world\n",
            "hello world\n",
            "hello world\n",
            "hello world\n",
            "hello world\n",
            "hello world\n",
            "hello world\n",
            "hello world\n",
            "hello world\n",
            "hello world\n",
            "hello world\n",
            "hello world\n",
            "hello world\n",
            "hello world\n",
            "hello world\n",
            "hello world\n",
            "hello world\n",
            "hello world\n",
            "hello world\n",
            "hello world\n",
            "hello world\n",
            "hello world\n",
            "hello world\n",
            "hello world\n",
            "hello world\n",
            "hello world\n",
            "hello world\n",
            "hello world\n",
            "hello world\n",
            "hello world\n",
            "hello world\n",
            "hello world\n",
            "hello world\n",
            "hello world\n",
            "hello world\n",
            "hello world\n",
            "hello world\n",
            "hello world\n",
            "hello world\n",
            "hello world\n",
            "hello world\n",
            "hello world\n",
            "hello world\n",
            "hello world\n",
            "hello world\n",
            "hello world\n",
            "hello world\n",
            "hello world\n",
            "hello world\n",
            "hello world\n",
            "hello world\n",
            "hello world\n",
            "hello world\n",
            "hello world\n",
            "hello world\n",
            "hello world\n",
            "hello world\n",
            "hello world\n",
            "hello world\n",
            "hello world\n",
            "hello world\n",
            "hello world\n",
            "hello world\n",
            "hello world\n",
            "hello world\n",
            "hello world\n",
            "hello world\n",
            "hello world\n",
            "hello world\n",
            "hello world\n",
            "hello world\n",
            "hello world\n",
            "hello world\n",
            "hello world\n",
            "hello world\n",
            "hello world\n",
            "hello world\n",
            "hello world\n",
            "hello world\n",
            "hello world\n",
            "hello world\n",
            "hello world\n",
            "hello world\n",
            "hello world\n",
            "hello world\n",
            "hello world\n",
            "hello world\n",
            "hello world\n",
            "hello world\n",
            "hello world\n",
            "hello world\n",
            "hello world\n",
            "hello world\n",
            "hello world\n",
            "hello world\n",
            "hello world\n",
            "hello world\n",
            "hello world\n",
            "hello world\n",
            "hello world\n",
            "hello world\n",
            "hello world\n",
            "hello world\n",
            "hello world\n",
            "hello world\n",
            "hello world\n",
            "hello world\n",
            "hello world\n",
            "hello world\n",
            "hello world\n",
            "hello world\n",
            "hello world\n",
            "hello world\n",
            "hello world\n",
            "hello world\n",
            "hello world\n",
            "hello world\n",
            "hello world\n",
            "hello world\n",
            "hello world\n",
            "hello world\n",
            "hello world\n",
            "hello world\n",
            "hello world\n",
            "hello world\n",
            "hello world\n",
            "hello world\n",
            "hello world\n",
            "hello world\n",
            "hello world\n",
            "hello world\n",
            "hello world\n",
            "hello world\n",
            "hello world\n",
            "hello world\n",
            "hello world\n",
            "hello world\n",
            "hello world\n",
            "hello world\n",
            "hello world\n",
            "hello world\n",
            "hello world\n",
            "hello world\n",
            "hello world\n",
            "hello world\n",
            "hello world\n",
            "hello world\n",
            "hello world\n",
            "hello world\n",
            "hello world\n",
            "hello world\n",
            "hello world\n",
            "hello world\n",
            "hello world\n",
            "hello world\n",
            "hello world\n",
            "hello world\n",
            "hello world\n",
            "hello world\n",
            "hello world\n",
            "hello world\n",
            "hello world\n",
            "hello world\n",
            "hello world\n",
            "hello world\n",
            "hello world\n",
            "hello world\n",
            "hello world\n",
            "hello world\n",
            "hello world\n",
            "hello world\n",
            "hello world\n",
            "hello world\n",
            "hello world\n",
            "hello world\n",
            "hello world\n",
            "hello world\n",
            "hello world\n",
            "hello world\n",
            "hello world\n",
            "hello world\n",
            "hello world\n",
            "hello world\n",
            "hello world\n",
            "hello world\n",
            "hello world\n",
            "hello world\n",
            "hello world\n",
            "hello world\n",
            "hello world\n",
            "hello world\n",
            "hello world\n",
            "hello world\n",
            "hello world\n",
            "hello world\n",
            "hello world\n",
            "hello world\n",
            "hello world\n",
            "hello world\n",
            "hello world\n",
            "hello world\n",
            "hello world\n",
            "hello world\n",
            "hello world\n",
            "hello world\n",
            "hello world\n",
            "hello world\n",
            "hello world\n",
            "hello world\n",
            "hello world\n",
            "hello world\n",
            "hello world\n",
            "hello world\n",
            "hello world\n",
            "hello world\n",
            "hello world\n",
            "hello world\n",
            "hello world\n",
            "hello world\n",
            "hello world\n",
            "hello world\n",
            "hello world\n",
            "hello world\n",
            "hello world\n",
            "hello world\n",
            "hello world\n",
            "hello world\n",
            "hello world\n",
            "hello world\n",
            "hello world\n",
            "hello world\n",
            "hello world\n",
            "hello world\n",
            "hello world\n",
            "hello world\n",
            "hello world\n",
            "hello world\n",
            "hello world\n",
            "hello world\n",
            "hello world\n",
            "hello world\n",
            "hello world\n",
            "hello world\n",
            "hello world\n",
            "hello world\n",
            "hello world\n",
            "hello world\n",
            "hello world\n",
            "hello world\n",
            "hello world\n",
            "hello world\n",
            "hello world\n",
            "hello world\n",
            "hello world\n",
            "hello world\n",
            "hello world\n",
            "hello world\n",
            "hello world\n",
            "hello world\n",
            "hello world\n",
            "hello world\n",
            "hello world\n",
            "hello world\n",
            "hello world\n",
            "hello world\n",
            "hello world\n",
            "hello world\n",
            "hello world\n",
            "hello world\n",
            "hello world\n",
            "hello world\n",
            "hello world\n",
            "hello world\n",
            "hello world\n",
            "hello world\n",
            "hello world\n",
            "hello world\n",
            "hello world\n",
            "hello world\n",
            "hello world\n",
            "hello world\n",
            "hello world\n",
            "hello world\n",
            "hello world\n",
            "hello world\n",
            "hello world\n",
            "hello world\n",
            "hello world\n",
            "hello world\n",
            "hello world\n",
            "hello world\n",
            "hello world\n",
            "hello world\n",
            "hello world\n",
            "hello world\n",
            "hello world\n",
            "hello world\n",
            "hello world\n",
            "hello world\n",
            "hello world\n",
            "hello world\n",
            "hello world\n",
            "hello world\n",
            "hello world\n",
            "hello world\n",
            "hello world\n",
            "hello world\n",
            "hello world\n",
            "hello world\n",
            "hello world\n",
            "hello world\n",
            "hello world\n",
            "hello world\n",
            "hello world\n",
            "hello world\n",
            "hello world\n",
            "hello world\n",
            "hello world\n",
            "hello world\n",
            "hello world\n",
            "hello world\n",
            "hello world\n",
            "hello world\n",
            "hello world\n",
            "hello world\n",
            "hello world\n",
            "hello world\n",
            "hello world\n",
            "hello world\n",
            "hello world\n",
            "hello world\n",
            "hello world\n",
            "hello world\n",
            "hello world\n",
            "hello world\n",
            "hello world\n",
            "hello world\n",
            "hello world\n",
            "hello world\n",
            "hello world\n",
            "hello world\n",
            "hello world\n",
            "hello world\n",
            "hello world\n",
            "hello world\n",
            "hello world\n",
            "hello world\n",
            "hello world\n",
            "hello world\n",
            "hello world\n",
            "hello world\n",
            "hello world\n",
            "hello world\n",
            "hello world\n",
            "hello world\n",
            "hello world\n",
            "hello world\n",
            "hello world\n",
            "hello world\n",
            "hello world\n",
            "hello world\n",
            "hello world\n",
            "hello world\n",
            "hello world\n",
            "hello world\n",
            "hello world\n",
            "hello world\n",
            "hello world\n",
            "hello world\n",
            "hello world\n",
            "hello world\n",
            "hello world\n",
            "hello world\n",
            "hello world\n",
            "hello world\n",
            "hello world\n",
            "hello world\n",
            "hello world\n",
            "hello world\n",
            "hello world\n",
            "hello world\n",
            "hello world\n",
            "hello world\n",
            "hello world\n",
            "hello world\n",
            "hello world\n",
            "hello world\n",
            "hello world\n",
            "hello world\n",
            "hello world\n",
            "hello world\n",
            "hello world\n",
            "hello world\n",
            "hello world\n",
            "hello world\n",
            "hello world\n",
            "hello world\n",
            "hello world\n",
            "hello world\n",
            "hello world\n",
            "hello world\n",
            "hello world\n",
            "hello world\n",
            "hello world\n",
            "hello world\n",
            "hello world\n",
            "hello world\n",
            "hello world\n",
            "hello world\n",
            "hello world\n",
            "hello world\n",
            "hello world\n",
            "hello world\n",
            "hello world\n",
            "hello world\n",
            "hello world\n",
            "hello world\n",
            "hello world\n",
            "hello world\n",
            "hello world\n",
            "hello world\n",
            "hello world\n",
            "hello world\n",
            "hello world\n",
            "hello world\n",
            "hello world\n",
            "hello world\n",
            "hello world\n",
            "hello world\n",
            "hello world\n",
            "hello world\n",
            "hello world\n",
            "hello world\n",
            "hello world\n",
            "hello world\n",
            "hello world\n",
            "hello world\n",
            "hello world\n",
            "hello world\n",
            "hello world\n",
            "hello world\n",
            "hello world\n",
            "hello world\n",
            "hello world\n",
            "hello world\n",
            "hello world\n",
            "hello world\n",
            "hello world\n",
            "hello world\n",
            "hello world\n",
            "hello world\n",
            "hello world\n",
            "hello world\n",
            "hello world\n",
            "hello world\n",
            "hello world\n",
            "hello world\n",
            "hello world\n",
            "hello world\n",
            "hello world\n",
            "hello world\n",
            "hello world\n",
            "hello world\n",
            "hello world\n",
            "hello world\n",
            "hello world\n",
            "hello world\n",
            "hello world\n",
            "hello world\n",
            "hello world\n",
            "hello world\n",
            "hello world\n",
            "hello world\n",
            "hello world\n",
            "hello world\n",
            "hello world\n",
            "hello world\n",
            "hello world\n",
            "hello world\n",
            "hello world\n",
            "hello world\n",
            "hello world\n",
            "hello world\n",
            "hello world\n",
            "hello world\n",
            "hello world\n",
            "hello world\n",
            "hello world\n",
            "hello world\n",
            "hello world\n",
            "hello world\n",
            "hello world\n",
            "hello world\n",
            "hello world\n",
            "hello world\n",
            "hello world\n",
            "hello world\n",
            "hello world\n",
            "hello world\n",
            "hello world\n",
            "hello world\n",
            "hello world\n",
            "hello world\n",
            "hello world\n",
            "hello world\n",
            "hello world\n",
            "hello world\n",
            "hello world\n",
            "hello world\n",
            "hello world\n",
            "hello world\n",
            "hello world\n",
            "hello world\n",
            "hello world\n",
            "hello world\n",
            "hello world\n",
            "hello world\n",
            "hello world\n",
            "hello world\n",
            "hello world\n",
            "hello world\n",
            "hello world\n",
            "hello world\n",
            "hello world\n",
            "hello world\n",
            "hello world\n",
            "hello world\n",
            "hello world\n",
            "hello world\n",
            "hello world\n",
            "hello world\n",
            "hello world\n",
            "hello world\n",
            "hello world\n",
            "hello world\n",
            "hello world\n",
            "hello world\n",
            "hello world\n",
            "hello world\n",
            "hello world\n",
            "hello world\n",
            "hello world\n",
            "hello world\n",
            "hello world\n",
            "hello world\n",
            "hello world\n",
            "hello world\n",
            "hello world\n",
            "hello world\n",
            "hello world\n",
            "hello world\n",
            "hello world\n",
            "hello world\n",
            "hello world\n",
            "hello world\n",
            "hello world\n",
            "hello world\n",
            "hello world\n",
            "hello world\n",
            "hello world\n",
            "hello world\n",
            "hello world\n",
            "hello world\n",
            "hello world\n",
            "hello world\n",
            "hello world\n",
            "hello world\n",
            "hello world\n",
            "hello world\n",
            "hello world\n",
            "hello world\n",
            "hello world\n",
            "hello world\n",
            "hello world\n",
            "hello world\n",
            "hello world\n",
            "hello world\n",
            "hello world\n",
            "hello world\n",
            "hello world\n",
            "hello world\n",
            "hello world\n",
            "hello world\n",
            "hello world\n",
            "hello world\n",
            "hello world\n",
            "hello world\n",
            "hello world\n",
            "hello world\n",
            "hello world\n",
            "hello world\n",
            "hello world\n",
            "hello world\n",
            "hello world\n",
            "hello world\n",
            "hello world\n",
            "hello world\n",
            "hello world\n",
            "hello world\n",
            "hello world\n",
            "hello world\n",
            "hello world\n",
            "hello world\n",
            "hello world\n",
            "hello world\n",
            "hello world\n",
            "hello world\n",
            "hello world\n",
            "hello world\n",
            "hello world\n",
            "hello world\n",
            "hello world\n",
            "hello world\n",
            "hello world\n",
            "hello world\n",
            "hello world\n",
            "hello world\n",
            "hello world\n",
            "hello world\n",
            "hello world\n",
            "hello world\n",
            "hello world\n",
            "hello world\n",
            "hello world\n",
            "hello world\n",
            "hello world\n",
            "hello world\n",
            "hello world\n",
            "hello world\n",
            "hello world\n",
            "hello world\n",
            "hello world\n",
            "hello world\n",
            "hello world\n",
            "hello world\n",
            "hello world\n",
            "hello world\n",
            "hello world\n",
            "hello world\n",
            "hello world\n",
            "hello world\n",
            "hello world\n",
            "hello world\n",
            "hello world\n",
            "hello world\n",
            "hello world\n",
            "hello world\n",
            "hello world\n",
            "hello world\n",
            "hello world\n",
            "hello world\n",
            "hello world\n",
            "hello world\n",
            "hello world\n",
            "hello world\n",
            "hello world\n",
            "hello world\n",
            "hello world\n",
            "hello world\n",
            "hello world\n",
            "hello world\n",
            "hello world\n",
            "hello world\n",
            "hello world\n",
            "hello world\n",
            "hello world\n",
            "hello world\n",
            "hello world\n",
            "hello world\n",
            "hello world\n",
            "hello world\n",
            "hello world\n",
            "hello world\n",
            "hello world\n",
            "hello world\n",
            "hello world\n",
            "hello world\n",
            "hello world\n",
            "hello world\n",
            "hello world\n",
            "hello world\n",
            "hello world\n",
            "hello world\n",
            "hello world\n",
            "hello world\n",
            "hello world\n",
            "hello world\n",
            "hello world\n",
            "hello world\n",
            "hello world\n",
            "hello world\n",
            "hello world\n",
            "hello world\n",
            "hello world\n",
            "hello world\n",
            "hello world\n",
            "hello world\n",
            "hello world\n",
            "hello world\n",
            "hello world\n",
            "hello world\n",
            "hello world\n",
            "hello world\n",
            "hello world\n",
            "hello world\n",
            "hello world\n",
            "hello world\n",
            "hello world\n",
            "hello world\n",
            "hello world\n",
            "hello world\n",
            "hello world\n",
            "hello world\n",
            "hello world\n",
            "hello world\n",
            "hello world\n",
            "hello world\n",
            "hello world\n",
            "hello world\n",
            "hello world\n",
            "hello world\n",
            "hello world\n",
            "hello world\n",
            "hello world\n",
            "hello world\n",
            "hello world\n",
            "hello world\n",
            "hello world\n",
            "hello world\n",
            "hello world\n",
            "hello world\n",
            "hello world\n",
            "hello world\n",
            "hello world\n",
            "hello world\n",
            "hello world\n",
            "hello world\n",
            "hello world\n",
            "hello world\n",
            "hello world\n",
            "hello world\n",
            "hello world\n",
            "hello world\n",
            "hello world\n",
            "hello world\n",
            "hello world\n",
            "hello world\n",
            "hello world\n",
            "hello world\n",
            "hello world\n",
            "hello world\n",
            "hello world\n",
            "hello world\n",
            "hello world\n",
            "hello world\n",
            "hello world\n",
            "hello world\n",
            "hello world\n",
            "hello world\n",
            "hello world\n",
            "hello world\n",
            "hello world\n",
            "hello world\n",
            "hello world\n",
            "hello world\n",
            "hello world\n",
            "hello world\n",
            "hello world\n",
            "hello world\n",
            "hello world\n",
            "hello world\n",
            "hello world\n",
            "hello world\n",
            "hello world\n",
            "hello world\n",
            "hello world\n",
            "hello world\n",
            "hello world\n",
            "hello world\n",
            "hello world\n",
            "hello world\n",
            "hello world\n",
            "hello world\n",
            "hello world\n",
            "hello world\n",
            "hello world\n",
            "hello world\n",
            "hello world\n",
            "hello world\n",
            "hello world\n",
            "hello world\n",
            "hello world\n",
            "hello world\n",
            "hello world\n",
            "hello world\n",
            "hello world\n",
            "hello world\n",
            "hello world\n",
            "hello world\n",
            "hello world\n",
            "hello world\n",
            "hello world\n",
            "hello world\n",
            "hello world\n",
            "hello world\n",
            "hello world\n",
            "hello world\n",
            "hello world\n",
            "hello world\n",
            "hello world\n",
            "hello world\n",
            "hello world\n",
            "hello world\n",
            "hello world\n",
            "hello world\n",
            "hello world\n",
            "hello world\n",
            "hello world\n",
            "hello world\n",
            "hello world\n",
            "hello world\n",
            "hello world\n",
            "hello world\n",
            "hello world\n",
            "hello world\n",
            "hello world\n",
            "hello world\n",
            "hello world\n",
            "hello world\n",
            "hello world\n",
            "hello world\n",
            "hello world\n",
            "hello world\n",
            "hello world\n",
            "hello world\n",
            "hello world\n",
            "hello world\n",
            "hello world\n",
            "hello world\n",
            "hello world\n"
          ]
        },
        {
          "output_type": "error",
          "ename": "RecursionError",
          "evalue": "ignored",
          "traceback": [
            "\u001b[0;31m---------------------------------------------------------------------------\u001b[0m",
            "\u001b[0;31mRecursionError\u001b[0m                            Traceback (most recent call last)",
            "\u001b[0;32m/usr/lib/python3.10/threading.py\u001b[0m in \u001b[0;36m_wait_for_tstate_lock\u001b[0;34m(self, block, timeout)\u001b[0m\n\u001b[1;32m   1115\u001b[0m         \u001b[0;32mtry\u001b[0m\u001b[0;34m:\u001b[0m\u001b[0;34m\u001b[0m\u001b[0;34m\u001b[0m\u001b[0m\n\u001b[0;32m-> 1116\u001b[0;31m             \u001b[0;32mif\u001b[0m \u001b[0mlock\u001b[0m\u001b[0;34m.\u001b[0m\u001b[0macquire\u001b[0m\u001b[0;34m(\u001b[0m\u001b[0mblock\u001b[0m\u001b[0;34m,\u001b[0m \u001b[0mtimeout\u001b[0m\u001b[0;34m)\u001b[0m\u001b[0;34m:\u001b[0m\u001b[0;34m\u001b[0m\u001b[0;34m\u001b[0m\u001b[0m\n\u001b[0m\u001b[1;32m   1117\u001b[0m                 \u001b[0mlock\u001b[0m\u001b[0;34m.\u001b[0m\u001b[0mrelease\u001b[0m\u001b[0;34m(\u001b[0m\u001b[0;34m)\u001b[0m\u001b[0;34m\u001b[0m\u001b[0;34m\u001b[0m\u001b[0m\n",
            "\u001b[0;31mRecursionError\u001b[0m: maximum recursion depth exceeded while calling a Python object",
            "\nDuring handling of the above exception, another exception occurred:\n",
            "\u001b[0;31mRecursionError\u001b[0m                            Traceback (most recent call last)",
            "\u001b[0;32m<ipython-input-67-809bb2c09570>\u001b[0m in \u001b[0;36m<cell line: 11>\u001b[0;34m()\u001b[0m\n\u001b[1;32m      9\u001b[0m \u001b[0;34m\u001b[0m\u001b[0m\n\u001b[1;32m     10\u001b[0m \u001b[0;31m# 함수 hello 호출\u001b[0m\u001b[0;34m\u001b[0m\u001b[0;34m\u001b[0m\u001b[0m\n\u001b[0;32m---> 11\u001b[0;31m \u001b[0mhello\u001b[0m\u001b[0;34m(\u001b[0m\u001b[0;34m)\u001b[0m\u001b[0;34m\u001b[0m\u001b[0;34m\u001b[0m\u001b[0m\n\u001b[0m",
            "\u001b[0;32m<ipython-input-67-809bb2c09570>\u001b[0m in \u001b[0;36mhello\u001b[0;34m()\u001b[0m\n\u001b[1;32m      6\u001b[0m \u001b[0;34m\u001b[0m\u001b[0m\n\u001b[1;32m      7\u001b[0m     \u001b[0;31m# 함수 hello 호출\u001b[0m\u001b[0;34m\u001b[0m\u001b[0;34m\u001b[0m\u001b[0m\n\u001b[0;32m----> 8\u001b[0;31m     \u001b[0mhello\u001b[0m\u001b[0;34m(\u001b[0m\u001b[0;34m)\u001b[0m\u001b[0;34m\u001b[0m\u001b[0;34m\u001b[0m\u001b[0m\n\u001b[0m\u001b[1;32m      9\u001b[0m \u001b[0;34m\u001b[0m\u001b[0m\n\u001b[1;32m     10\u001b[0m \u001b[0;31m# 함수 hello 호출\u001b[0m\u001b[0;34m\u001b[0m\u001b[0;34m\u001b[0m\u001b[0m\n",
            "... last 1 frames repeated, from the frame below ...\n",
            "\u001b[0;32m<ipython-input-67-809bb2c09570>\u001b[0m in \u001b[0;36mhello\u001b[0;34m()\u001b[0m\n\u001b[1;32m      6\u001b[0m \u001b[0;34m\u001b[0m\u001b[0m\n\u001b[1;32m      7\u001b[0m     \u001b[0;31m# 함수 hello 호출\u001b[0m\u001b[0;34m\u001b[0m\u001b[0;34m\u001b[0m\u001b[0m\n\u001b[0;32m----> 8\u001b[0;31m     \u001b[0mhello\u001b[0m\u001b[0;34m(\u001b[0m\u001b[0;34m)\u001b[0m\u001b[0;34m\u001b[0m\u001b[0;34m\u001b[0m\u001b[0m\n\u001b[0m\u001b[1;32m      9\u001b[0m \u001b[0;34m\u001b[0m\u001b[0m\n\u001b[1;32m     10\u001b[0m \u001b[0;31m# 함수 hello 호출\u001b[0m\u001b[0;34m\u001b[0m\u001b[0;34m\u001b[0m\u001b[0m\n",
            "\u001b[0;31mRecursionError\u001b[0m: maximum recursion depth exceeded while calling a Python object"
          ]
        }
      ]
    },
    {
      "cell_type": "code",
      "source": [
        "# 함수 hello 선언 (parameter로 정수형 cnt)\n",
        "def hello(cnt):\n",
        "\n",
        "    # cnt가 0이라면 아무 값 없이 return\n",
        "    if cnt == 0:\n",
        "        return  # 함수 종료\n",
        "\n",
        "    # f\"hello world - {cnt}\"를 출력\n",
        "    print(f\"hello world - {cnt}\")\n",
        "\n",
        "    # 함수 hello 호출 (argument로 cnt-1 전달)\n",
        "    hello(cnt - 1)\n",
        "\n",
        "n = int(input(\"숫자: \"))\n",
        "hello(n)"
      ],
      "metadata": {
        "id": "J1_frasXv1kS",
        "colab": {
          "base_uri": "https://localhost:8080/"
        },
        "outputId": "c4432203-d882-42fa-81c4-f37ac3b0ebaf"
      },
      "execution_count": 68,
      "outputs": [
        {
          "output_type": "stream",
          "name": "stdout",
          "text": [
            "숫자: 3\n",
            "hello world - 3\n",
            "hello world - 2\n",
            "hello world - 1\n"
          ]
        }
      ]
    },
    {
      "cell_type": "code",
      "source": [
        "# 팩토리얼 계산하기\n",
        "\n",
        "# 함수 factorial 선언하기 (parameter로 정수형 n)\n",
        "def factorial(n):\n",
        "\n",
        "    # n이 1이라면 1을 리턴\n",
        "    if n == 1 or n == 0:\n",
        "        return 1\n",
        "\n",
        "    # n * factorial(n-1) 을 리턴\n",
        "    return n * factorial(n-1)\n",
        "\n",
        "n = int(input(\"숫자: \"))\n",
        "print(factorial(n))"
      ],
      "metadata": {
        "id": "3t6wi42Tv1aN",
        "colab": {
          "base_uri": "https://localhost:8080/"
        },
        "outputId": "69aa2eaf-02b3-4e0b-f62b-012257c62bdc"
      },
      "execution_count": 69,
      "outputs": [
        {
          "output_type": "stream",
          "name": "stdout",
          "text": [
            "숫자: 5\n",
            "120\n"
          ]
        }
      ]
    },
    {
      "cell_type": "markdown",
      "source": [
        "# 퀴즈"
      ],
      "metadata": {
        "id": "OsgrKr0axqPR"
      }
    },
    {
      "cell_type": "code",
      "source": [
        "# 사칙연산을 하는 함수 만들기\n",
        "\n",
        "# 함수 calc 선언하기 (parameter로 정수형 x, y)\n",
        "def calc(x, y):\n",
        "\n",
        "    # x와 y를 합한 값을 plus 변수에 할당\n",
        "    plus = x + y\n",
        "\n",
        "    # x에서 y를 뺀 값을 minus 변수에 할당\n",
        "    minus = x - y\n",
        "\n",
        "    # x와 y를 곱한 값을 multiply 변수에 할당\n",
        "    multiply = x * y\n",
        "\n",
        "    # x에서 y를 나눈 값을 devide 변수에 할당\n",
        "    # 계산할 수 없을 때는 계산 불가라고 할당(try 사용)\n",
        "    try:\n",
        "        devide = x / y\n",
        "    except ZeroDivisionError:\n",
        "        devide = \"계산 불가\"\n",
        "\n",
        "    return plus, minus, multiply, devide\n",
        "\n",
        "x = int(input(\"x: \"))\n",
        "y = int(input(\"y: \"))\n",
        "result = calc(x, y)\n",
        "\n",
        "print(f\"합: {result[0]}, 차: {result[1]}, 곱: {result[2]}, 분: {result[3]}\")\n"
      ],
      "metadata": {
        "colab": {
          "base_uri": "https://localhost:8080/"
        },
        "id": "apY6tYbSxry1",
        "outputId": "aa9e71cb-9ca0-4936-9fca-ab64e22b29aa"
      },
      "execution_count": 6,
      "outputs": [
        {
          "output_type": "stream",
          "name": "stdout",
          "text": [
            "x: 47\n",
            "y: 13\n",
            "합: 60, 차: 34, 곱: 611, 분: 3.6153846153846154\n"
          ]
        }
      ]
    },
    {
      "cell_type": "code",
      "source": [
        "# 가장 낮은 점수, 높은 점수, 평균점수 계산하는 함수 만들기\n",
        "\n",
        "# 함수 score_func 선언 (parameter로 list형 scores)\n",
        "def score_func(scores):\n",
        "\n",
        "    # 가장 낮은 점수를 min_score 변수에 할당\n",
        "    min_score = min(scores)\n",
        "\n",
        "    # 가장 높은 점수를 max_score 변수에 할당\n",
        "    max_score = max(scores)\n",
        "\n",
        "    # 평균 점수를 avg_score 변수에 할당\n",
        "    avg_score = sum(scores) / len(scores)\n",
        "\n",
        "    # 세 변수를 리턴하기\n",
        "    return min_score, max_score, avg_score\n",
        "\n",
        "subs = [\"국어\", \"영어\", \"수학\", \"과학\", \"사회\"]         # 과목 이름들\n",
        "scores = [int(input(f\"{sub}: \")) for sub in subs] # 과목별 점수 입력\n",
        "\n",
        "# 함수 score_func 호출하고 결과값을 min_score, max_score, avg_score에 할당. (argument로 scores 전달)\n",
        "min_score, max_score, avg_score = score_func(scores)\n",
        "\n",
        "\n",
        "print(f\"최저점: {min_score}\\n최고점: {max_score}\\n평균 점수: {avg_score}\")"
      ],
      "metadata": {
        "colab": {
          "base_uri": "https://localhost:8080/"
        },
        "id": "piMsRzP6ytSa",
        "outputId": "049406bf-2c5f-4eb9-f9e8-c96859e43f39"
      },
      "execution_count": 7,
      "outputs": [
        {
          "output_type": "stream",
          "name": "stdout",
          "text": [
            "국어: 70\n",
            "영어: 80\n",
            "수학: 30\n",
            "과학: 65\n",
            "사회: 90\n",
            "최저점: 30\n",
            "최고점: 90\n",
            "평균 점수: 67.0\n"
          ]
        }
      ]
    },
    {
      "cell_type": "markdown",
      "source": [
        "### Dynamic Programing\n",
        "> 값을 저장하는 변수를 선언해 재귀함수의 실행 속도를 압도적으로 올릴 수 있다."
      ],
      "metadata": {
        "id": "hBfzu8Cr1S0B"
      }
    },
    {
      "cell_type": "code",
      "source": [
        "# 피보나치 수열(시간 비교)\n",
        "import time\n",
        "import sys\n",
        "sys.setrecursionlimit(10000)\n",
        "\n",
        "# 함수 fibo 선언하기 (parameter로 정수형 n)\n",
        "def fibo(n):\n",
        "\n",
        "    # n이 1 또는 2라면 1을 리턴\n",
        "    if n == 1 or n == 2:\n",
        "        return 1\n",
        "\n",
        "    # fibo(n-1) + fibo(n-2) 을 리턴\n",
        "    return fibo(n-1) + fibo(n-2)\n",
        "\n",
        "n = 40\n",
        "start_time = time.time()    # 시작 시간 체크\n",
        "print(f\"fibo({n})의 값: {fibo(n)}\")\n",
        "print(f\"{time.time() - start_time}초 소요\") # 종료 시 시간에서 시작 시간을 빼서 작동 시간 체크"
      ],
      "metadata": {
        "colab": {
          "base_uri": "https://localhost:8080/"
        },
        "id": "Xvw7TA0H1egM",
        "outputId": "d91285ee-bb16-4263-e330-6144036c446e"
      },
      "execution_count": 70,
      "outputs": [
        {
          "output_type": "stream",
          "name": "stdout",
          "text": [
            "fibo(40)의 값: 102334155\n",
            "34.50191116333008초 소요\n"
          ]
        }
      ]
    },
    {
      "cell_type": "code",
      "source": [
        "# 피보나치 수열(시간 비교)\n",
        "import time\n",
        "import sys\n",
        "sys.setrecursionlimit(10000)\n",
        "\n",
        "# 함수 fibo 선언하기 (parameter로 정수형 n)\n",
        "def fibo(n):\n",
        "\n",
        "    # n이 1 또는 2라면 1을 리턴\n",
        "    if n == 1 or n == 2:\n",
        "        return 1\n",
        "\n",
        "    # d의 key값에 n이 있다면 value값 리턴\n",
        "    if n in d.keys():\n",
        "        return d[n]\n",
        "\n",
        "    # fibo(n-1) + fibo(n-2)를 딕셔너리 d에 등록하고 리턴하기\n",
        "    d[n] = fibo(n-1) + fibo(n-2)\n",
        "    return d[n]\n",
        "\n",
        "\n",
        "# fibo 함수의 결과값을 저장할 빈 dictionary 자료형 d 변수 선언\n",
        "d = {}\n",
        "\n",
        "n = 2000\n",
        "start_time = time.time()    # 시작 시간 체크\n",
        "print(f\"fibo({n})의 값: {fibo(n)}\")\n",
        "print(f\"{time.time() - start_time}초 소요\") # 종료 시 시간에서 시작 시간을 빼서 작동 시간 체크"
      ],
      "metadata": {
        "colab": {
          "base_uri": "https://localhost:8080/"
        },
        "id": "lX44ODX_3h1r",
        "outputId": "afeae3da-be7b-4206-85ab-5fd810b896d7"
      },
      "execution_count": 1,
      "outputs": [
        {
          "output_type": "stream",
          "name": "stdout",
          "text": [
            "fibo(2000)의 값: 4224696333392304878706725602341482782579852840250681098010280137314308584370130707224123599639141511088446087538909603607640194711643596029271983312598737326253555802606991585915229492453904998722256795316982874482472992263901833716778060607011615497886719879858311468870876264597369086722884023654422295243347964480139515349562972087652656069529806499841977448720155612802665404554171717881930324025204312082516817125\n",
            "0.00881505012512207초 소요\n"
          ]
        }
      ]
    }
  ]
}