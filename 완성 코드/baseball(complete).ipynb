{
  "nbformat": 4,
  "nbformat_minor": 0,
  "metadata": {
    "colab": {
      "provenance": []
    },
    "kernelspec": {
      "name": "python3",
      "display_name": "Python 3"
    },
    "language_info": {
      "name": "python"
    }
  },
  "cells": [
    {
      "cell_type": "markdown",
      "source": [
        "# while문 사용, find_strike(), find_ball() 함수 따로 구현\n"
      ],
      "metadata": {
        "id": "_D680a5ui6TL"
      }
    },
    {
      "cell_type": "code",
      "source": [
        "import random\n",
        "\n",
        "print(type(random.randint(0, 9)))\n"
      ],
      "metadata": {
        "colab": {
          "base_uri": "https://localhost:8080/"
        },
        "id": "PuPVVB2ra7fW",
        "outputId": "987abd25-09a8-400c-90d5-c36ad92f5b11"
      },
      "execution_count": null,
      "outputs": [
        {
          "output_type": "stream",
          "name": "stdout",
          "text": [
            "<class 'int'>\n"
          ]
        }
      ]
    },
    {
      "cell_type": "code",
      "execution_count": null,
      "metadata": {
        "id": "hdJ-hQaj5sL_"
      },
      "outputs": [],
      "source": [
        "import random\n",
        "\n",
        "# parameter가 없는 함수 make_target 선언\n",
        "def make_target():\n",
        "\n",
        "    # result 변수에 빈 list 할당\n",
        "    result = []\n",
        "\n",
        "    # while 무한 루프\n",
        "    while 1:\n",
        "\n",
        "        # [0, 9] 범위의 무작위 숫자(자연수)를 하나 받아서 문자 형태로 바꾸고 num 변수에 할당\n",
        "        num = str(random.randint(0, 9))\n",
        "\n",
        "        # 문자열 자료형의 num의 값이 result에 있으면 continue (같은 숫자가 포함되면 안되기 때문)\n",
        "        if num in result:\n",
        "            continue\n",
        "\n",
        "        # result에 num의 값을 문자열 자료형으로 추가(append)\n",
        "        result.append(num)\n",
        "\n",
        "        # result의 길이가 3이라면 루프 종료(break)\n",
        "        if len(result) == 3:\n",
        "            break\n",
        "\n",
        "    # result 리턴하기\n",
        "    return result\n"
      ]
    },
    {
      "cell_type": "code",
      "source": [
        "# 함수 find_strike 선언하기 (parameter로 target, user_input)\n",
        "def find_strike(target, user_input):\n",
        "\n",
        "    # 결과값을 저장할 변수 strike를 선언하고 0 할당\n",
        "    strike = 0\n",
        "\n",
        "    # 임시 변수 i를 만들고 [0, 3) 범위로 돌린다.\n",
        "    for i in range(0, 3):\n",
        "\n",
        "        # target의 i번째 원소와 user_input의 i번째 원소가 같으면 strike의 값을 1 증가시킨다.\n",
        "        if target[i] == user_input[i]:\n",
        "            strike += 1\n",
        "\n",
        "    # strike 리턴하기\n",
        "    return strike\n"
      ],
      "metadata": {
        "id": "vDrXmige5v_a"
      },
      "execution_count": null,
      "outputs": []
    },
    {
      "cell_type": "code",
      "source": [
        "# 함수 find_ball 선언하기 (parameter로 target, user_input)\n",
        "def find_ball(target, user_input):\n",
        "\n",
        "    # 결과값을 저장할 변수 ball을 선언하고 0을 할당\n",
        "    ball = 0\n",
        "\n",
        "    # 임시 변수 i를 만들고 [0, 3) 범위로 돌린다.(target을 탐색)\n",
        "    for i in range(0, 3):\n",
        "\n",
        "        # 임시 변수 j를 만들고 [0, 3) 범위로 돌린다.(user_input을 탐색)\n",
        "        for j in range(0, 3):\n",
        "\n",
        "            # i와 j가 같으면 continue(스트라이크로 판정될 수 있음)\n",
        "            if i == j:\n",
        "                continue\n",
        "\n",
        "            # target의 i번째 원소와 user_input의 j번째 원소가 같으면 ball의 값을 1 증가시킨다.\n",
        "            if target[i] == user_input[j]:\n",
        "                ball += 1\n",
        "\n",
        "    # ball 리턴하기\n",
        "    return ball"
      ],
      "metadata": {
        "id": "t0yxUV135wCr"
      },
      "execution_count": null,
      "outputs": []
    },
    {
      "cell_type": "code",
      "source": [
        "# 정답값 make_target()함수를 호출하여 target 변수에 할당\n",
        "target = make_target()\n",
        "\n",
        "# 남은 기회를 의미하는 변수 turn에 10을 할당\n",
        "turn = 10\n",
        "\n",
        "# turn이 0보다 클 때만 반복\n",
        "while turn > 0:\n",
        "\n",
        "    print(f\"정답: {target}\")\n",
        "\n",
        "    # 문자열 입력을 받아 user_input 변수에 할당(정수 아님!!)\n",
        "    user_input = input(\"입력: \")\n",
        "\n",
        "    # find_strike(target, user_input) 함수를 호출해 strike 변수에 할당\n",
        "    strike = find_strike(target, user_input)\n",
        "\n",
        "    # find_ball(target, user_input) 함수를 호출해 ball 변수에 할당\n",
        "    ball = find_ball(target, user_input)\n",
        "\n",
        "    # 스트라이크가 3이면 \"게임을 승리하였습니다.\"를 출력하고 종료(break)\n",
        "    if strike == 3:\n",
        "        print(\"게임을 승리하였습니다.\")\n",
        "        break\n",
        "\n",
        "    # turn의 값을 1 줄이고, 정보를 출력\n",
        "    turn -= 1\n",
        "    print(f\"스트라이크: {strike}개, 볼: {ball}개, 남은 기회: {turn}\")"
      ],
      "metadata": {
        "colab": {
          "base_uri": "https://localhost:8080/"
        },
        "id": "fi6nvgZO5wIT",
        "outputId": "62c053b7-a514-48cc-f6d1-f33ec5e41d66"
      },
      "execution_count": null,
      "outputs": [
        {
          "output_type": "stream",
          "name": "stdout",
          "text": [
            "정답: ['7', '3', '6']\n",
            "세자리 숫자: 123\n",
            "스트라이크: 0, 볼: 1, 남은 기회: 5\n",
            "정답: ['7', '3', '6']\n",
            "세자리 숫자: 163\n",
            "스트라이크: 0, 볼: 2, 남은 기회: 4\n",
            "정답: ['7', '3', '6']\n",
            "세자리 숫자: 673\n",
            "스트라이크: 0, 볼: 3, 남은 기회: 3\n",
            "정답: ['7', '3', '6']\n",
            "세자리 숫자: 763\n",
            "스트라이크: 1, 볼: 2, 남은 기회: 2\n",
            "정답: ['7', '3', '6']\n",
            "세자리 숫자: 736\n",
            "게임을 승리하였습니다.\n"
          ]
        }
      ]
    },
    {
      "cell_type": "markdown",
      "source": [
        "# for문 사용, find_strike_ball() 함수 하나로 합치기"
      ],
      "metadata": {
        "id": "E-HXCsvui0A6"
      }
    },
    {
      "cell_type": "code",
      "source": [
        "# 함수 find_strike_ball 선언하기 (parameter로 target, user_input)\n",
        "def find_strike_ball(target, user_input):\n",
        "\n",
        "    # 결과값을 저장할 변수 strike와 ball을 선언하고 각각 0을 할당\n",
        "    strike, ball = 0, 0\n",
        "\n",
        "    # 임시 변수 i를 만들고 [0, 3) 범위로 돌린다.(target을 탐색)\n",
        "    for i in range(0, 3):\n",
        "\n",
        "        # 임시 변수 j를 만들고 [0, 3) 범위로 돌린다.(user_input을 탐색)\n",
        "        for j in range(0, 3):\n",
        "\n",
        "            # target의 i번째 원소와 user_input의 j번째 원소가 같을 때,\n",
        "            if target[i] == user_input[j]:\n",
        "                # i와 j가 같으면 strike의 값을 1 증가시킨다.\n",
        "                if i == j:\n",
        "                    strike += 1\n",
        "                # i와 j가 다르면 ball의 값을 1 증가시킨다.(else)\n",
        "                else:\n",
        "                    ball += 1\n",
        "\n",
        "    # strike, ball 리턴하기\n",
        "    return strike, ball"
      ],
      "metadata": {
        "id": "Z0uuhq0g8Kuw"
      },
      "execution_count": null,
      "outputs": []
    },
    {
      "cell_type": "code",
      "source": [
        "# 정답값 make_target()함수를 호출하여 target 변수에 할당\n",
        "target = make_target()\n",
        "\n",
        "# 임시 변수 turn을 만들어 9부터 0까지 반복(for문 사용)\n",
        "for turn in range(9, -1, -1):\n",
        "\n",
        "    print(f\"정답: {target}\")\n",
        "\n",
        "    # 문자열 입력을 받아 user_input 변수에 할당(정수 아님!!)\n",
        "    user_input = input(\"입력: \")\n",
        "\n",
        "    # find_strike_ball(target, user_input) 함수를 호출해 strike, ball 변수에 할당\n",
        "    strike, ball = find_strike_ball(target, user_input)\n",
        "\n",
        "    # 스트라이크가 3이면 \"게임을 승리하였습니다.\"를 출력하고 종료(break)\n",
        "    if strike == 3:\n",
        "        print(\"게임을 승리하였습니다.\")\n",
        "        break\n",
        "\n",
        "    # 정보를 출력\n",
        "    print(f\"스트라이크: {strike}\\n볼: {ball}\\n남은 기회: {turn}\")\n"
      ],
      "metadata": {
        "id": "eBGKEKJHi-v4"
      },
      "execution_count": null,
      "outputs": []
    }
  ]
}