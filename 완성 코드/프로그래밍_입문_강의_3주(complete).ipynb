{
  "nbformat": 4,
  "nbformat_minor": 0,
  "metadata": {
    "colab": {
      "provenance": []
    },
    "kernelspec": {
      "name": "python3",
      "display_name": "Python 3"
    },
    "language_info": {
      "name": "python"
    }
  },
  "cells": [
    {
      "cell_type": "markdown",
      "source": [
        "# 문제 풀이"
      ],
      "metadata": {
        "id": "q4j96kttgeOq"
      }
    },
    {
      "cell_type": "markdown",
      "source": [
        "## 합격 여부 판단하기"
      ],
      "metadata": {
        "id": "pczZHGiNglQ1"
      }
    },
    {
      "cell_type": "code",
      "source": [
        "# 빈 리스트 scores 선언\n",
        "scores = []\n",
        "\n",
        "# scores list에 4번에 걸쳐 과목들의 점수를 입력받기\n",
        "\n",
        "scores.append(int(input()))\n",
        "scores.append(int(input()))\n",
        "scores.append(int(input()))\n",
        "scores.append(int(input()))\n",
        "\n",
        "# 50 70 80 100\n",
        "# [50, 70, 80, 100]\n",
        "\n",
        "# 평균이 80 미만이라면 불합격,\n",
        "avg = sum(scores) / len(scores)\n",
        "if avg < 80:\n",
        "    print(\"불합격\")\n",
        "\n",
        "# 50점 이하인 과목이 있으면 불합격,\n",
        "elif min(scores) <= 50:\n",
        "    print(\"불합격\")\n",
        "\n",
        "# 그렇지 않으면 합격 출력\n",
        "else:\n",
        "    print(\"합격\")\n",
        "\n"
      ],
      "metadata": {
        "colab": {
          "base_uri": "https://localhost:8080/"
        },
        "id": "jNTp97oOkBPQ",
        "outputId": "52db7906-531e-4930-ba9e-d6c295721f2d"
      },
      "execution_count": 3,
      "outputs": [
        {
          "output_type": "stream",
          "name": "stdout",
          "text": [
            "50\n",
            "70\n",
            "80\n",
            "100\n",
            "불합격\n"
          ]
        }
      ]
    },
    {
      "cell_type": "markdown",
      "source": [
        "## 교통카드 시스템 만들기"
      ],
      "metadata": {
        "id": "H3zX80skkqM5"
      }
    },
    {
      "cell_type": "code",
      "source": [
        "# 정수 타입으로 나이를 입력받아 age 변수에 저장\n",
        "age = int(input(\"나이: \"))\n",
        "\n",
        "# 정수 타입으로 잔액을 입력받아 money 변수에 저장\n",
        "money = int(input(\"버스카드 잔액: \"))\n",
        "\n",
        "# 계산 편의를 위해 버스요금을 fee라는 변수로 선언\n",
        "fee = 99999999\n",
        "\n",
        "# 나이에 따라 요금이 fee의 값이 어떻게 바뀔 지 조건문 만들기\n",
        "# 7세 미만이면 0원\n",
        "if age < 7:\n",
        "    fee = 0\n",
        "# 7세 이상 13세 미만이면 600원\n",
        "elif age < 13:\n",
        "    fee = 600\n",
        "# 13세 이상 19세 미만이면 900원\n",
        "elif age < 19:\n",
        "    fee = 900\n",
        "# 그 외에는 1200원\n",
        "else:\n",
        "    fee = 1200\n",
        "\n",
        "# 잔액이 부족하면 탈 수 없다고 하고,\n",
        "if money < fee:\n",
        "    print(\"탈 수 없습니다.\")\n",
        "# 잔액이 충분하다면 버스를 타고 난 잔액을 출력\n",
        "else:\n",
        "    print(f\"잔액은 {money - fee}입니다.\")\n"
      ],
      "metadata": {
        "colab": {
          "base_uri": "https://localhost:8080/"
        },
        "id": "_gYNrM5hktaR",
        "outputId": "141ce2c0-766e-4fc0-fabc-9b1fcf0e6013"
      },
      "execution_count": 5,
      "outputs": [
        {
          "output_type": "stream",
          "name": "stdout",
          "text": [
            "나이: 58\n",
            "버스카드 잔액: 1150\n",
            "탈 수 없습니다.\n"
          ]
        }
      ]
    },
    {
      "cell_type": "markdown",
      "source": [
        "# 파이썬의 Sequence 자료형"
      ],
      "metadata": {
        "id": "arga8mLIyv-a"
      }
    },
    {
      "cell_type": "markdown",
      "source": [
        "## 튜플(Tuple)\n",
        "- 리스트와 비슷하게 여러 자료를 저장할 수 있는 자료형.\n",
        "- 소괄호(())로 이루어진 자료형\n",
        "- 처음에 한 번 내용이 정해지면 수정, 삭제가 불가능."
      ],
      "metadata": {
        "id": "_HNuPsiptA7C"
      }
    },
    {
      "cell_type": "code",
      "source": [
        "# arr이라는 변수에 1, \"name\"이라는 원소를 갖는 tuple을 만들기\n",
        "arr = (1, \"name\")\n",
        "\n",
        "# arr, arr[0], arr[1] 출력\n",
        "print(arr)\n",
        "print(arr[0])\n",
        "print(arr[1])"
      ],
      "metadata": {
        "colab": {
          "base_uri": "https://localhost:8080/"
        },
        "id": "8J2AEothtLG7",
        "outputId": "3a9c1424-3140-4c00-b89b-d80eaf0b721b"
      },
      "execution_count": 6,
      "outputs": [
        {
          "output_type": "stream",
          "name": "stdout",
          "text": [
            "(1, 'name')\n",
            "1\n",
            "name\n"
          ]
        }
      ]
    },
    {
      "cell_type": "markdown",
      "source": [
        "### list -> tuple 로 바꾸기"
      ],
      "metadata": {
        "id": "xnoTiTjNUP5z"
      }
    },
    {
      "cell_type": "code",
      "source": [
        "arr_list = [1, \"name\"]\n",
        "\n",
        "# arr이라는 변수에 arr_list를 tuple로 바꿔 할당하기\n",
        "arr = tuple(arr_list)\n",
        "\n",
        "# arr, arr[0], arr[1] 출력\n",
        "print(arr)\n",
        "print(arr[0])\n",
        "print(arr[1])\n"
      ],
      "metadata": {
        "colab": {
          "base_uri": "https://localhost:8080/"
        },
        "id": "hD0v5kTxtoW1",
        "outputId": "167945ab-5434-4553-bfbe-e4cda08537bf"
      },
      "execution_count": 7,
      "outputs": [
        {
          "output_type": "stream",
          "name": "stdout",
          "text": [
            "(1, 'name')\n",
            "1\n",
            "name\n"
          ]
        }
      ]
    },
    {
      "cell_type": "code",
      "source": [
        "# arr의 0번째 원소를 2로 변경해보기\n",
        "arr[0] = 2\n",
        "\n",
        "# TypeError: 'tuple' object does not support item assignment\n",
        "# tuple 은 값을 변경할 수 없다"
      ],
      "metadata": {
        "colab": {
          "base_uri": "https://localhost:8080/",
          "height": 258
        },
        "id": "znP9u-pltTeJ",
        "outputId": "49065775-8992-4ca0-dcd0-5b5df177dd10"
      },
      "execution_count": 8,
      "outputs": [
        {
          "output_type": "error",
          "ename": "TypeError",
          "evalue": "ignored",
          "traceback": [
            "\u001b[0;31m---------------------------------------------------------------------------\u001b[0m",
            "\u001b[0;31mTypeError\u001b[0m                                 Traceback (most recent call last)",
            "\u001b[0;32m<ipython-input-8-2fbaab64544f>\u001b[0m in \u001b[0;36m<cell line: 2>\u001b[0;34m()\u001b[0m\n\u001b[1;32m      1\u001b[0m \u001b[0;31m# arr의 0번째 원소를 2로 변경해보기\u001b[0m\u001b[0;34m\u001b[0m\u001b[0;34m\u001b[0m\u001b[0m\n\u001b[0;32m----> 2\u001b[0;31m \u001b[0marr\u001b[0m\u001b[0;34m[\u001b[0m\u001b[0;36m0\u001b[0m\u001b[0;34m]\u001b[0m \u001b[0;34m=\u001b[0m \u001b[0;36m2\u001b[0m\u001b[0;34m\u001b[0m\u001b[0;34m\u001b[0m\u001b[0m\n\u001b[0m\u001b[1;32m      3\u001b[0m \u001b[0;34m\u001b[0m\u001b[0m\n\u001b[1;32m      4\u001b[0m \u001b[0;31m# TypeError: 'tuple' object does not support item assignment\u001b[0m\u001b[0;34m\u001b[0m\u001b[0;34m\u001b[0m\u001b[0m\n\u001b[1;32m      5\u001b[0m \u001b[0;31m# tuple 은 값을 변경할 수 없다\u001b[0m\u001b[0;34m\u001b[0m\u001b[0;34m\u001b[0m\u001b[0m\n",
            "\u001b[0;31mTypeError\u001b[0m: 'tuple' object does not support item assignment"
          ]
        }
      ]
    },
    {
      "cell_type": "markdown",
      "source": [
        "## Packing, Unpacking"
      ],
      "metadata": {
        "id": "RoG-U35Ct-1K"
      }
    },
    {
      "cell_type": "markdown",
      "source": [
        "### Packing"
      ],
      "metadata": {
        "id": "9RNovExwuEdR"
      }
    },
    {
      "cell_type": "code",
      "source": [
        "# 여러 변수의 값을 할당할 때는 순서와 갯수가 맞게 한 줄에 여러개를 입력할 수 있다.\n",
        "# 한줄로 a, b, c 에 각각 1, 2, 3 할당하기\n",
        "a, b, c = 1, 2, 3\n",
        "\n",
        "# arr이라는 변수에 a, b, c의 값을 갖는 tuple을 할당하기\n",
        "arr = a, b, c\n",
        "\n",
        "# arr 출력하기\n",
        "print(arr)\n"
      ],
      "metadata": {
        "colab": {
          "base_uri": "https://localhost:8080/"
        },
        "id": "0BhC0xJcuLGR",
        "outputId": "cb2ecea2-2de6-4d25-f10c-5b4809ea9353"
      },
      "execution_count": 9,
      "outputs": [
        {
          "output_type": "stream",
          "name": "stdout",
          "text": [
            "(1, 2, 3)\n"
          ]
        }
      ]
    },
    {
      "cell_type": "markdown",
      "source": [
        "### Unpacking"
      ],
      "metadata": {
        "id": "ihpqklFFuFkx"
      }
    },
    {
      "cell_type": "code",
      "source": [
        "# arr의 원소(1, 2, 3)를 순서대로 d, e, f 변수에 할당하기\n",
        "d, e, f = arr\n",
        "\n",
        "\n",
        "# d, e, f의 값 출력하기\n",
        "print(d, e, f)\n"
      ],
      "metadata": {
        "colab": {
          "base_uri": "https://localhost:8080/"
        },
        "id": "Ky23W842uK0B",
        "outputId": "ed921303-16c1-4bb2-af8a-c3210912a588"
      },
      "execution_count": 10,
      "outputs": [
        {
          "output_type": "stream",
          "name": "stdout",
          "text": [
            "1 2 3\n"
          ]
        }
      ]
    },
    {
      "cell_type": "markdown",
      "source": [
        "### 고급 Unpacking"
      ],
      "metadata": {
        "id": "A-Vy8UTzvcS7"
      }
    },
    {
      "cell_type": "code",
      "source": [
        "# Unpacking할 때 몇개의 원소가 들어올 지 알 수 없을 경우 *(asterisk)를 활용하면 뒤에 남은 모든 원소를 받을 수 있다.\n",
        "# first 변수에 arr의 0번째 원소를 할당하고, 남은 원소들은 etc 원소에 할당하기\n",
        "\n",
        "#\n",
        "first, *etc = arr\n",
        "\n",
        "# first와 etc의 값 출력하기\n",
        "print(first)\n",
        "print(etc)\n",
        "print(type(etc))\n"
      ],
      "metadata": {
        "colab": {
          "base_uri": "https://localhost:8080/"
        },
        "id": "q7R1VZH_vf0C",
        "outputId": "8c0899e7-b63c-419a-ebed-91913c90b2c0"
      },
      "execution_count": 11,
      "outputs": [
        {
          "output_type": "stream",
          "name": "stdout",
          "text": [
            "1\n",
            "[2, 3]\n",
            "<class 'list'>\n"
          ]
        }
      ]
    },
    {
      "cell_type": "code",
      "source": [
        "# *(asterisk)가 붙은 함수는 받을 원소가 없으면 빈 list가 된다.\n",
        "# arr의 0번째 원소를 first 변수에, 1번째 원소를 second 변수에, 2번째 원소를 third 변수에, 남은 원소를 etc 변수에 할당하기\n",
        "first, second, third, *etc = arr\n",
        "\n",
        "# first, second, third, etc 변수의 값 출력해보기\n",
        "print(f\"first: {first}\")\n",
        "print(f\"second: {second}\")\n",
        "print(f\"third: {third}\")\n",
        "print(f\"etd: {etc}\")\n"
      ],
      "metadata": {
        "colab": {
          "base_uri": "https://localhost:8080/"
        },
        "id": "eYtAfDIxxFZo",
        "outputId": "7cef77b7-a136-4b74-9595-6f88d4f956b8"
      },
      "execution_count": 12,
      "outputs": [
        {
          "output_type": "stream",
          "name": "stdout",
          "text": [
            "first: 1\n",
            "second: 2\n",
            "third: 3\n",
            "etd: []\n"
          ]
        }
      ]
    },
    {
      "cell_type": "markdown",
      "source": [
        "## 세트(Set)\n",
        "- 수학의 집합\n",
        "- 원소가 중복될 수 없다.\n",
        "- 원소의 순서가 정해져 있지 않다.\n",
        "- {}로 감싼다고 set가 되지 않음!! (dictionary가 됨)\n",
        "- set를 만들 때는 set() 함수를 이용\n",
        "- list, dictionary, tuple 만큼 자주 사용되지 않는다.\n"
      ],
      "metadata": {
        "id": "m6jJ3RzOuhXB"
      }
    },
    {
      "cell_type": "code",
      "source": [
        "arr = [1, 2, 3, 1, 2, 3, 4, 5]\n",
        "\n",
        "# arr_set 이라는 변수에 arr을 set으로 바꾼 자료를 할당하기\n",
        "arr_set = set(arr)\n",
        "\n",
        "# arr_set 출력하여 원소 확인하기(중복이 제거되었는지)\n",
        "print(arr_set)\n"
      ],
      "metadata": {
        "colab": {
          "base_uri": "https://localhost:8080/"
        },
        "id": "-L11YiN9uu_a",
        "outputId": "1aca3f00-0d12-47a4-945b-b852a7aa0e78"
      },
      "execution_count": 13,
      "outputs": [
        {
          "output_type": "stream",
          "name": "stdout",
          "text": [
            "{1, 2, 3, 4, 5}\n"
          ]
        }
      ]
    },
    {
      "cell_type": "markdown",
      "source": [
        "## 딕셔너리(Dictionary)\n",
        "- 중괄호({})로 이루어진 자료형\n",
        "- key: value 형태의 쌍으로 이루어져 있다.\n",
        "- 예시. {\"name\": \"홍길동\", \"age\": 20}\n",
        "- 예시에서 \"name\", \"age\"는 key, \"홍길동\", 20은 value\n",
        "- 딕셔너리[key] 를 입력하면 key에 맞는 value 값을 호출할 수 있다."
      ],
      "metadata": {
        "id": "1a7M-a9mrJOz"
      }
    },
    {
      "cell_type": "code",
      "source": [
        "# 이름과 나이 입력받고, dictionary에 저장하기\n",
        "# name 변수에 문자열 자료형 이름을 입력받아 할당하기\n",
        "name = input(\"이름: \")\n",
        "\n",
        "# age 변수에 정수 자료형 나이를 입력받아 할당하기\n",
        "age = int(input(\"나이: \"))\n",
        "\n",
        "# person 변수에 해당 사람의 정보를 담는 딕셔너리를 할당\n",
        "# key 값으로는 name, age 배정\n",
        "person = {name: age}\n",
        "\n",
        "# person 딕셔너리 출력\n",
        "print(person)"
      ],
      "metadata": {
        "colab": {
          "base_uri": "https://localhost:8080/"
        },
        "id": "8NASrPthsIMh",
        "outputId": "38548932-3870-4f46-8789-f978805637b6"
      },
      "execution_count": 15,
      "outputs": [
        {
          "output_type": "stream",
          "name": "stdout",
          "text": [
            "이름: 홍길동\n",
            "나이: 20\n",
            "{'홍길동': 20}\n"
          ]
        }
      ]
    },
    {
      "cell_type": "markdown",
      "source": [
        "### dictionary methods\n",
        "- 딕셔너리.items()\n",
        "- 딕셔너리.keys()\n",
        "- 딕셔너리.values()\n",
        "- 딕셔너리.clear()"
      ],
      "metadata": {
        "id": "LNX6pLZnsIhT"
      }
    },
    {
      "cell_type": "code",
      "source": [
        "person =  {\"name\": \"홍길동\", \"age\": 20}\n",
        "\n",
        "# person의 key와 value를 쌍으로 출력하기\n",
        "print(person.items())\n",
        "\n",
        "# person의 key 값들 출력하기\n",
        "print(person.keys())\n",
        "\n",
        "# person의 value 값들 출력하기\n",
        "print(person.values())\n",
        "\n",
        "# person 초기화하기\n",
        "person.clear()\n",
        "\n",
        "# person의 key와 value를 쌍으로 출력하기\n",
        "print(person.items())"
      ],
      "metadata": {
        "colab": {
          "base_uri": "https://localhost:8080/"
        },
        "id": "hQDo4BJqsH7p",
        "outputId": "6b2a3166-5dcb-4543-b707-7cfab7f45fc9"
      },
      "execution_count": 16,
      "outputs": [
        {
          "output_type": "stream",
          "name": "stdout",
          "text": [
            "dict_items([('name', '홍길동'), ('age', 20)])\n",
            "dict_keys(['name', 'age'])\n",
            "dict_values(['홍길동', 20])\n",
            "dict_items([])\n"
          ]
        }
      ]
    },
    {
      "cell_type": "markdown",
      "source": [
        "# 반복문\n",
        "- while 문\n",
        "- for 문"
      ],
      "metadata": {
        "id": "fPdKokGyysVx"
      }
    },
    {
      "cell_type": "markdown",
      "source": [
        "## while\n",
        "- if문과 비슷하게 while 뒤에 조건을 적는다.\n",
        "- 조건이 True인 동안 들여쓰기 된 코드들이 반복된다.\n",
        "- 주로 특정 코드를 무한 반복할 때 쓰인다.\n",
        "  \n",
        "while 조건:  \n",
        "&emsp;실행할 코드들"
      ],
      "metadata": {
        "id": "j415mlcTmqTC"
      }
    },
    {
      "cell_type": "code",
      "source": [
        "# 1부터 n까지 수 출력하기\n",
        "# n이라는 변수에 정수 자료형으로 입력받기\n",
        "n = int(input())\n",
        "\n",
        "# 출력할 값을 표현할 변수 i에 초기값 1을 할당\n",
        "i = 1\n",
        "\n",
        "# 1부터 n까지 출력하기(while 활용)\n",
        "# i의 값 출력하기\n",
        "# i에 1 더하기\n",
        "while i <= n:\n",
        "    print(i)\n",
        "    i += 1\n",
        "    # i = i + 1\n"
      ],
      "metadata": {
        "colab": {
          "base_uri": "https://localhost:8080/"
        },
        "id": "JefMrqUHzw3a",
        "outputId": "cace4c77-4677-4fc7-f5e0-14cf2d2fa94b"
      },
      "execution_count": 17,
      "outputs": [
        {
          "output_type": "stream",
          "name": "stdout",
          "text": [
            "10\n",
            "1\n",
            "2\n",
            "3\n",
            "4\n",
            "5\n",
            "6\n",
            "7\n",
            "8\n",
            "9\n",
            "10\n"
          ]
        }
      ]
    },
    {
      "cell_type": "code",
      "source": [
        "# 1부터 n까지 합 구하기\n",
        "# n이라는 변수에 정수 자료형으로 입력받기\n",
        "n = int(input())\n",
        "\n",
        "# 합을 저장할 변수 result에 0을 할당\n",
        "result = 0\n",
        "\n",
        "# 합계에 더해 줄 변수 i에 초기값 1을 할당\n",
        "i = 1\n",
        "\n",
        "# 1부터 n까지 출력하기(while 활용)\n",
        "# result에 i의 값 더하기\n",
        "# i의 크기 1 크게 만들기\n",
        "while i <= n:\n",
        "    print(f\"i: {i}\")\n",
        "    result += i # result = result + i\n",
        "    i += 1\n",
        "    print(f\"result: {result}\")\n",
        "\n",
        "# 1~n까지 모든 수의 합을 계산한 result 변수 출력\n",
        "print(result)\n"
      ],
      "metadata": {
        "colab": {
          "base_uri": "https://localhost:8080/"
        },
        "id": "hZ7B3X5X01_y",
        "outputId": "023f4f24-a345-4283-8f7b-8f11a829a9c2"
      },
      "execution_count": 18,
      "outputs": [
        {
          "output_type": "stream",
          "name": "stdout",
          "text": [
            "10\n",
            "i: 1\n",
            "result: 1\n",
            "i: 2\n",
            "result: 3\n",
            "i: 3\n",
            "result: 6\n",
            "i: 4\n",
            "result: 10\n",
            "i: 5\n",
            "result: 15\n",
            "i: 6\n",
            "result: 21\n",
            "i: 7\n",
            "result: 28\n",
            "i: 8\n",
            "result: 36\n",
            "i: 9\n",
            "result: 45\n",
            "i: 10\n",
            "result: 55\n",
            "55\n"
          ]
        }
      ]
    },
    {
      "cell_type": "code",
      "source": [
        "# 구구단 출력하기\n",
        "# 2 X 2 = 4\n",
        "# 앞 숫자는 변수 dan, 뒷 숫자는 i로 지정\n",
        "dan = 2\n",
        "i = 1\n",
        "\n",
        "# while문 활용하기\n",
        "# loop 마다 한 번씩 프린트 하고,\n",
        "# i의 값 1씩 증가시키기\n",
        "while i < 10:\n",
        "    print(f\"{dan} X {i} = {dan * i}\")\n",
        "    i += 1\n"
      ],
      "metadata": {
        "colab": {
          "base_uri": "https://localhost:8080/"
        },
        "id": "1h-ixruvnNZE",
        "outputId": "938f8511-2713-4bd6-934c-d5eaaa6aded2"
      },
      "execution_count": 19,
      "outputs": [
        {
          "output_type": "stream",
          "name": "stdout",
          "text": [
            "2 X 1 = 2\n",
            "2 X 2 = 4\n",
            "2 X 3 = 6\n",
            "2 X 4 = 8\n",
            "2 X 5 = 10\n",
            "2 X 6 = 12\n",
            "2 X 7 = 14\n",
            "2 X 8 = 16\n",
            "2 X 9 = 18\n"
          ]
        }
      ]
    },
    {
      "cell_type": "code",
      "source": [
        "# 구구단 가로로 출력하기\n",
        "# print()함수에 ,end=\",  \"라고 하면 줄바꿈 대신 \", \"가 생긴다.\n",
        "# 2 X 2 = 4\n",
        "# 앞 숫자는 변수 dan, 뒷 숫자는 i로 지정\n",
        "dan = 2\n",
        "i = 1\n",
        "\n",
        "#while문 활용하기\n",
        "# loop 마다 한 번씩 프린트 하고,\n",
        "# i의 값 1씩 증가시키기\n",
        "# print() 함수에 매개변수 end=\", \" 입력하기\n",
        "while i < 10:\n",
        "    print(f\"{dan} X {i} = {dan * i}\", end=\", \")\n",
        "    i += 1\n",
        "\n",
        "\n"
      ],
      "metadata": {
        "colab": {
          "base_uri": "https://localhost:8080/"
        },
        "id": "Nlwairi0ndvW",
        "outputId": "623bfadb-60bd-4d7e-a68b-bd4faeb417aa"
      },
      "execution_count": 20,
      "outputs": [
        {
          "output_type": "stream",
          "name": "stdout",
          "text": [
            "2 X 1 = 2, 2 X 2 = 4, 2 X 3 = 6, 2 X 4 = 8, 2 X 5 = 10, 2 X 6 = 12, 2 X 7 = 14, 2 X 8 = 16, 2 X 9 = 18, "
          ]
        }
      ]
    },
    {
      "cell_type": "code",
      "source": [
        "# 구구단 가로로 출력하기\n",
        "# 2단의 마지막인 2 X 9 = 18 뒤의 \",\"만 없애고 줄바꿈 하기\n",
        "# 2 X 2 = 4\n",
        "# 앞 숫자는 변수 dan, 뒷 숫자는 i로 지정\n",
        "dan = 2\n",
        "i = 1\n",
        "\n",
        "#while문 활용하기\n",
        "# loop 마다 한 번씩 프린트 하고,\n",
        "# i의 값 1씩 증가시키기\n",
        "# print() 함수에 매개변수 end=\", \" 입력하기\n",
        "while i < 10:\n",
        "    if i ==9:\n",
        "        print(f\"{dan} X {i} = {dan * i}\")\n",
        "    else:\n",
        "        print(f\"{dan} X {i} = {dan * i}\", end=\", \")\n",
        "    i += 1"
      ],
      "metadata": {
        "colab": {
          "base_uri": "https://localhost:8080/"
        },
        "id": "W0KX22PInnpw",
        "outputId": "25fd6177-2435-462e-e07f-501da2152588"
      },
      "execution_count": 21,
      "outputs": [
        {
          "output_type": "stream",
          "name": "stdout",
          "text": [
            "2 X 1 = 2, 2 X 2 = 4, 2 X 3 = 6, 2 X 4 = 8, 2 X 5 = 10, 2 X 6 = 12, 2 X 7 = 14, 2 X 8 = 16, 2 X 9 = 18\n"
          ]
        }
      ]
    },
    {
      "cell_type": "markdown",
      "source": [
        "### continue와 break\n",
        "- continue: 아래에 있는 코드를 실행하지 않고 다음 반복을 시행.\n",
        "- break: 반복문을 종료."
      ],
      "metadata": {
        "id": "n2P5kUwrqZ_i"
      }
    },
    {
      "cell_type": "code",
      "source": [
        "# 무한루프 만들기(while의 존재의 목적)\n",
        "# new_num이라는 변수에 정수를 입력받아 짝수라면 num이라는 변수에 더하고 출력한다.\n",
        "# continue와 break를 사용하여 프로그램을 제작.\n",
        "# num의 값 0으로 초기화하며 변수 선언하기\n",
        "num = 0\n",
        "\n",
        "# 무한루프 시작\n",
        "while 1:\n",
        "    # 정수를 입력받아 new_num 변수에 할당\n",
        "    new_num = int(input(\"정수 입력: \"))\n",
        "\n",
        "    # new_num이 0이라면 종료(break)\n",
        "    if new_num == 0:\n",
        "        break\n",
        "\n",
        "    # new_num이 홀수라면 아래 코드 실행하지 않음(continue)\n",
        "    if new_num % 2 == 1:\n",
        "        continue\n",
        "\n",
        "    # new_num 값을 num에 더하고, num출력하기\n",
        "    num += new_num\n",
        "    print(num)\n"
      ],
      "metadata": {
        "colab": {
          "base_uri": "https://localhost:8080/"
        },
        "id": "TNhEBQzklLTX",
        "outputId": "cb7c452d-ad0a-4f41-f1e1-4e5fc89282c0"
      },
      "execution_count": 22,
      "outputs": [
        {
          "name": "stdout",
          "output_type": "stream",
          "text": [
            "정수 입력: 3\n",
            "정수 입력: 5\n",
            "정수 입력: 10\n",
            "10\n",
            "정수 입력: 18\n",
            "28\n",
            "정수 입력: 26\n",
            "54\n",
            "정수 입력: 1234\n",
            "1288\n",
            "정수 입력: 0\n"
          ]
        }
      ]
    },
    {
      "cell_type": "markdown",
      "source": [
        "## for\n",
        "- for 뒤에 반복할 구간을 입력한다.\n",
        "- 구간의 처음부터 끝까지 반복한다.\n",
        "- 구간으로는 range()나, list, tuple 등 Sequence 자료형을 활용한다.\n",
        "- 횟수가 정해진 반복을 할 때는 대부분 for를 활용한다.\n",
        "  \n",
        "for 변수 in 구간:  \n",
        "&emsp;실행할 코드들"
      ],
      "metadata": {
        "id": "_kSAmLwCn-YD"
      }
    },
    {
      "cell_type": "code",
      "source": [
        "# 1부터 n까지 수 출력하기\n",
        "# n이라는 변수에 정수 자료형으로 입력받기\n",
        "n = int(input(\"숫자 입력: \"))\n",
        "\n",
        "# 1부터 n까지 출력하기(for, range 활용)\n",
        "# 임시 변수는 i로 사용\n",
        "for i in range(1, n+1):\n",
        "    print(i)\n"
      ],
      "metadata": {
        "colab": {
          "base_uri": "https://localhost:8080/"
        },
        "id": "UBNID2KtzdC6",
        "outputId": "c3dd722c-9e24-4d1f-82c1-bc1204982e94"
      },
      "execution_count": 23,
      "outputs": [
        {
          "output_type": "stream",
          "name": "stdout",
          "text": [
            "숫자 입력: 10\n",
            "1\n",
            "2\n",
            "3\n",
            "4\n",
            "5\n",
            "6\n",
            "7\n",
            "8\n",
            "9\n",
            "10\n"
          ]
        }
      ]
    },
    {
      "cell_type": "code",
      "source": [
        "# 1부터 n까지 합 구하기\n",
        "# n이라는 변수에 정수 자료형으로 입력받기\n",
        "n = int(input())\n",
        "\n",
        "# 합을 저장할 변수 result에 0을 할당\n",
        "result = 0\n",
        "\n",
        "# 1부터 n까지 출력하기(for, range 활용)\n",
        "# 임시 변수는 i로 사용\n",
        "for i in range(1, n+1):\n",
        "    result += i\n",
        "\n",
        "# 1~n까지 모든 수의 합을 계산한 result 변수 출력\n",
        "print(result)\n"
      ],
      "metadata": {
        "colab": {
          "base_uri": "https://localhost:8080/"
        },
        "id": "U3JHuzRo1T66",
        "outputId": "1274304c-7c22-458d-9cab-10407f25ede6"
      },
      "execution_count": 24,
      "outputs": [
        {
          "output_type": "stream",
          "name": "stdout",
          "text": [
            "10\n",
            "55\n"
          ]
        }
      ]
    },
    {
      "cell_type": "code",
      "source": [
        "# 구구단 출력하기\n",
        "\n",
        "# 2단\n",
        "dan = 2\n",
        "\n",
        "# for문 이용하기       [1, 10)\n",
        "# 임시 변수 i의 범위는 1부터 9까지 range 함수 활용하기\n",
        "for i in range(1, 10):\n",
        "    print(f\"{dan} X {i} = {dan * i}\")\n",
        "\n"
      ],
      "metadata": {
        "colab": {
          "base_uri": "https://localhost:8080/"
        },
        "id": "48s3kqetn7bE",
        "outputId": "3498969c-1d41-47fe-c5bc-3fc108459340"
      },
      "execution_count": 25,
      "outputs": [
        {
          "output_type": "stream",
          "name": "stdout",
          "text": [
            "2 X 1 = 2\n",
            "2 X 2 = 4\n",
            "2 X 3 = 6\n",
            "2 X 4 = 8\n",
            "2 X 5 = 10\n",
            "2 X 6 = 12\n",
            "2 X 7 = 14\n",
            "2 X 8 = 16\n",
            "2 X 9 = 18\n"
          ]
        }
      ]
    },
    {
      "cell_type": "code",
      "source": [
        "# 구구단 가로로 출력하기\n",
        "\n",
        "# 2단\n",
        "dan = 2\n",
        "\n",
        "# for문 이용하기\n",
        "# 임시 변수 i의 범위는 1부터 9까지 range 함수 활용하기\n",
        "# print() 함수에 매개변수 end=\", \" 입력하기\n",
        "for i in range(1, 10):\n",
        "    print(f\"{dan} X {i} = {dan * i}\", end=\", \")\n"
      ],
      "metadata": {
        "colab": {
          "base_uri": "https://localhost:8080/"
        },
        "id": "Ws5yt-zvo3_L",
        "outputId": "cbcd0b24-ea6a-4610-bd05-6815e8220c57"
      },
      "execution_count": 26,
      "outputs": [
        {
          "output_type": "stream",
          "name": "stdout",
          "text": [
            "2 X 1 = 2, 2 X 2 = 4, 2 X 3 = 6, 2 X 4 = 8, 2 X 5 = 10, 2 X 6 = 12, 2 X 7 = 14, 2 X 8 = 16, 2 X 9 = 18, "
          ]
        }
      ]
    },
    {
      "cell_type": "code",
      "source": [
        "# 구구단 가로로 출력하기\n",
        "# 마지막인 2 X 9 = 18 뒤에 \",\" 없애고 줄바꿈 하기\n",
        "\n",
        "# 2단\n",
        "dan = 2\n",
        "\n",
        "# for문 이용하기\n",
        "# 임시 변수 i의 범위는 1부터 9까지 range 함수 활용하기\n",
        "# print() 함수에 매개변수 end=\", \" 입력하기\n",
        "# 2 X 9 = 18 에는 \", \" 입력되지 않도록 if 문 이용하기\n",
        "for i in range(1, 10):\n",
        "    if i == 9:\n",
        "        print(f\"{dan} X {i} = {dan * i}\")\n",
        "        break   # continue\n",
        "    print(f\"{dan} X {i} = {dan * i}\", end=\", \")\n"
      ],
      "metadata": {
        "colab": {
          "base_uri": "https://localhost:8080/"
        },
        "id": "uAbqXoA4pBke",
        "outputId": "ee042569-7c33-470e-b6b6-4f768e7fe956"
      },
      "execution_count": 27,
      "outputs": [
        {
          "output_type": "stream",
          "name": "stdout",
          "text": [
            "2 X 1 = 2, 2 X 2 = 4, 2 X 3 = 6, 2 X 4 = 8, 2 X 5 = 10, 2 X 6 = 12, 2 X 7 = 14, 2 X 8 = 16, 2 X 9 = 18\n"
          ]
        }
      ]
    },
    {
      "cell_type": "code",
      "source": [
        "# 구구단 홀수만 출력하기\n",
        "# continue 사용\n",
        "\n",
        "# 3단\n",
        "dan = 3\n",
        "\n",
        "# for문 이용하기\n",
        "# 임시 변수 i의 범위는 1부터 9까지 range 함수 활용하기\n",
        "# dan * i 가 짝수일 때는 출력하지 않기(continue 이용)\n",
        "for i in range(1, 10):\n",
        "\n",
        "    if (dan * i) % 2 == 0:\n",
        "        continue\n",
        "\n",
        "    print(f\"{dan} X {i} = {dan * i}\")"
      ],
      "metadata": {
        "colab": {
          "base_uri": "https://localhost:8080/"
        },
        "id": "1Pj_j-tIurmS",
        "outputId": "a7bf540f-2fe8-4623-e74b-f29b1dc66f17"
      },
      "execution_count": 28,
      "outputs": [
        {
          "output_type": "stream",
          "name": "stdout",
          "text": [
            "3 X 1 = 3\n",
            "3 X 3 = 9\n",
            "3 X 5 = 15\n",
            "3 X 7 = 21\n",
            "3 X 9 = 27\n"
          ]
        }
      ]
    },
    {
      "cell_type": "markdown",
      "source": [
        "### 2중 for 문 (난이도 ★★★★☆)"
      ],
      "metadata": {
        "id": "6onSy8ENpl-r"
      }
    },
    {
      "cell_type": "code",
      "source": [
        "# 구구단 1단 ~ 9단 모두 출력하기\n",
        "\n",
        "for dan in range(1, 10):\n",
        "    for i in range(1, 10):\n",
        "        if i == 9:\n",
        "            print(f\"{dan} X {i} = {dan * i:2d}\")    # :2d 2자리 정수\n",
        "            continue\n",
        "        print(f\"{dan} X {i} = {dan * i:2d}\", end=\", \")\n"
      ],
      "metadata": {
        "colab": {
          "base_uri": "https://localhost:8080/"
        },
        "id": "SJ6W_dc_pNfC",
        "outputId": "f650a2f5-85d7-4573-b497-f911d7eb9c25"
      },
      "execution_count": 29,
      "outputs": [
        {
          "output_type": "stream",
          "name": "stdout",
          "text": [
            "1 X 1 =  1, 1 X 2 =  2, 1 X 3 =  3, 1 X 4 =  4, 1 X 5 =  5, 1 X 6 =  6, 1 X 7 =  7, 1 X 8 =  8, 1 X 9 =  9\n",
            "2 X 1 =  2, 2 X 2 =  4, 2 X 3 =  6, 2 X 4 =  8, 2 X 5 = 10, 2 X 6 = 12, 2 X 7 = 14, 2 X 8 = 16, 2 X 9 = 18\n",
            "3 X 1 =  3, 3 X 2 =  6, 3 X 3 =  9, 3 X 4 = 12, 3 X 5 = 15, 3 X 6 = 18, 3 X 7 = 21, 3 X 8 = 24, 3 X 9 = 27\n",
            "4 X 1 =  4, 4 X 2 =  8, 4 X 3 = 12, 4 X 4 = 16, 4 X 5 = 20, 4 X 6 = 24, 4 X 7 = 28, 4 X 8 = 32, 4 X 9 = 36\n",
            "5 X 1 =  5, 5 X 2 = 10, 5 X 3 = 15, 5 X 4 = 20, 5 X 5 = 25, 5 X 6 = 30, 5 X 7 = 35, 5 X 8 = 40, 5 X 9 = 45\n",
            "6 X 1 =  6, 6 X 2 = 12, 6 X 3 = 18, 6 X 4 = 24, 6 X 5 = 30, 6 X 6 = 36, 6 X 7 = 42, 6 X 8 = 48, 6 X 9 = 54\n",
            "7 X 1 =  7, 7 X 2 = 14, 7 X 3 = 21, 7 X 4 = 28, 7 X 5 = 35, 7 X 6 = 42, 7 X 7 = 49, 7 X 8 = 56, 7 X 9 = 63\n",
            "8 X 1 =  8, 8 X 2 = 16, 8 X 3 = 24, 8 X 4 = 32, 8 X 5 = 40, 8 X 6 = 48, 8 X 7 = 56, 8 X 8 = 64, 8 X 9 = 72\n",
            "9 X 1 =  9, 9 X 2 = 18, 9 X 3 = 27, 9 X 4 = 36, 9 X 5 = 45, 9 X 6 = 54, 9 X 7 = 63, 9 X 8 = 72, 9 X 9 = 81\n"
          ]
        }
      ]
    },
    {
      "cell_type": "code",
      "source": [
        "# 구구단 1단 ~ 9단 중 홀수만 모두 출력하기\n",
        "\n",
        "for dan in range(1, 10):\n",
        "    for i in range(1, 10):\n",
        "        if (dan * i) % 2 == 0:\n",
        "            continue\n",
        "        if i == 9:\n",
        "            print(f\"{dan} X {i} = {dan * i:2d}\", end=\"\")    # :2d 2자리 정수\n",
        "            continue\n",
        "        print(f\"{dan} X {i} = {dan * i:2d}\", end=\", \")\n",
        "    print()\n"
      ],
      "metadata": {
        "colab": {
          "base_uri": "https://localhost:8080/"
        },
        "id": "gh5aRWJEu8ho",
        "outputId": "ea4f5f06-f1a3-47fb-e9bb-b84c41cbb95b"
      },
      "execution_count": 30,
      "outputs": [
        {
          "output_type": "stream",
          "name": "stdout",
          "text": [
            "1 X 1 =  1, 1 X 3 =  3, 1 X 5 =  5, 1 X 7 =  7, 1 X 9 =  9\n",
            "\n",
            "3 X 1 =  3, 3 X 3 =  9, 3 X 5 = 15, 3 X 7 = 21, 3 X 9 = 27\n",
            "\n",
            "5 X 1 =  5, 5 X 3 = 15, 5 X 5 = 25, 5 X 7 = 35, 5 X 9 = 45\n",
            "\n",
            "7 X 1 =  7, 7 X 3 = 21, 7 X 5 = 35, 7 X 7 = 49, 7 X 9 = 63\n",
            "\n",
            "9 X 1 =  9, 9 X 3 = 27, 9 X 5 = 45, 9 X 7 = 63, 9 X 9 = 81\n"
          ]
        }
      ]
    },
    {
      "cell_type": "code",
      "source": [
        "# 구구단 1단 ~ 9단 중 짝수만 모두 출력하기\n",
        "\n",
        "for dan in range(1, 10):\n",
        "    for i in range(1, 10):\n",
        "        if (dan * i) % 2 == 1:\n",
        "            continue\n",
        "        print(f\"{dan} X {i} = {dan * i:2d}\", end=\", \")\n",
        "    print()\n"
      ],
      "metadata": {
        "colab": {
          "base_uri": "https://localhost:8080/"
        },
        "id": "5nAJOiSbu5Kt",
        "outputId": "f7fbf350-03cf-4159-d8d3-a237b056448a"
      },
      "execution_count": 31,
      "outputs": [
        {
          "output_type": "stream",
          "name": "stdout",
          "text": [
            "1 X 2 =  2, 1 X 4 =  4, 1 X 6 =  6, 1 X 8 =  8, \n",
            "2 X 1 =  2, 2 X 2 =  4, 2 X 3 =  6, 2 X 4 =  8, 2 X 5 = 10, 2 X 6 = 12, 2 X 7 = 14, 2 X 8 = 16, 2 X 9 = 18, \n",
            "3 X 2 =  6, 3 X 4 = 12, 3 X 6 = 18, 3 X 8 = 24, \n",
            "4 X 1 =  4, 4 X 2 =  8, 4 X 3 = 12, 4 X 4 = 16, 4 X 5 = 20, 4 X 6 = 24, 4 X 7 = 28, 4 X 8 = 32, 4 X 9 = 36, \n",
            "5 X 2 = 10, 5 X 4 = 20, 5 X 6 = 30, 5 X 8 = 40, \n",
            "6 X 1 =  6, 6 X 2 = 12, 6 X 3 = 18, 6 X 4 = 24, 6 X 5 = 30, 6 X 6 = 36, 6 X 7 = 42, 6 X 8 = 48, 6 X 9 = 54, \n",
            "7 X 2 = 14, 7 X 4 = 28, 7 X 6 = 42, 7 X 8 = 56, \n",
            "8 X 1 =  8, 8 X 2 = 16, 8 X 3 = 24, 8 X 4 = 32, 8 X 5 = 40, 8 X 6 = 48, 8 X 7 = 56, 8 X 8 = 64, 8 X 9 = 72, \n",
            "9 X 2 = 18, 9 X 4 = 36, 9 X 6 = 54, 9 X 8 = 72, \n"
          ]
        }
      ]
    },
    {
      "cell_type": "markdown",
      "source": [
        "## list를 활용한 반복문"
      ],
      "metadata": {
        "id": "DQ4kquDvaiUS"
      }
    },
    {
      "cell_type": "code",
      "source": [
        "# list에 있는 모든 숫자의 제곱을 구하고, 새로운 리스트에 저장하기\n",
        "# 예시 list입니다. 수정하지 마세요!\n",
        "numbers = [i for i in range(1, 21)]\n",
        "print(f\"numbers: {numbers}\")\n",
        "# 결과를 담을 리스트 result 선언하기\n",
        "result = []\n",
        "\n",
        "# for문 활용해서 numbers 의 원소를 num이라는 임시 변수로 부르고,\n",
        "# 제곱한 값을 result에 삽입하기\n",
        "for num in numbers:\n",
        "    result.append(num **2)\n",
        "\n",
        "# result 출력하기\n",
        "print(f\"result: {result}\")"
      ],
      "metadata": {
        "colab": {
          "base_uri": "https://localhost:8080/"
        },
        "id": "uzMTOMjzalZi",
        "outputId": "cb2f30c2-3280-4a2e-d4df-90d207af002c"
      },
      "execution_count": 32,
      "outputs": [
        {
          "output_type": "stream",
          "name": "stdout",
          "text": [
            "numbers: [1, 2, 3, 4, 5, 6, 7, 8, 9, 10, 11, 12, 13, 14, 15, 16, 17, 18, 19, 20]\n",
            "result: [1, 4, 9, 16, 25, 36, 49, 64, 81, 100, 121, 144, 169, 196, 225, 256, 289, 324, 361, 400]\n"
          ]
        }
      ]
    },
    {
      "cell_type": "code",
      "source": [
        "# 1부터 50까지의 숫자 중에서 짝수만 모은 리스트 result를 만들고 출력하기\n",
        "\n",
        "result = []\n",
        "\n",
        "# for문 활용해서 임시 변수 i를 1부터 50까지 돌린다.(range() 함수 활용)\n",
        "# if 문을 활룔하여 짝수면 result에 삽입하기\n",
        "\n",
        "for i in range(1, 51):\n",
        "    if i % 2 == 0:\n",
        "        result.append(i)\n",
        "\n",
        "# result 출력하기\n",
        "print(result)"
      ],
      "metadata": {
        "colab": {
          "base_uri": "https://localhost:8080/"
        },
        "id": "TLv7mScObqYo",
        "outputId": "d0e09dad-52b4-44b0-bd86-1f81b8f7e759"
      },
      "execution_count": 33,
      "outputs": [
        {
          "output_type": "stream",
          "name": "stdout",
          "text": [
            "[2, 4, 6, 8, 10, 12, 14, 16, 18, 20, 22, 24, 26, 28, 30, 32, 34, 36, 38, 40, 42, 44, 46, 48, 50]\n"
          ]
        }
      ]
    },
    {
      "cell_type": "code",
      "source": [
        "# str_list의 원소인 문자열들의 길이를 각각 출력하기\n",
        "str_list = [\"approach\", \"declaring\", \"initialized\", \"variable\", \"structure\"]\n",
        "\n",
        "# for문 활용하여 str_list의 원소를 word라는 임시변수로 돌린다.\n",
        "# word의 길이를 출력한다.\n",
        "for word in str_list:\n",
        "    print(f\"{word}의 길이는 {len(word)}\")\n"
      ],
      "metadata": {
        "colab": {
          "base_uri": "https://localhost:8080/"
        },
        "id": "Npn9ovg7cGb3",
        "outputId": "9fb57c47-6ca6-4372-9d99-9b747229b863"
      },
      "execution_count": 34,
      "outputs": [
        {
          "output_type": "stream",
          "name": "stdout",
          "text": [
            "approach의 길이는 8\n",
            "declaring의 길이는 9\n",
            "initialized의 길이는 11\n",
            "variable의 길이는 8\n",
            "structure의 길이는 9\n"
          ]
        }
      ]
    },
    {
      "cell_type": "markdown",
      "source": [
        "### dictionary를 활용한 반복문"
      ],
      "metadata": {
        "id": "gqr3yCoedGaB"
      }
    },
    {
      "cell_type": "markdown",
      "source": [
        "#### 다음 과일 정보가 입력된 fruits 변수를 활용해 아래 문제를 해결하세요."
      ],
      "metadata": {
        "id": "XHrOT67ueJaB"
      }
    },
    {
      "cell_type": "code",
      "source": [
        "# 이 데이터는 실행만 하고 수정 금지\n",
        "fruits = {\"사과\": 3000, \"바나나\": 2000, \"체리\": 2500, \"배\": 4000, \"감\": 1500,\n",
        "          \"오렌지\": 1000, \"석류\": 3500, \"포도\": 3300}"
      ],
      "metadata": {
        "id": "lH7TVEFAdJ64"
      },
      "execution_count": 35,
      "outputs": []
    },
    {
      "cell_type": "markdown",
      "source": [
        "#### 1. fruits에 담긴 과일들의 이름을 출력해보세요."
      ],
      "metadata": {
        "id": "LEFqn1yEeRvQ"
      }
    },
    {
      "cell_type": "code",
      "source": [
        "# for문, 딕셔너리 method 이용하기\n",
        "for name in fruits.keys():\n",
        "    print(name)\n"
      ],
      "metadata": {
        "colab": {
          "base_uri": "https://localhost:8080/"
        },
        "id": "udoJP_WfeMXZ",
        "outputId": "3bcd3846-21ed-44df-a953-fd355bb10163"
      },
      "execution_count": 36,
      "outputs": [
        {
          "output_type": "stream",
          "name": "stdout",
          "text": [
            "사과\n",
            "바나나\n",
            "체리\n",
            "배\n",
            "감\n",
            "오렌지\n",
            "석류\n",
            "포도\n"
          ]
        }
      ]
    },
    {
      "cell_type": "markdown",
      "source": [
        "#### 2. fruits에 담긴 과일들의 이름과 가격을 출력해보세요."
      ],
      "metadata": {
        "id": "RR4mJ5UXeUhY"
      }
    },
    {
      "cell_type": "code",
      "source": [
        "# for문, Unpacking, 딕셔너리 method 이용하기\n",
        "# ex) 사과: 3000원\n",
        "for name, price in fruits.items():\n",
        "    print(f\"{name}: {price}\")\n"
      ],
      "metadata": {
        "colab": {
          "base_uri": "https://localhost:8080/"
        },
        "id": "WCwMZH_JeNJi",
        "outputId": "cd20c114-6e71-4cbe-a10a-15ddfafe77ee"
      },
      "execution_count": 37,
      "outputs": [
        {
          "output_type": "stream",
          "name": "stdout",
          "text": [
            "사과: 3000\n",
            "바나나: 2000\n",
            "체리: 2500\n",
            "배: 4000\n",
            "감: 1500\n",
            "오렌지: 1000\n",
            "석류: 3500\n",
            "포도: 3300\n"
          ]
        }
      ]
    },
    {
      "cell_type": "markdown",
      "source": [
        "#### 3. 가장 비싼 과일과, 가장 싼 과일의 이름과 가격을 각각 출력하세요.\n",
        "- 비싼 과일: 배 4000원\n",
        "- 싼 과일: 오렌지 1000원"
      ],
      "metadata": {
        "id": "13wr3f7KeXZq"
      }
    },
    {
      "cell_type": "code",
      "source": [
        "# 가장 비싼 과일의 데이터를 저장할 expensive 라는 dictionary형식의 변수 지정\n",
        "# key로 \"name\"과 \"price\"를 만들고 적당한 값으로 초기화\n",
        "expensive = {\"name\": \"\", \"price\": 0}\n",
        "\n",
        "# 가장 싼 과일의 데이터를 저장할 cheap라는 dictionary형식의 변수 지정\n",
        "# key로 \"name\"과 \"price\"를 만들고 적당한 값으로 초기화\n",
        "cheap = {\"name\": \"\", \"price\": 99999}\n",
        "\n",
        "# for 문을 활용하여 fruits의 name과 price를 위에 만든 dictionary와 비교한다.\n",
        "# if 문 활용하기\n",
        "\n",
        "for name, price in fruits.items():\n",
        "    if price > expensive[\"price\"]:\n",
        "        expensive[\"name\"] = name\n",
        "        expensive[\"price\"] = price\n",
        "    if price < cheap[\"price\"]:\n",
        "        cheap[\"name\"] = name\n",
        "        cheap[\"price\"] = price\n",
        "\n",
        "# 가장 비싼 과일과 싼 과일의 정보를 출력한다.\n",
        "print(f\"비싼 과일: {expensive['name']} {expensive['price']}\")\n",
        "print(f\"싼 과일: {cheap['name']} {cheap['price']}\")\n"
      ],
      "metadata": {
        "colab": {
          "base_uri": "https://localhost:8080/"
        },
        "id": "hLWOm0psejno",
        "outputId": "cf52b35c-1d80-4c73-a384-a529616f354c"
      },
      "execution_count": 38,
      "outputs": [
        {
          "output_type": "stream",
          "name": "stdout",
          "text": [
            "비싼 과일: 배 4000\n",
            "싼 과일: 오렌지 1000\n"
          ]
        }
      ]
    },
    {
      "cell_type": "markdown",
      "source": [
        "#### 단어 빈도수 계산하기"
      ],
      "metadata": {
        "id": "2-J4sCvQgToy"
      }
    },
    {
      "cell_type": "code",
      "source": [
        "# 다음 문장에서 각 단어가 몇 번씩 등장하는지 dictionary를 만들어 저장하고, 출력하기\n",
        "# 단어의 등장 횟수를 저장할 dictionary 변수 frequency 선언\n",
        "sentence = \"apple banana apple strawberry banana lemon apple lemon\"\n",
        "frequency = {}\n",
        "\n",
        "# 문자열 데이터는 문자열.split() 메서드를 이용하면\n",
        "# 띄어쓰기 단위로 잘라 리스트로 만들어 준다\n",
        "# 문자열을 잘라 str_list 변수로 저장한다.\n",
        "str_list = sentence.split()\n",
        "\n",
        "# for 문 활용, str_list의 원소를 임시변수 word로 돌린다.\n",
        "# frequency에 이미 해당 단어가 있다면 빈도를 1 더해주고,\n",
        "# 없다면 만들어준다.\n",
        "for word in str_list:\n",
        "    if word in frequency.keys():\n",
        "        frequency[word] += 1\n",
        "    else:\n",
        "        frequency[word] = 1\n",
        "\n",
        "# frequency 의 값을 key와 value의 쌍으로 출력한다.\n",
        "for key, value in frequency.items():\n",
        "    print(f\"{key}: {value}회\")\n"
      ],
      "metadata": {
        "colab": {
          "base_uri": "https://localhost:8080/"
        },
        "id": "gfVDIR8LgWB5",
        "outputId": "367941cf-82a4-4309-d343-8dcd8302ec49"
      },
      "execution_count": 39,
      "outputs": [
        {
          "output_type": "stream",
          "name": "stdout",
          "text": [
            "apple: 3회\n",
            "banana: 2회\n",
            "strawberry: 1회\n",
            "lemon: 2회\n"
          ]
        }
      ]
    },
    {
      "cell_type": "markdown",
      "source": [
        "## 별 찍기 (반복문 숙달 훈련)"
      ],
      "metadata": {
        "id": "R8SKp-0L720v"
      }
    },
    {
      "cell_type": "code",
      "source": [
        "# 별 찍기 1\n",
        "# 첫째 줄에는 별 1개, 둘째 줄에는 별 2개, N번째 줄에는 별 N개를 찍는 문제\n",
        "\n",
        "# 입력: 5\n",
        "# *\n",
        "# **\n",
        "# ***\n",
        "# ****\n",
        "# *****\n",
        "n = int(input())\n",
        "\n",
        "for i in range(1, n+1):\n",
        "    print(\"*\" * i)\n"
      ],
      "metadata": {
        "colab": {
          "base_uri": "https://localhost:8080/"
        },
        "id": "CF-LnX7Ao7Xq",
        "outputId": "7ce1a314-2c28-45f7-a906-4ace533747b9"
      },
      "execution_count": 41,
      "outputs": [
        {
          "output_type": "stream",
          "name": "stdout",
          "text": [
            "5\n",
            "*\n",
            "**\n",
            "***\n",
            "****\n",
            "*****\n"
          ]
        }
      ]
    },
    {
      "cell_type": "code",
      "source": [
        "# 별 찍기 2\n",
        "# 첫째 줄에는 별 1개, 둘째 줄에는 별 2개, N번째 줄에는 별 N개를 찍는 문제\n",
        "# 하지만, 오른쪽을 기준으로 정렬한 별(예제 참고)을 출력\n",
        "\n",
        "# 입력: 5\n",
        "#     *\n",
        "#    **\n",
        "#   ***\n",
        "#  ****\n",
        "# *****\n",
        "\n",
        "n = int(input())\n",
        "\n",
        "for i in range(1, n+1):\n",
        "    print(\" \" * (n-i) + \"*\" * i)\n"
      ],
      "metadata": {
        "colab": {
          "base_uri": "https://localhost:8080/"
        },
        "id": "6MMpbfTEp73n",
        "outputId": "dbb99777-beab-42a6-9169-7b2e3a23fdec"
      },
      "execution_count": 42,
      "outputs": [
        {
          "output_type": "stream",
          "name": "stdout",
          "text": [
            "5\n",
            "    *\n",
            "   **\n",
            "  ***\n",
            " ****\n",
            "*****\n"
          ]
        }
      ]
    },
    {
      "cell_type": "code",
      "source": [
        "# 별 찍기 3\n",
        "# 첫째 줄에는 별 N개, 둘째 줄에는 별 N-1개, ..., N번째 줄에는 별 1개를 찍는 문제\n",
        "\n",
        "# 입력: 5\n",
        "# *****\n",
        "# ****\n",
        "# ***\n",
        "# **\n",
        "# *\n",
        "\n",
        "n = int(input())\n",
        "\n",
        "for i in range(n, 0, -1):\n",
        "    print(\"*\" * i)\n"
      ],
      "metadata": {
        "colab": {
          "base_uri": "https://localhost:8080/"
        },
        "id": "9toOrov6qUZ6",
        "outputId": "94ab9ea1-8a13-4bd2-d102-ede17b967d0f"
      },
      "execution_count": 43,
      "outputs": [
        {
          "output_type": "stream",
          "name": "stdout",
          "text": [
            "5\n",
            "*****\n",
            "****\n",
            "***\n",
            "**\n",
            "*\n"
          ]
        }
      ]
    },
    {
      "cell_type": "code",
      "source": [
        "# 별 찍기 4\n",
        "# 첫째 줄에는 별 N개, 둘째 줄에는 별 N-1개, ..., N번째 줄에는 별 1개를 찍는 문제\n",
        "# 하지만, 오른쪽을 기준으로 정렬한 별(예제 참고)을 출력\n",
        "\n",
        "# 입력: 5\n",
        "# *****\n",
        "#  ****\n",
        "#   ***\n",
        "#    **\n",
        "#     *\n",
        "\n",
        "n = int(input())\n",
        "\n",
        "for i in range(n, 0, -1):\n",
        "    print(\" \" * (n-i) + \"*\" * (i))"
      ],
      "metadata": {
        "colab": {
          "base_uri": "https://localhost:8080/"
        },
        "id": "93BVyJbQqiFO",
        "outputId": "f7f9d348-b0e8-44f4-f115-8e3e3e5dc088"
      },
      "execution_count": 44,
      "outputs": [
        {
          "output_type": "stream",
          "name": "stdout",
          "text": [
            "5\n",
            "*****\n",
            " ****\n",
            "  ***\n",
            "   **\n",
            "    *\n"
          ]
        }
      ]
    },
    {
      "cell_type": "code",
      "source": [
        "# 별 찍기 5\n",
        "# 첫째 줄에는 별 1개, 둘째 줄에는 별 3개, ..., N번째 줄에는 별 2×N-1개를 찍는 문제\n",
        "# 별은 가운데를 기준으로 대칭\n",
        "\n",
        "# 입력: 5\n",
        "#     *\n",
        "#    ***\n",
        "#   *****\n",
        "#  *******\n",
        "# *********\n",
        "\n",
        "n = int(input())\n",
        "\n",
        "for i in range(1, n+1):\n",
        "    print(\" \" * (n - i) + \"*\" * (2 * i - 1))"
      ],
      "metadata": {
        "colab": {
          "base_uri": "https://localhost:8080/"
        },
        "id": "XgTcG25fq3F8",
        "outputId": "c8539e79-bc80-443d-ee64-bd9cd76d49bd"
      },
      "execution_count": 45,
      "outputs": [
        {
          "output_type": "stream",
          "name": "stdout",
          "text": [
            "5\n",
            "    *\n",
            "   ***\n",
            "  *****\n",
            " *******\n",
            "*********\n"
          ]
        }
      ]
    },
    {
      "cell_type": "code",
      "source": [
        "# 별 찍기 6\n",
        "# 첫째 줄에는 별 2×N-1개, 둘째 줄에는 별 2×N-3개, ..., N번째 줄에는 별 1개를 찍는 문제\n",
        "# 별은 가운데를 기준으로 대칭\n",
        "\n",
        "# 입력: 5\n",
        "# *********\n",
        "#  *******\n",
        "#   *****\n",
        "#    ***\n",
        "#     *\n",
        "\n",
        "n = int(input())\n",
        "\n",
        "for i in range(n, 0, -1):\n",
        "    print(\" \" * (n - i) + \"*\" * (2 * i - 1))"
      ],
      "metadata": {
        "colab": {
          "base_uri": "https://localhost:8080/"
        },
        "id": "JuQwPOS5rWYZ",
        "outputId": "89a86dc2-3951-4bfc-bdfa-55a674704189"
      },
      "execution_count": 46,
      "outputs": [
        {
          "output_type": "stream",
          "name": "stdout",
          "text": [
            "5\n",
            "*********\n",
            " *******\n",
            "  *****\n",
            "   ***\n",
            "    *\n"
          ]
        }
      ]
    },
    {
      "cell_type": "code",
      "source": [
        "# 별 찍기 7\n",
        "# 예제를 보고 규칙을 유추한 뒤에 별을 찍어 보세요.\n",
        "\n",
        "# 입력: 5\n",
        "#     *\n",
        "#    ***\n",
        "#   *****\n",
        "#  *******\n",
        "# *********\n",
        "#  *******\n",
        "#   *****\n",
        "#    ***\n",
        "#     *\n",
        "\n",
        "n = int(input())\n",
        "\n",
        "for i in range(1, n):\n",
        "    print(\" \" * (n - i) + \"*\" * (2 * i - 1))\n",
        "for i in range(n, 0, -1):\n",
        "    print(\" \" * (n - i) + \"*\" * (2 * i - 1))"
      ],
      "metadata": {
        "colab": {
          "base_uri": "https://localhost:8080/"
        },
        "id": "hC_0pH3brsPI",
        "outputId": "f68b3df7-4b99-491d-cdfe-cdeb12204fe5"
      },
      "execution_count": 47,
      "outputs": [
        {
          "output_type": "stream",
          "name": "stdout",
          "text": [
            "5\n",
            "    *\n",
            "   ***\n",
            "  *****\n",
            " *******\n",
            "*********\n",
            " *******\n",
            "  *****\n",
            "   ***\n",
            "    *\n"
          ]
        }
      ]
    },
    {
      "cell_type": "code",
      "source": [
        "# 별 찍기 8\n",
        "# 예제를 보고 규칙을 유추한 뒤에 별을 찍어 보세요.\n",
        "\n",
        "# 입력: 5\n",
        "# *        *\n",
        "# **      **\n",
        "# ***    ***\n",
        "# ****  ****\n",
        "# **********\n",
        "# ****  ****\n",
        "# ***    ***\n",
        "# **      **\n",
        "# *        *\n",
        "\n",
        "n = int(input())\n",
        "\n",
        "for i in range(1, n):\n",
        "    print(\"*\" * i + \" \" * (2 * (n - i)) + \"*\" * i)\n",
        "for i in range(n, 0, -1):\n",
        "    print(\"*\" * i + \" \" * (2 * (n - i)) + \"*\" * i)\n"
      ],
      "metadata": {
        "colab": {
          "base_uri": "https://localhost:8080/"
        },
        "id": "-XwgpJbfsReB",
        "outputId": "af6244dc-05f9-4041-91cc-fa4dbd30b63b"
      },
      "execution_count": 48,
      "outputs": [
        {
          "output_type": "stream",
          "name": "stdout",
          "text": [
            "5\n",
            "*        *\n",
            "**      **\n",
            "***    ***\n",
            "****  ****\n",
            "**********\n",
            "****  ****\n",
            "***    ***\n",
            "**      **\n",
            "*        *\n"
          ]
        }
      ]
    },
    {
      "cell_type": "code",
      "source": [
        "# 별 찍기 9\n",
        "# 예제를 보고 규칙을 유추한 뒤에 별을 찍어 보세요.\n",
        "\n",
        "# 입력: 5\n",
        "# *********\n",
        "#  *******\n",
        "#   *****\n",
        "#    ***\n",
        "#     *\n",
        "#    ***\n",
        "#   *****\n",
        "#  *******\n",
        "# *********\n",
        "\n",
        "n = int(input())\n",
        "\n",
        "for i in range(n, 1, -1):\n",
        "    print(\" \" * (n-i) + \"*\" * (2 * i - 1))\n",
        "for i in range(1, n+1):\n",
        "    print(\" \" * (n-i) + \"*\" * (2 * i - 1))\n"
      ],
      "metadata": {
        "colab": {
          "base_uri": "https://localhost:8080/"
        },
        "id": "dA_em148s42J",
        "outputId": "828c4264-602c-46f3-b958-82283080cd72"
      },
      "execution_count": 49,
      "outputs": [
        {
          "output_type": "stream",
          "name": "stdout",
          "text": [
            "5\n",
            "*********\n",
            " *******\n",
            "  *****\n",
            "   ***\n",
            "    *\n",
            "   ***\n",
            "  *****\n",
            " *******\n",
            "*********\n"
          ]
        }
      ]
    }
  ]
}