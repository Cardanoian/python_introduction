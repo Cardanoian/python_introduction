{
  "nbformat": 4,
  "nbformat_minor": 0,
  "metadata": {
    "colab": {
      "provenance": [],
      "toc_visible": true
    },
    "kernelspec": {
      "name": "python3",
      "display_name": "Python 3"
    },
    "language_info": {
      "name": "python"
    }
  },
  "cells": [
    {
      "cell_type": "markdown",
      "source": [
        "# 프로그래밍 입문 with Python 1주차"
      ],
      "metadata": {
        "id": "74laQLs9qVhK"
      }
    },
    {
      "cell_type": "code",
      "source": [
        "print(\"hello world!!!\")     # hello world!!! 라는 문자열을 출력"
      ],
      "metadata": {
        "id": "Js9rXjEBska5",
        "colab": {
          "base_uri": "https://localhost:8080/"
        },
        "outputId": "53a95c3b-aa6d-464d-b813-ff872ff64959"
      },
      "execution_count": 1,
      "outputs": [
        {
          "output_type": "stream",
          "name": "stdout",
          "text": [
            "hello world!!!\n"
          ]
        }
      ]
    },
    {
      "cell_type": "code",
      "source": [
        "day = \"토요일\"      # day 라는 변수에 \"토요일\"이라는 문자열 데이터를 할당\n",
        "print(day)          # day 변수의 값을 출력"
      ],
      "metadata": {
        "id": "bEMmSQtUssFz",
        "colab": {
          "base_uri": "https://localhost:8080/"
        },
        "outputId": "4be5ebb4-e3da-4fdb-fcc7-cc56684eff91"
      },
      "execution_count": 2,
      "outputs": [
        {
          "output_type": "stream",
          "name": "stdout",
          "text": [
            "토요일\n"
          ]
        }
      ]
    },
    {
      "cell_type": "markdown",
      "source": [
        "## 변수"
      ],
      "metadata": {
        "id": "RjN46tKSqYSN"
      }
    },
    {
      "cell_type": "code",
      "source": [
        "a = 20\n",
        "b = 3\n",
        "c = d = a * b\n",
        "\n",
        "print(c, d)\n",
        "print(e)    # e라는 변수는 선언된 적이 없어 에러 발생\n",
        "            # name 'e' is not defined  <= 사용자에게 \"너 e라는 변수 만든 적 없잖아!\"라는 의미"
      ],
      "metadata": {
        "colab": {
          "base_uri": "https://localhost:8080/",
          "height": 248
        },
        "id": "3eF41Uczqanv",
        "outputId": "7cb5b572-2742-491d-f7d7-8a7dd4837336"
      },
      "execution_count": 3,
      "outputs": [
        {
          "output_type": "stream",
          "name": "stdout",
          "text": [
            "60 60\n"
          ]
        },
        {
          "output_type": "error",
          "ename": "NameError",
          "evalue": "ignored",
          "traceback": [
            "\u001b[0;31m---------------------------------------------------------------------------\u001b[0m",
            "\u001b[0;31mNameError\u001b[0m                                 Traceback (most recent call last)",
            "\u001b[0;32m<ipython-input-3-a6abc0c9ed65>\u001b[0m in \u001b[0;36m<cell line: 6>\u001b[0;34m()\u001b[0m\n\u001b[1;32m      4\u001b[0m \u001b[0;34m\u001b[0m\u001b[0m\n\u001b[1;32m      5\u001b[0m \u001b[0mprint\u001b[0m\u001b[0;34m(\u001b[0m\u001b[0mc\u001b[0m\u001b[0;34m,\u001b[0m \u001b[0md\u001b[0m\u001b[0;34m)\u001b[0m\u001b[0;34m\u001b[0m\u001b[0;34m\u001b[0m\u001b[0m\n\u001b[0;32m----> 6\u001b[0;31m \u001b[0mprint\u001b[0m\u001b[0;34m(\u001b[0m\u001b[0me\u001b[0m\u001b[0;34m)\u001b[0m    \u001b[0;31m# e라는 변수는 선언된 적이 없어 에러 발생\u001b[0m\u001b[0;34m\u001b[0m\u001b[0;34m\u001b[0m\u001b[0m\n\u001b[0m\u001b[1;32m      7\u001b[0m             \u001b[0;31m# name 'e' is not defined  <= 사용자에게 \"너 e라는 변수 만든 적 없잖아!\"라는 의미\u001b[0m\u001b[0;34m\u001b[0m\u001b[0;34m\u001b[0m\u001b[0m\n",
            "\u001b[0;31mNameError\u001b[0m: name 'e' is not defined"
          ]
        }
      ]
    },
    {
      "cell_type": "markdown",
      "source": [
        "## 표준 입력 함수: input() 함수"
      ],
      "metadata": {
        "id": "XOICBCJRq6to"
      }
    },
    {
      "cell_type": "code",
      "source": [
        "x = input(\"이름을 입력하세요: \")\n",
        "print(x)"
      ],
      "metadata": {
        "id": "ngWGEhYYs5BJ",
        "colab": {
          "base_uri": "https://localhost:8080/"
        },
        "outputId": "b8f9ddd6-191e-4dd2-87aa-4ad59ce3e188"
      },
      "execution_count": 4,
      "outputs": [
        {
          "output_type": "stream",
          "name": "stdout",
          "text": [
            "이름을 입력하세요: \n",
            "\n"
          ]
        }
      ]
    },
    {
      "cell_type": "code",
      "source": [
        "print(\"Enter your name: \")\n",
        "somebody = input()  # 콘솔 창에서 입력한 값을 somebody에 저장\n",
        "print(\"Hi\"+ somebody + \"How are you today?\")"
      ],
      "metadata": {
        "colab": {
          "base_uri": "https://localhost:8080/"
        },
        "id": "BnKSwDOkq9NO",
        "outputId": "dafa630e-f446-433c-deb5-4eb0d46313f4"
      },
      "execution_count": 5,
      "outputs": [
        {
          "output_type": "stream",
          "name": "stdout",
          "text": [
            "Enter your name: \n",
            "\n",
            "HiHow are you today?\n"
          ]
        }
      ]
    },
    {
      "cell_type": "markdown",
      "source": [
        "## 표준 출력 함수: print() 함수"
      ],
      "metadata": {
        "id": "H2xHounRrKzN"
      }
    },
    {
      "cell_type": "code",
      "source": [
        "temperature = input(\"온도를 입력하세요: \")\n",
        "print(temperature)"
      ],
      "metadata": {
        "colab": {
          "base_uri": "https://localhost:8080/"
        },
        "id": "sFyPC4-xrSRj",
        "outputId": "2f79c62c-b8e2-4522-8f5d-ade97f17728c"
      },
      "execution_count": 6,
      "outputs": [
        {
          "output_type": "stream",
          "name": "stdout",
          "text": [
            "온도를 입력하세요: \n",
            "\n"
          ]
        }
      ]
    },
    {
      "cell_type": "markdown",
      "source": [
        "### 출력 포맷"
      ],
      "metadata": {
        "id": "9ZbXRL9brrRq"
      }
    },
    {
      "cell_type": "code",
      "source": [
        "input_str = \"입력값\"\n",
        "output_str = \"출력값\"\n",
        "\n",
        "print(\"입력:\", input_str, \"출력:\",output_str)\n",
        "print(\"입력: {0} 출력: {1}\".format(input_str, output_str))\n",
        "print(f\"입력: {input_str} 출력: {output_str}\")"
      ],
      "metadata": {
        "colab": {
          "base_uri": "https://localhost:8080/"
        },
        "id": "HP4TpvX6rdPk",
        "outputId": "584d659d-ed3e-4cbe-a83e-80f2ade5b74a"
      },
      "execution_count": 7,
      "outputs": [
        {
          "output_type": "stream",
          "name": "stdout",
          "text": [
            "입력: 입력값 출력: 출력값\n",
            "입력: 입력값 출력: 출력값\n",
            "입력: 입력값 출력: 출력값\n"
          ]
        }
      ]
    },
    {
      "cell_type": "markdown",
      "source": [
        "### 실습. 나이 묻고 답하기"
      ],
      "metadata": {
        "id": "ivLSwS2usNVy"
      }
    },
    {
      "cell_type": "code",
      "source": [
        "# ____은 _____살입니다.\n",
        "\n",
        "name = input(\"이름: \")\n",
        "age = input(\"몇 살: \")\n",
        "\n",
        "print(name, \"은\", age, \"살입니다.\")\n",
        "print(\"{0}은 {1}살입니다\".format(name, age))\n",
        "print(f\"{name}은 {age}살입니다.\")"
      ],
      "metadata": {
        "colab": {
          "base_uri": "https://localhost:8080/"
        },
        "id": "8TX3nHrssPT-",
        "outputId": "5da28edf-aa8f-496f-91b2-db0c1bdd1ab2"
      },
      "execution_count": 8,
      "outputs": [
        {
          "output_type": "stream",
          "name": "stdout",
          "text": [
            "이름: 김지원\n",
            "몇 살: 20\n",
            "김지원 은 20 살입니다.\n",
            "김지원은 20살입니다\n",
            "김지원은 20살입니다.\n"
          ]
        }
      ]
    },
    {
      "cell_type": "markdown",
      "source": [
        "### 실습. 로봇 기자 만들기"
      ],
      "metadata": {
        "id": "JEe4hy_2s4Gz"
      }
    },
    {
      "cell_type": "code",
      "source": [
        "stadium = input(\"경기장: \")\n",
        "win_team = input(\"이긴 팀: \")\n",
        "lost_team = input(\"진 팀: \")\n",
        "win_score = input(\"이긴 팀 점수: \")\n",
        "lost_score = input(\"진 팀 점수: \")\n",
        "mvp = input(\"MVP: \")\n",
        "\n",
        "print(f\"오늘 {stadium}에서 {win_team}, {lost_team}의 축구 경기가 열렸습니다.\")\n",
        "print(f\"{mvp}이 맹활약을 하였습니다.\")\n",
        "print(f\"결국 {win_team}이 {lost_team}을 {win_score}:{lost_score}로 이겼습니다.\")"
      ],
      "metadata": {
        "colab": {
          "base_uri": "https://localhost:8080/"
        },
        "id": "q2CudUeBJLFC",
        "outputId": "65049999-f7b5-464d-d93d-2720f7ba194e"
      },
      "execution_count": 9,
      "outputs": [
        {
          "output_type": "stream",
          "name": "stdout",
          "text": [
            "경기장: 상암\n",
            "이긴 팀: 한국\n",
            "진 팀: 중국\n",
            "이긴 팀 점수: 5\n",
            "진 팀 점수: 0\n",
            "MVP: 손흥민\n",
            "오늘 상암에서 한국, 중국의 축구 경기가 열렸습니다.\n",
            "손흥민이 맹활약을 하였습니다.\n",
            "결국 한국이 중국을 5:0로 이겼습니다.\n"
          ]
        }
      ]
    },
    {
      "cell_type": "markdown",
      "source": [
        "## 기본 자료형"
      ],
      "metadata": {
        "id": "dcwv5RdNtDLy"
      }
    },
    {
      "cell_type": "markdown",
      "source": [
        "### 정수형과 실수형 간 변환"
      ],
      "metadata": {
        "id": "04P18QbCuGKX"
      }
    },
    {
      "cell_type": "code",
      "source": [
        "x = input()     # x는 문자열 데이터로 입력\n",
        "print(type(x))\n",
        "print(x)"
      ],
      "metadata": {
        "colab": {
          "base_uri": "https://localhost:8080/"
        },
        "id": "EDtlqU24euDo",
        "outputId": "9f0bc14c-7a15-423b-b4f4-951fb95c231d"
      },
      "execution_count": 10,
      "outputs": [
        {
          "output_type": "stream",
          "name": "stdout",
          "text": [
            "001\n",
            "<class 'str'>\n",
            "001\n"
          ]
        }
      ]
    },
    {
      "cell_type": "code",
      "source": [
        "x = int(input())    # x에 문자열 데이터를 정수형으로 바꿔 할당\n",
        "print(type(x))\n",
        "print(x)"
      ],
      "metadata": {
        "colab": {
          "base_uri": "https://localhost:8080/"
        },
        "id": "f0HcnTgpfDib",
        "outputId": "6264c8f6-9b9a-4b67-de1f-efcc0bc54bb0"
      },
      "execution_count": 11,
      "outputs": [
        {
          "output_type": "stream",
          "name": "stdout",
          "text": [
            "001\n",
            "<class 'int'>\n",
            "1\n"
          ]
        }
      ]
    },
    {
      "cell_type": "code",
      "source": [
        "x = float(input())  # x에 문자열 데이터를 실수형(소수)으로 바꿔 할당\n",
        "print(type(x))\n",
        "print(x)"
      ],
      "metadata": {
        "colab": {
          "base_uri": "https://localhost:8080/"
        },
        "id": "dUYv5P9dfRHW",
        "outputId": "dc7e64fb-f8b0-4bbf-f419-646e493966f5"
      },
      "execution_count": 12,
      "outputs": [
        {
          "output_type": "stream",
          "name": "stdout",
          "text": [
            "001\n",
            "<class 'float'>\n",
            "1.0\n"
          ]
        }
      ]
    },
    {
      "cell_type": "code",
      "source": [
        "bool(1) # 값이 있으면 True, 없으면 False를 반환"
      ],
      "metadata": {
        "colab": {
          "base_uri": "https://localhost:8080/"
        },
        "id": "V964NWyKfw_C",
        "outputId": "473b3fe8-511a-4d9c-9ed5-5f19773ee4bf"
      },
      "execution_count": 13,
      "outputs": [
        {
          "output_type": "execute_result",
          "data": {
            "text/plain": [
              "True"
            ]
          },
          "metadata": {},
          "execution_count": 13
        }
      ]
    },
    {
      "cell_type": "code",
      "source": [
        "bool(0) # 0은 숫자의 크기가 없다는 의미라 False를 반환"
      ],
      "metadata": {
        "colab": {
          "base_uri": "https://localhost:8080/"
        },
        "id": "PXKx3hVyf587",
        "outputId": "9847979d-1a85-4eb7-efe5-7c0b536e96f0"
      },
      "execution_count": 14,
      "outputs": [
        {
          "output_type": "execute_result",
          "data": {
            "text/plain": [
              "False"
            ]
          },
          "metadata": {},
          "execution_count": 14
        }
      ]
    },
    {
      "cell_type": "code",
      "source": [
        "print(bool(1000), bool(1.5), bool(-3))  # 0이 아닌 수라면 자연수, 소수, 음수 상관없이 True를 반환"
      ],
      "metadata": {
        "colab": {
          "base_uri": "https://localhost:8080/"
        },
        "id": "L7j1xz_xf81C",
        "outputId": "fbb4861d-1a2d-445a-c666-fd782799916c"
      },
      "execution_count": 15,
      "outputs": [
        {
          "output_type": "stream",
          "name": "stdout",
          "text": [
            "True True True\n"
          ]
        }
      ]
    },
    {
      "cell_type": "code",
      "source": [
        "bool(\"\")    # 문자열도 값이 없으면 False 반환"
      ],
      "metadata": {
        "colab": {
          "base_uri": "https://localhost:8080/"
        },
        "id": "Vq7KUBUDgGFN",
        "outputId": "db56f7f0-0e55-4467-a0ee-347f115d51ee"
      },
      "execution_count": 16,
      "outputs": [
        {
          "output_type": "execute_result",
          "data": {
            "text/plain": [
              "False"
            ]
          },
          "metadata": {},
          "execution_count": 16
        }
      ]
    },
    {
      "cell_type": "code",
      "source": [
        "bool(\"asna\")    # 값이 있는 문자열은 True반환"
      ],
      "metadata": {
        "colab": {
          "base_uri": "https://localhost:8080/"
        },
        "id": "qEKf4LU-gLNY",
        "outputId": "d1703264-a7b7-4604-b69d-ac25a79dd546"
      },
      "execution_count": 17,
      "outputs": [
        {
          "output_type": "execute_result",
          "data": {
            "text/plain": [
              "True"
            ]
          },
          "metadata": {},
          "execution_count": 17
        }
      ]
    },
    {
      "cell_type": "code",
      "source": [
        "a = int(10.7)\n",
        "b = int(10.3)\n",
        "\n",
        "print(a + b)    # 정수형 a와 b의 합을 출력\n",
        "print(a)        # 정수형 a값 출력\n",
        "print(b)        # 정수형 b값 출력"
      ],
      "metadata": {
        "colab": {
          "base_uri": "https://localhost:8080/"
        },
        "id": "Vn_ObyjaQeIv",
        "outputId": "bb742383-f8aa-40fb-e99f-b58b95c1fb5a"
      },
      "execution_count": 18,
      "outputs": [
        {
          "output_type": "stream",
          "name": "stdout",
          "text": [
            "20\n",
            "10\n",
            "10\n"
          ]
        }
      ]
    },
    {
      "cell_type": "code",
      "source": [
        "x = input(\"x: \")    # 100\n",
        "y = input(\"y: \")    # 200\n",
        "print(x + y)"
      ],
      "metadata": {
        "colab": {
          "base_uri": "https://localhost:8080/"
        },
        "id": "2UOVtuEogM0D",
        "outputId": "2b860ee6-9dc2-42b3-d795-9674d9c067de"
      },
      "execution_count": 19,
      "outputs": [
        {
          "output_type": "stream",
          "name": "stdout",
          "text": [
            "x: 100\n",
            "y: 200\n",
            "100200\n"
          ]
        }
      ]
    },
    {
      "cell_type": "code",
      "source": [
        "x = int(input(\"x: \"))   # 100\n",
        "y = int(input(\"y: \"))   # 200\n",
        "print(x + y)"
      ],
      "metadata": {
        "colab": {
          "base_uri": "https://localhost:8080/"
        },
        "id": "gRbs8hDAgs3k",
        "outputId": "3219e342-fc3b-436a-a6a7-a9d90d59e91c"
      },
      "execution_count": 20,
      "outputs": [
        {
          "output_type": "stream",
          "name": "stdout",
          "text": [
            "x: 100\n",
            "y: 200\n",
            "300\n"
          ]
        }
      ]
    },
    {
      "cell_type": "markdown",
      "source": [
        "### 숫자형과 문자형 간 변환"
      ],
      "metadata": {
        "id": "GptKfM6OuRFS"
      }
    },
    {
      "cell_type": "code",
      "source": [
        "a = 3.14        # a에 3.14 할당(정수)\n",
        "b = 1592        # b에 1592 할당(실수)\n",
        "print(a + b)    # 두 수의 합을 출력"
      ],
      "metadata": {
        "colab": {
          "base_uri": "https://localhost:8080/"
        },
        "id": "uQL_PzWthbYQ",
        "outputId": "099e35c4-b98a-4b2d-e0ed-f821d91a5972"
      },
      "execution_count": 21,
      "outputs": [
        {
          "output_type": "stream",
          "name": "stdout",
          "text": [
            "1595.14\n"
          ]
        }
      ]
    },
    {
      "cell_type": "code",
      "source": [
        "a = str(3.14)   # 실수형 a값을 문자열로 변환 후 a에 할당\n",
        "b = str(1592)   # 실수형 b값을 문자열로 변환 후 b에 할당\n",
        "print(a + b)    # 두 값을 더한 후 출력"
      ],
      "metadata": {
        "colab": {
          "base_uri": "https://localhost:8080/"
        },
        "id": "yiqKGYPpheEV",
        "outputId": "e41dcdc2-448d-430f-fe1d-e3eee1b8584b"
      },
      "execution_count": 22,
      "outputs": [
        {
          "output_type": "stream",
          "name": "stdout",
          "text": [
            "3.141592\n"
          ]
        }
      ]
    },
    {
      "cell_type": "markdown",
      "source": [
        "### 자료형 확인하기"
      ],
      "metadata": {
        "id": "7KAWESeYuU8h"
      }
    },
    {
      "cell_type": "code",
      "source": [
        "a = int(10.3)   # 정수형으로 10.3을 할당\n",
        "b = float(10.3) # 실수형으로 10.3을 할당\n",
        "c = str(10.3)   # 문자형으로 10.3을 할당\n",
        "\n",
        "print(type(a))  # a의 타입을 출력\n",
        "print(type(b))  # b의 타입을 출력\n",
        "print(type(c))  # c의 타입을 출력"
      ],
      "metadata": {
        "colab": {
          "base_uri": "https://localhost:8080/"
        },
        "id": "umSNeKTHQ8ia",
        "outputId": "a3fafc2a-934e-4912-9414-11ba78545813"
      },
      "execution_count": 23,
      "outputs": [
        {
          "output_type": "stream",
          "name": "stdout",
          "text": [
            "<class 'int'>\n",
            "<class 'float'>\n",
            "<class 'str'>\n"
          ]
        }
      ]
    },
    {
      "cell_type": "markdown",
      "source": [
        "### 산술연산자"
      ],
      "metadata": {
        "id": "lGCxMHJuuXq5"
      }
    },
    {
      "cell_type": "code",
      "source": [
        "a = -4\n",
        "b = 2\n",
        "print(f\"{a} + {b} = {a + b}\")   # 덧셈\n",
        "print(f\"{a} - {b} = {a - b}\")   # 뺄셈\n",
        "print(f\"{a} * {b} = {a * b}\")   # 곱셈\n",
        "print(f\"{a} / {b} = {a / b}\")   # 실수 나눗셈\n",
        "print(f\"{a} // {b} = {a // b}\") # 정수 나눗셈(몫만 표시)\n",
        "print(f\"{a} % {b} = {a % b}\")   # 나머지\n",
        "print(f\"{a} ** {b} = {a ** b}\") # 거듭제곱"
      ],
      "metadata": {
        "colab": {
          "base_uri": "https://localhost:8080/"
        },
        "id": "coCSm9uOQ8lp",
        "outputId": "9a80c01c-98e8-4928-f134-fa765862d466"
      },
      "execution_count": 24,
      "outputs": [
        {
          "output_type": "stream",
          "name": "stdout",
          "text": [
            "-4 + 2 = -2\n",
            "-4 - 2 = -6\n",
            "-4 * 2 = -8\n",
            "-4 / 2 = -2.0\n",
            "-4 // 2 = -2\n",
            "-4 % 2 = 0\n",
            "-4 ** 2 = 16\n"
          ]
        }
      ]
    },
    {
      "cell_type": "markdown",
      "source": [
        "### 관계연산자"
      ],
      "metadata": {
        "id": "fXKkUMXZuapR"
      }
    },
    {
      "cell_type": "code",
      "source": [
        "3 == 1 + 2  # 양 쪽이 같으면 True를 반환"
      ],
      "metadata": {
        "colab": {
          "base_uri": "https://localhost:8080/"
        },
        "id": "MCzkOlLhfg8r",
        "outputId": "82bf4d83-4337-4e14-896a-8b2027e2fbc4"
      },
      "execution_count": 25,
      "outputs": [
        {
          "output_type": "execute_result",
          "data": {
            "text/plain": [
              "True"
            ]
          },
          "metadata": {},
          "execution_count": 25
        }
      ]
    },
    {
      "cell_type": "code",
      "source": [
        "3 != 1 + 2  # 양 쪽이 같아서 False를 반환"
      ],
      "metadata": {
        "colab": {
          "base_uri": "https://localhost:8080/"
        },
        "id": "nCAafZHwfqTX",
        "outputId": "9af554f5-b44b-441d-db64-cae025ab04c6"
      },
      "execution_count": 26,
      "outputs": [
        {
          "output_type": "execute_result",
          "data": {
            "text/plain": [
              "False"
            ]
          },
          "metadata": {},
          "execution_count": 26
        }
      ]
    },
    {
      "cell_type": "code",
      "source": [
        "a = 10\n",
        "b = 5\n",
        "\n",
        "print(a == b)\n",
        "print(a != b)\n",
        "print(a > b)\n",
        "print(a < b)\n",
        "print(a >= b)\n",
        "print(a <= b)"
      ],
      "metadata": {
        "colab": {
          "base_uri": "https://localhost:8080/"
        },
        "id": "KPvNjgPxQ8pI",
        "outputId": "e1ec0d99-fae5-403f-d5b7-98144959c244"
      },
      "execution_count": 27,
      "outputs": [
        {
          "output_type": "stream",
          "name": "stdout",
          "text": [
            "False\n",
            "True\n",
            "True\n",
            "False\n",
            "True\n",
            "False\n"
          ]
        }
      ]
    },
    {
      "cell_type": "markdown",
      "source": [
        "### 논리연산자"
      ],
      "metadata": {
        "id": "itlNxMUSudcG"
      }
    },
    {
      "cell_type": "code",
      "source": [
        "age = int(input(\"나이는 몇 살: \"))\n",
        "height = int(input(\"키는 얼마: \"))\n",
        "\n",
        "print(age >= 10 and height >= 165)  # and를 사용하여 두 값이 모두 True이면 True"
      ],
      "metadata": {
        "id": "qaGj5Sj6uecs",
        "colab": {
          "base_uri": "https://localhost:8080/"
        },
        "outputId": "b7d246d7-579d-4d3e-a06c-e391e72ac1d1"
      },
      "execution_count": 28,
      "outputs": [
        {
          "output_type": "stream",
          "name": "stdout",
          "text": [
            "나이는 몇 살: 18\n",
            "키는 얼마: 150\n",
            "False\n"
          ]
        }
      ]
    }
  ]
}